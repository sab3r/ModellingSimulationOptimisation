{
 "cells": [
  {
   "cell_type": "markdown",
   "metadata": {},
   "source": [
    "# Modelling, Simulation and Optimisation (MSO) Project\n",
    "\n",
    "**Student Name:** Soham Sameer More<br/>\n",
    "**Student ID:** x19149140<br/>\n",
    "M.Sc. Data Analytics (Jan 2020)<br/>\n",
    "\n",
    "<hr>"
   ]
  },
  {
   "cell_type": "markdown",
   "metadata": {},
   "source": [
    "# Table of Contents\n",
    "\n",
    "1. [Import Libraries](#1.-Import-Libraries)\n",
    "2. [Time Conversion Functions](#2.-Time-Conversion-Functions)\n",
    "3. [Global Variables](#3.-Global-Variables)\n",
    "4. [Disruption Data](#4.-Disruption-Data)\n",
    "5. [Random Delay/Disruption Generator](#5.-Random-Delay/Disruption-Generator)\n",
    "6. [Classes](#6.-Important-Classes-used-in-this-Simulation)\n",
    "    1. [Disruption Class](#6.1-Disruption-Class)\n",
    "    2. [Signalling Block Class](#6.2-Signalling-Block-Class)\n",
    "    3. [Train Class](#6.3-Train-Class)\n",
    "7. [Function to run the Simulation](#7.-Function-to-run-the-Simulation)\n",
    "8. [Functions to Print Disruption and Simulation Results](#8.-Functions-to-Print-Disruption-and-Simulation-Results)\n",
    "9. [Part 1: Simulation](#9.-Part-1:-Simulation)\n",
    "    1. [Verbose Simulation](#9.1-Verbose-Simulation)\n",
    "    2. [Plot Distributions](#9.2-Plot-Distributions)\n",
    "10. [Part 2: Optimisation](#10.-Part-2:-Optimization)\n",
    "    1. [Hill Climbing Optimization Algorithm](#10.1-Hill-Climbing-Algorithm)\n",
    "11. [Optimization Results](#11.-Optimization-Results)\n",
    "    1. [Optimization without Random Delays](#11.1-Optimization-without-Random-Delays)\n",
    "    2. [Optimization with Random Delays](#11.2-Optimization-with-Random-Delays)\n",
    "12. [References](#References)"
   ]
  },
  {
   "cell_type": "markdown",
   "metadata": {},
   "source": [
    "## Design Decisions\n",
    "\n",
    "For the simulation in this project the SimPy Python library was considered. However, the basic Python control structures provided more freedom and control over the calculations of dynamic variables like Speed of the train, Acceleration of the train, Distance covered by the train. It provided a more accurate representation of the simulation and handled the disruption events and delays appropriately.\n",
    "\n",
    "**_That is why instead of using SimPy basic Python control structures are used to implement this project._**"
   ]
  },
  {
   "cell_type": "markdown",
   "metadata": {},
   "source": [
    "# 1. Import Libraries"
   ]
  },
  {
   "cell_type": "code",
   "execution_count": 65,
   "metadata": {},
   "outputs": [],
   "source": [
    "# All the imports used in this file\n",
    "\n",
    "\n",
    "import numpy as np\n",
    "from matplotlib import pyplot as plt\n",
    "from matplotlib.animation import FuncAnimation\n",
    "\n",
    "from tqdm.notebook import tqdm\n",
    "\n",
    "import plotly.express as px\n",
    "\n",
    "###################\n",
    "# BUG REQUIREMENT #\n",
    "###################\n",
    "# Used twice because of a bug in matplotlib =>\n",
    "\n",
    "%matplotlib notebook\n",
    "%matplotlib notebook\n",
    "\n",
    "\n",
    "plt.style.use('seaborn-pastel')\n",
    "\n",
    "import pandas as pd\n",
    "import random\n",
    "\n",
    "from random import seed\n",
    "from random import gauss\n",
    "\n",
    "\n",
    "# Set random seed:\n",
    "seed(123)"
   ]
  },
  {
   "cell_type": "markdown",
   "metadata": {},
   "source": [
    "# 2. Time Conversion Functions"
   ]
  },
  {
   "cell_type": "code",
   "execution_count": 66,
   "metadata": {},
   "outputs": [],
   "source": [
    "## Functions used to convert seconds to Time (Hours : Minutes : Seconds ) format\n",
    "\n",
    "def convert(seconds): \n",
    "    seconds = seconds + config['start_hour'] * 3600\n",
    "    seconds = seconds % (24 * 3600) \n",
    "    hour = (seconds // 3600)\n",
    "    seconds %= 3600\n",
    "    minutes = seconds // 60\n",
    "    seconds %= 60\n",
    "      \n",
    "    return \"%s:%02d:%02d\" % (str(hour).zfill(2), minutes, seconds)\n",
    "\n",
    "def convertDifference(seconds): \n",
    "    #seconds = seconds % (3600) \n",
    "    hour = (seconds // 3600)\n",
    "    seconds %= 3600\n",
    "    minutes = seconds // 60\n",
    "    seconds %= 60\n",
    "      \n",
    "    return \"%d:%02d:%02d\" % (hour, minutes, seconds)"
   ]
  },
  {
   "cell_type": "markdown",
   "metadata": {},
   "source": [
    "# 3. Global Variables \n",
    "\n",
    "These variables are used throughout the program and are used in all the calculations.\n",
    "\n",
    "**reset_config** function is used to reset all the global variables."
   ]
  },
  {
   "cell_type": "code",
   "execution_count": 67,
   "metadata": {},
   "outputs": [],
   "source": [
    "config = {\n",
    "    'blocks' : [],                 # List of signalling blocks\n",
    "    'trains' : [],                 # List of trains\n",
    "    'block_length' : 0,            # Length of a single signalling block\n",
    "    'trains_count' : 0,            # Number of trains\n",
    "    'blocks_count' : 0,            # Number of signalling blocks\n",
    "    'track_length' : 0,            # Total track length in kilometers\n",
    "    'track_length_meters' : 0,     # Total track length in meters\n",
    "    'hours' : 0,                   # Hours of operation in a day \n",
    "    'minutes' : 0,                 # Minutes of operation in a day\n",
    "    'seconds' : 0,                 # Seconds of operation in a day\n",
    "    'start_hour' : 0,              # First train time (ex: 7 AM)\n",
    "    'disruptions' : [],            # List of disruption events\n",
    "    'train_interval' : 0,          # Seconds between 2 trains\n",
    "    'time_unit' : 1,               # Run the simulation per second (1) or per one tenth of a second (0.1)\n",
    "    'time_now' : 0,                # Current time in simulation\n",
    "    'animate' : None,              # Used to store simulation animation object\n",
    "}\n",
    "\n",
    "\n",
    "def reset_config(trains_per_hour, blocks_count):\n",
    "    global config\n",
    "    config['blocks'] = []\n",
    "    config['trains'] = []\n",
    "    config['blocks_count'] = blocks_count\n",
    "    config['track_length_km'] = 145                                     # Track length in kilometers\n",
    "    config['track_length_meters'] = config['track_length_km'] * 1000    # Track length in meters\n",
    "    config['hours'] = 15                 # 7 AM to 10 PM\n",
    "    config['minutes'] = config['hours'] * 60\n",
    "    config['seconds'] = config['minutes'] * 60\n",
    "    config['trains_count'] = trains_per_hour * config['hours']\n",
    "    config['start_hour'] = 7                                            # First train starts at 7:00 AM \n",
    "    config['block_length'] = config['track_length_meters'] / config['blocks_count']\n",
    "    config['disruptions'] = []\n",
    "    config['train_interval'] = config['seconds'] // config['trains_count']\n",
    "    config['time_now'] = 0\n",
    "    config['animate'] = None"
   ]
  },
  {
   "cell_type": "markdown",
   "metadata": {},
   "source": [
    "# 4. Disruption Data\n",
    "\n",
    "The **disruptions** dataframe contains the details of the type of disruption and the respective frequency, mean, and standard deviation. This data taken from the study by Yuxiang Yand et al [1] of the High Speed Trains in China. \n",
    "\n"
   ]
  },
  {
   "cell_type": "code",
   "execution_count": 68,
   "metadata": {},
   "outputs": [
    {
     "name": "stdout",
     "output_type": "stream",
     "text": [
      "   causes                            description  frequency_percentage  \\\n",
      "0      HE                            Human Error                  2.60   \n",
      "1     FBI                  Foreign Body Invasion                 14.86   \n",
      "2      BW                            Bad Weather                 16.78   \n",
      "3      ND                       Natural Disaster                  1.73   \n",
      "4      PI                    Passenger Influence                  3.53   \n",
      "5      VF                          Vehicle Fault                 13.99   \n",
      "6    TPSF        Traction and Power Supply Fault                 19.01   \n",
      "7    DCSF   Dispatching and Control System Fault                 22.11   \n",
      "8    CSSF  Communication and Signal System Fault                  1.30   \n",
      "9      LF                             Line Fault                  3.72   \n",
      "10     OP                         Other Problems                  0.37   \n",
      "\n",
      "    trains_delayed_percentage  standard_deviation  mean  \n",
      "0                        4.13                  29   102  \n",
      "1                       14.77                  26   114  \n",
      "2                       27.69                  50   166  \n",
      "3                        7.14                  81   599  \n",
      "4                        3.45                  13    45  \n",
      "5                        9.48                  26   102  \n",
      "6                       13.87                  26    91  \n",
      "7                       12.78                  41   128  \n",
      "8                        1.96                  17    37  \n",
      "9                        4.38                  26    81  \n",
      "10                       0.33                   9    28  \n"
     ]
    }
   ],
   "source": [
    "\n",
    "\n",
    "disruptions = pd.DataFrame()\n",
    "\n",
    "disruptions['causes'] = ['HE', 'FBI', 'BW', 'ND', 'PI', 'VF', 'TPSF', 'DCSF', 'CSSF', 'LF', 'OP']\n",
    "disruptions['description'] = ['Human Error', 'Foreign Body Invasion', 'Bad Weather', 'Natural Disaster', 'Passenger Influence', 'Vehicle Fault', 'Traction and Power Supply Fault', 'Dispatching and Control System Fault', 'Communication and Signal System Fault', 'Line Fault', 'Other Problems']\n",
    "disruptions['frequency_percentage'] = [2.6, 14.86, 16.78, 1.73, 3.53, 13.99, 19.01, 22.11, 1.3, 3.72, 0.37]\n",
    "disruptions['trains_delayed_percentage'] =  [4.13, 14.77, 27.69, 7.14, 3.45, 9.48, 13.87, 12.78, 1.96, 4.38, 0.33]\n",
    "disruptions['standard_deviation'] = [29, 26, 50, 81, 13, 26, 26, 41, 17, 26, 9]\n",
    "disruptions['mean'] = [102, 114, 166, 599, 45, 102, 91, 128, 37, 81, 28]\n",
    "\n",
    "print(disruptions)"
   ]
  },
  {
   "cell_type": "markdown",
   "metadata": {},
   "source": [
    "# 5. Random Delay/Disruption Generator\n",
    "\n",
    "The **generate_disruptions** function generates random disruption and delays based on the data available in the above **disruptions** dataframe.\n",
    "\n",
    "A Disruption object is generated for every disruptive event and is added to the global list config['disruptions']."
   ]
  },
  {
   "cell_type": "code",
   "execution_count": 69,
   "metadata": {},
   "outputs": [],
   "source": [
    "# generate delays due to disruption\n",
    "\n",
    "\n",
    "\n",
    "def generate_disruptions():\n",
    "    global config\n",
    "    for index, row in disruptions.iterrows():\n",
    "        if row['causes'] == 'HE':\n",
    "            if random.randint(0,10000) <= row['frequency_percentage']*100:\n",
    "                trains_delayed = int(row['trains_delayed_percentage']/100 * config['trains_count'])\n",
    "                delay_duration = trains_delayed * config['train_interval']\n",
    "                speed_limit = 0\n",
    "                cause = row['description']\n",
    "                start_time = random.randint(0,config['seconds'])\n",
    "                block = random.randint(0, config['blocks_count'] - 1)\n",
    "                disruption = Disruption()\n",
    "                disruption.disrupt_one_block(delay_duration, speed_limit, cause, start_time, block)\n",
    "                config['disruptions'].append(disruption)\n",
    "        if row['causes'] == 'FBI':\n",
    "            if random.randint(0,10000) <= row['frequency_percentage']*100:\n",
    "                trains_delayed = int(row['trains_delayed_percentage']/100 * config['trains_count'])\n",
    "                delay_duration = trains_delayed * config['train_interval']\n",
    "                speed_limit = 0\n",
    "                cause = row['description']\n",
    "                start_time = random.randint(0,config['seconds'])\n",
    "                block = random.randint(0, config['blocks_count'] - 1)\n",
    "                disruption = Disruption()\n",
    "                disruption.disrupt_one_block(delay_duration, speed_limit, cause, start_time, block)\n",
    "                config['disruptions'].append(disruption)\n",
    "        if row['causes'] == 'BW':\n",
    "            if random.randint(0,10000) <= row['frequency_percentage']*100:\n",
    "                trains_delayed = int(row['trains_delayed_percentage']/100 * config['trains_count'])\n",
    "                delay_duration = trains_delayed * config['train_interval']\n",
    "                speed_limit = 40\n",
    "                cause = row['description']\n",
    "                start_time = random.randint(0,config['seconds'])\n",
    "                block = random.randint(0, config['blocks_count'] - 1)\n",
    "                disruption = Disruption()\n",
    "                disruption.disrupt_all_blocks(delay_duration, speed_limit, cause, start_time)\n",
    "                config['disruptions'].append(disruption)\n",
    "        if row['causes'] == 'ND':\n",
    "            if random.randint(0,10000) <= row['frequency_percentage']*100:\n",
    "                trains_delayed = int(row['trains_delayed_percentage']/100 * config['trains_count'])\n",
    "                delay_duration = trains_delayed * config['train_interval']\n",
    "                speed_limit = 20\n",
    "                cause = row['description']\n",
    "                start_time = random.randint(0,config['seconds'])\n",
    "                block = random.randint(0, config['blocks_count'] - 1)\n",
    "                disruption = Disruption()\n",
    "                disruption.disrupt_all_blocks(delay_duration, speed_limit, cause, start_time)\n",
    "                config['disruptions'].append(disruption)\n",
    "        if row['causes'] == 'PI':\n",
    "            if random.randint(0,10000) <= row['frequency_percentage']*100:\n",
    "                trains_delayed = int(row['trains_delayed_percentage']/100 * config['trains_count'])\n",
    "                delay_duration = trains_delayed * config['train_interval']\n",
    "                speed_limit = 20\n",
    "                cause = row['description']\n",
    "                start_time = random.randint(0,config['seconds'])\n",
    "                block = random.randint(0, config['blocks_count'] - 1)\n",
    "                disruption = Disruption()\n",
    "                disruption.disrupt_one_block(delay_duration, speed_limit, cause, start_time, block)\n",
    "                config['disruptions'].append(disruption)\n",
    "        if row['causes'] == 'VF':\n",
    "            if random.randint(0,10000) <= row['frequency_percentage']*100:\n",
    "                trains_delayed = int(row['trains_delayed_percentage']/100 * config['trains_count'])\n",
    "                delay_duration = trains_delayed * config['train_interval']\n",
    "                speed_limit = 0\n",
    "                cause = row['description']\n",
    "                start_time = random.randint(0,config['seconds'])\n",
    "                block = random.randint(0, config['blocks_count'] - 1)\n",
    "                disruption = Disruption()\n",
    "                disruption.disrupt_one_block(delay_duration, speed_limit, cause, start_time, block)\n",
    "                config['disruptions'].append(disruption)\n",
    "        if row['causes'] == 'TPSF':\n",
    "            if random.randint(0,10000) <= row['frequency_percentage']*100:\n",
    "                trains_delayed = int(row['trains_delayed_percentage']/100 * config['trains_count'])\n",
    "                delay_duration = trains_delayed * config['train_interval']\n",
    "                speed_limit = 50\n",
    "                cause = row['description']\n",
    "                start_time = random.randint(0,config['seconds'])\n",
    "                block = random.randint(0, config['blocks_count'] - 1)\n",
    "                disruption = Disruption()\n",
    "                disruption.disrupt_one_block(delay_duration, speed_limit, cause, start_time, block)\n",
    "                config['disruptions'].append(disruption)\n",
    "        if row['causes'] == 'DCSF':\n",
    "            if random.randint(0,10000) <= row['frequency_percentage']*100:\n",
    "                trains_delayed = int(row['trains_delayed_percentage']/100 * config['trains_count'])\n",
    "                delay_duration = trains_delayed * config['train_interval']\n",
    "                speed_limit = 30\n",
    "                cause = row['description']\n",
    "                start_time = random.randint(0,config['seconds'])\n",
    "                block = random.randint(0, config['blocks_count'] - 1)\n",
    "                disruption = Disruption()\n",
    "                disruption.disrupt_one_block(delay_duration, speed_limit, cause, start_time, block)\n",
    "                config['disruptions'].append(disruption)\n",
    "        if row['causes'] == 'CSSF':\n",
    "            if random.randint(0,10000) <= row['frequency_percentage']*100:\n",
    "                trains_delayed = int(row['trains_delayed_percentage']/100 * config['trains_count'])\n",
    "                delay_duration = trains_delayed * config['train_interval']\n",
    "                speed_limit = 60\n",
    "                cause = row['description']\n",
    "                start_time = random.randint(0,config['seconds'])\n",
    "                block = random.randint(0, config['blocks_count'] - 1)\n",
    "                disruption = Disruption()\n",
    "                disruption.disrupt_one_block(delay_duration, speed_limit, cause, start_time, block)\n",
    "                config['disruptions'].append(disruption)\n",
    "        if row['causes'] == 'LF':\n",
    "            if random.randint(0,10000) <= row['frequency_percentage']*100:\n",
    "                trains_delayed = int(row['trains_delayed_percentage']/100 * config['trains_count'])\n",
    "                delay_duration = trains_delayed * config['train_interval']\n",
    "                speed_limit = 0\n",
    "                cause = row['description']\n",
    "                start_time = random.randint(0,config['seconds'])\n",
    "                block = random.randint(0, config['blocks_count'] - 1)\n",
    "                disruption = Disruption()\n",
    "                disruption.disrupt_one_block(delay_duration, speed_limit, cause, start_time, block)\n",
    "                config['disruptions'].append(disruption)\n",
    "        if row['causes'] == 'OP':\n",
    "            if random.randint(0,10000) <= row['frequency_percentage']*100:\n",
    "                trains_delayed = int(row['trains_delayed_percentage']/100 * config['trains_count'])\n",
    "                delay_duration = trains_delayed * config['train_interval']\n",
    "                speed_limit = 50\n",
    "                cause = row['description']\n",
    "                start_time = random.randint(0,config['seconds'])\n",
    "                block = random.randint(0, config['blocks_count'] - 1)\n",
    "                disruption = Disruption()\n",
    "                disruption.disrupt_one_block(delay_duration, speed_limit, cause, start_time, block)\n",
    "                config['disruptions'].append(disruption)\n",
    "        \n",
    "        #print(row['frequency_percentage'])\n",
    "    \n",
    "\n"
   ]
  },
  {
   "cell_type": "markdown",
   "metadata": {},
   "source": [
    "# 6. Important Classes used in this Simulation"
   ]
  },
  {
   "cell_type": "markdown",
   "metadata": {},
   "source": [
    "# 6.1 Disruption Class\n",
    "\n",
    "Every disruption event is represented by an object class. This **Disruption Class** is defined below.\n",
    "\n",
    "Every disruption event (class) has methods like disrupt_all_blocks(), disrupt_one_block(), update_status(), manual_disruption(), is_active() and block_disruption()."
   ]
  },
  {
   "cell_type": "code",
   "execution_count": 70,
   "metadata": {},
   "outputs": [],
   "source": [
    "class Disruption:\n",
    "    global config\n",
    "    \n",
    "    def __init__(self):\n",
    "        self.disruption_time = 0\n",
    "        self.disruption_time_left = 0\n",
    "        self.disruption_cause = ''\n",
    "        self.disrupted_blocks = []\n",
    "        self.speed_limit = 86.1\n",
    "        self.disruption_active = 0\n",
    "        self.disruption_start_time = 0\n",
    "    \n",
    "    def disrupt_all_blocks(self, duration, speed_limit, cause, start_time):\n",
    "        for i in range(0, config['blocks_count']):\n",
    "            self.disrupted_blocks.append(i)\n",
    "        self.speed_limit = speed_limit\n",
    "        self.disruption_cause = cause\n",
    "        self.disruption_start_time = start_time\n",
    "        self.disruption_time = duration\n",
    "        self.disruption_time_left = duration\n",
    "        \n",
    "    def disrupt_one_block(self, duration, speed_limit, cause, start_time, block):\n",
    "        self.disrupted_blocks.append(block)\n",
    "        self.speed_limit = speed_limit\n",
    "        self.disruption_cause = cause\n",
    "        self.disruption_start_time = start_time\n",
    "        self.disruption_time = duration\n",
    "        self.disruption_time_left = duration\n",
    "    \n",
    "    def manual_disruption(self, duration, speed_limit, cause, start_time, block):\n",
    "        self.disrupted_blocks.append(block)\n",
    "        self.speed_limit = speed_limit\n",
    "        self.disruption_cause = cause\n",
    "        self.disruption_start_time = start_time\n",
    "        self.disruption_time = duration\n",
    "        self.disruption_time_left = duration\n",
    "    \n",
    "    def update_status(self, i):\n",
    "        if self.disruption_time_left == 0 and self.disruption_active:\n",
    "            self.disruption_active = 0\n",
    "        if self.disruption_active:\n",
    "            self.disruption_time_left = self.disruption_time_left - 1\n",
    "        if self.disruption_start_time == i:\n",
    "            self.disruption_active = 1\n",
    "            return\n",
    "        return\n",
    "    \n",
    "    def is_active(self):\n",
    "        if self.active or self.disruption_time:\n",
    "            return True\n",
    "        else:\n",
    "            return False\n",
    "    \n",
    "    def block_disruption(self, block):\n",
    "        if self.disruption_active:\n",
    "            if block in self.disrupted_blocks:\n",
    "                return self.speed_limit\n",
    "            else:\n",
    "                return 86.1\n",
    "        else:\n",
    "            return 86.1                              # max speed limit\n",
    "            \n",
    "\n",
    "\n",
    "            \n",
    "            \n",
    "\n",
    "    \n",
    "\n",
    "\n",
    "\n"
   ]
  },
  {
   "cell_type": "markdown",
   "metadata": {},
   "source": [
    "# 6.2 Signalling Block Class\n",
    "\n",
    "This class is used to enable signalling functionality in the simulation. Every train occupies a single signalling block at any given time. \n",
    "\n",
    "This **Signalling Block Class** is defined below."
   ]
  },
  {
   "cell_type": "code",
   "execution_count": 71,
   "metadata": {},
   "outputs": [],
   "source": [
    "        \n",
    "\n",
    "class Block:\n",
    "    global config\n",
    "    \n",
    "    def __init__(self, identity):\n",
    "        self.identifier = identity\n",
    "        #print(self.identifier)\n",
    "        #self.current_train = Train\n",
    "        self.occupied = 0\n",
    "        self.signal = 1\n",
    "        self.signal_delay = 0\n",
    "        self.train_enter_time = []\n",
    "        self.train_left_time = []\n",
    "       \n",
    "\n",
    "    \n",
    "    def free(self, i):\n",
    "        self.occupied = 0\n",
    "        self.signal_delay = 5 / config['time_unit']\n",
    "        self.train_left_time.append(i * config['time_unit'])\n",
    "\n",
    "    \n",
    "    def update_status(self,i):\n",
    "        #if signal delay then reduce by 1\n",
    "        if self.signal_delay > 0:\n",
    "            self.signal_delay = self.signal_delay - 1\n",
    "            if self.signal_delay == 0:\n",
    "                self.signal = 1  # Turn signal green\n",
    "        return\n",
    "\n",
    "    def occupy(self, i):\n",
    "        self.occupied = 1\n",
    "        self.signal = 0  # Turn signal red\n",
    "        self.train_enter_time.append(i * config['time_unit'])\n",
    "        \n",
    "        \n",
    "    def signal_green(self):\n",
    "        if self.signal:\n",
    "            return True\n",
    "        else:\n",
    "            return False\n"
   ]
  },
  {
   "cell_type": "markdown",
   "metadata": {},
   "source": [
    "# 6.3 Train Class\n",
    "\n",
    "This is the main class used to simulate the train behaviour. Every train object has attributes like current speed, maximum speed reached by a train, start delay, operational delay (delay due to disruptions), acceleration of the train, etc.\n",
    "\n",
    "The methods in this class decide the speed, acceleration, if the train should brake or accelerate based on the number of free blocks ahead, any speed limits imposed due to disruption event."
   ]
  },
  {
   "cell_type": "code",
   "execution_count": 72,
   "metadata": {},
   "outputs": [],
   "source": [
    "\n",
    "class Train:\n",
    "    \n",
    "\n",
    "    global config\n",
    "    \n",
    "    \n",
    "    def __init__(self, time, identity):\n",
    "        \n",
    "        self.identifier = identity\n",
    "        \n",
    "        #self.start_time = 0\n",
    "        self.actual_start_time = 0\n",
    "        self.delayed_start = 0\n",
    "        self.end_time = 0\n",
    "        self.running = 0  # is the train currently running\n",
    "        self.time_delay = []\n",
    "        self.scheduled_to_run = 0\n",
    "        self.operational_delay = []\n",
    "        self.operational_delay_flag = 0\n",
    "\n",
    "        self.current_block = 0\n",
    "\n",
    "\n",
    "        self.max_speed = 86.1\n",
    "        self.acc = 0.76\n",
    "        self.braking = 0.38\n",
    "        self.emergency_braking = 2.5\n",
    "        \n",
    "        self.emergency_braking_flag = 0\n",
    "\n",
    "        self.braking_distance = 0 \n",
    "\n",
    "        self.total_distance_covered = 0\n",
    "        self.distance_remaining_block = 0\n",
    "        self.distance_remaining_total = 145000 #meters\n",
    "        self.free_distance = 0\n",
    "\n",
    "        self.speed = 0\n",
    "        self.train_max_speed = 0\n",
    "        self.target_speed = 0\n",
    "        self.acceleration = 0\n",
    "        self.acceleration_flag = 0\n",
    "        self.start_time = time\n",
    "        self.start_delay = gauss(90,35)\n",
    "        if self.start_delay > 0:\n",
    "            self.actual_start_time = self.start_time + int(self.start_delay)\n",
    "            self.add_delay(self.start_delay)\n",
    "        else:\n",
    "            self.actual_start_time = self.start_time\n",
    "        #self.start()\n",
    "    \n",
    "    \n",
    "    \n",
    "    ## Check block disruption and return the speed limit of the block\n",
    "    def block_disruption_speed(self):\n",
    "        speed_limits = []\n",
    "        for disruption in config['disruptions']:\n",
    "            speed_limits.append(disruption.block_disruption(self.current_block))\n",
    "        speed_limits.append(self.max_speed)\n",
    "        speed_limits = [disruption.block_disruption(self.current_block) for disruption in config['disruptions']]\n",
    "        speed_limits.append(self.max_speed)  # If no disruptions in block, speed limit is 86.1 (max speed)\n",
    "        #if self.current_block == 0:\n",
    "        #    print(speed_limits)\n",
    "        min_speed_limit = min(speed_limits)\n",
    "        return min_speed_limit\n",
    "        \n",
    "        \n",
    "            \n",
    "    \n",
    "    # Is the train start delayed\n",
    "    def is_start_delayed(self):\n",
    "        if self.delayed_start:\n",
    "            return True\n",
    "        else:\n",
    "            return False\n",
    "    \n",
    "    # Does the train have operationl delays due to disruption\n",
    "    def is_operational_delay(self):\n",
    "        if self.operational_delay_flag:\n",
    "            return True\n",
    "        else:\n",
    "            return False\n",
    "    \n",
    "    # Check if the train has reached the destination\n",
    "    def reached_destination(self):\n",
    "        if self.end_time:\n",
    "            return True\n",
    "        else:\n",
    "            return False\n",
    "    \n",
    "    \n",
    "    # Checks and updates speed and acceleration of the train\n",
    "    def speed_controller(self):\n",
    "        # Update the max speed the train has reached.\n",
    "        if self.speed > self.train_max_speed:\n",
    "            self.train_max_speed = self.speed\n",
    "        # check speed and update the acceelaration parameters\n",
    "        if self.acceleration_flag == -1 and self.target_speed > self.speed:\n",
    "            self.reset_acceleration_speed()\n",
    "        elif self.acceleration_flag == 1 and self.target_speed < self.speed and self.target_speed > 0:\n",
    "            self.reset_acceleration_speed()\n",
    "        else:\n",
    "            self.speed = self.speed + self.acc_or_break() * config['time_unit']\n",
    "        safe_speed = self.safe_speed()    \n",
    "        if self.speed > safe_speed:\n",
    "            self.target_speed = safe_speed\n",
    "            if self.speed < 1.01 * safe_speed:\n",
    "                self.reset_acceleration_speed()\n",
    "            else:\n",
    "                if self.speed > 1.1 * safe_speed:\n",
    "                    self.activate_emergency_braking()\n",
    "                else:\n",
    "                    self.activate_braking()\n",
    "            \n",
    "        else:\n",
    "            #if self.target_speed == self.speed:\n",
    "            if self.target_speed == safe_speed:\n",
    "                self.reset_acceleration_speed()\n",
    "            else:\n",
    "                self.target_speed = safe_speed\n",
    "        #if self.current_block == 0:\n",
    "        #    print(self.target_speed)\n",
    "        return\n",
    "    \n",
    "    \n",
    "    # Calculates safe speed of a train for braking based on the free distance and/or free blocks ahead\n",
    "    \n",
    "    def safe_speed(self):\n",
    "        self.free_distance = self.distance_left_in_block() + self.free_blocks_ahead() * config['block_length']\n",
    "        #if self.current_block == 0:\n",
    "        #    print(self.free_distance)\n",
    "        train_safe_speed = np.sqrt(2*self.free_distance*self.braking)  # Derived from s = v1*t + (1/2) * a * t**2\n",
    "        \n",
    "        if train_safe_speed > self.max_speed:\n",
    "            train_safe_speed = self.max_speed\n",
    "\n",
    "        block_speed_limit = self.block_disruption_speed()\n",
    "        \n",
    "        if train_safe_speed > block_speed_limit:\n",
    "            if train_safe_speed:\n",
    "                running_delay = (train_safe_speed - block_speed_limit) * config['time_unit'] / train_safe_speed\n",
    "            else:\n",
    "                running_delay = 0\n",
    "            \n",
    "            # If train has not started, add the operational delay to start delay of train. Otherwise add it to operational delay\n",
    "            if self.current_block == 0 and self.total_distance_covered == 0 and block_speed_limit == 0:\n",
    "                self.time_delay.append(running_delay)\n",
    "            else:\n",
    "                self.operational_delay.append(running_delay)\n",
    "                self.operational_delay_flag = 1\n",
    "                \n",
    "            train_safe_speed = block_speed_limit\n",
    "        return train_safe_speed\n",
    "    \n",
    "    def free_blocks_ahead(self):\n",
    "        total_blocks = config['blocks_count']\n",
    "        #print(total_blocks)\n",
    "        free_blocks = 0\n",
    "        for i in range(self.current_block+1, int(total_blocks)):\n",
    "            if config['blocks'][i].signal_green():\n",
    "                free_blocks = free_blocks + 1\n",
    "            else:\n",
    "                break\n",
    "        #print(free_blocks)\n",
    "        return free_blocks\n",
    "        \n",
    "    # Accelerates the train\n",
    "    def activate_acceleration(self):\n",
    "        self.acceleration = self.acc\n",
    "        self.acceleration_flag = 1\n",
    "    \n",
    "    # Applies brakes of the train\n",
    "    def activate_braking(self):\n",
    "        self.acceleration = self.braking\n",
    "        self.acceleration_flag = -1\n",
    "    \n",
    "    # Apply emergency brakes of the train\n",
    "    def activate_emergency_braking(self):\n",
    "        self.emergency_braking_flag = 1\n",
    "        self.acceleration = self.emergency_braking\n",
    "        self.acceleration_flag = -1\n",
    "    \n",
    "    \n",
    "    # Reset the acceleration and speed of the train\n",
    "    def reset_acceleration_speed(self):\n",
    "        self.acceleration_flag = 0\n",
    "        self.speed = self.target_speed\n",
    "        self.target_speed = 0\n",
    "        self.acceleration = 0\n",
    "        self.braking_distance = 0\n",
    "        self.emergency_braking_flag = 0\n",
    "        return True\n",
    "    \n",
    "    # Decides whether to accelerate of break the train\n",
    "    def acc_or_break(self):\n",
    "        if not self.acceleration_flag and self.target_speed != self.speed:\n",
    "            if self.target_speed > self.speed:\n",
    "                self.acceleration_flag = 1\n",
    "            elif self.target_speed > 0 and self.target_speed < self.speed:\n",
    "                self.acceleration_flag = -1\n",
    "        \n",
    "        if self.target_speed > self.speed:\n",
    "            self.activate_acceleration()\n",
    "        elif self.target_speed < self.speed and self.target_speed > 0:\n",
    "            if self.emergency_braking_flag:\n",
    "                self.activate_emergency_braking()\n",
    "            else:\n",
    "                self.activate_braking()\n",
    "        elif self.target_speed == self.speed:\n",
    "            self.reset_acceleration_speed()\n",
    "            return 0\n",
    "        return self.acceleration*self.acceleration_flag\n",
    "\n",
    "    \n",
    "    # Updates train parameters every second of the simulation\n",
    "    def update_status(self,i):\n",
    "        \n",
    "        config['blocks'][-1].signal = 0   ### Set the last extra block signal to red. This allows the train to brake at 145000 meters.\n",
    "        \n",
    "        if self.running:\n",
    "            self.speed_controller()\n",
    "            self.total_distance_covered = self.total_distance_covered + self.distance_covered()\n",
    "            \n",
    "            if self.total_distance_covered >= config['track_length_meters']:\n",
    "                self.running = 0\n",
    "                self.end_time = i * config['time_unit']\n",
    "                self.speed = 0\n",
    "                self.target_speed = 0\n",
    "                self.reset_acceleration_speed()\n",
    "                config['blocks'][-2].free(i * config['time_unit'])\n",
    "            new_block = self.total_distance_covered // config['block_length']\n",
    "            if int(new_block) != int(self.current_block):\n",
    "                # Free block and occupy next\n",
    "                config['blocks'][int(self.current_block)].free(i * config['time_unit'])\n",
    "                config['blocks'][int(new_block)].occupy(i * config['time_unit'])\n",
    "                self.current_block = int(new_block)\n",
    "                \n",
    "        elif self.actual_start_time == i* config['time_unit']:\n",
    "            self.start(i* config['time_unit'])\n",
    "        elif self.scheduled():\n",
    "            self.start(i* config['time_unit'])\n",
    "            \n",
    "    def scheduled(self):\n",
    "        if self.scheduled_to_run:\n",
    "            return True\n",
    "        else:\n",
    "            return False\n",
    "            \n",
    "    # Start train and update the start time of train\n",
    "    def start(self,i):\n",
    "        if config['blocks'][0].signal_green():\n",
    "            config['blocks'][0].occupy(i)\n",
    "            self.running = 1\n",
    "            self.target_speed = self.safe_speed()\n",
    "            if self.target_speed == 0:\n",
    "                self.scheduled_to_run = 1\n",
    "                self.running = 0\n",
    "                config['blocks'][0].free(i)\n",
    "            elif self.scheduled_to_run == 1:\n",
    "                self.delayed_start = i - self.actual_start_time\n",
    "                self.time_delay.append(self.delayed_start)\n",
    "                #self.operational_delay.append(self.delayed_start)\n",
    "                self.actual_start_time = i\n",
    "                self.scheduled_to_run = 0\n",
    "        else:\n",
    "            self.scheduled_to_run = 1\n",
    "        return\n",
    "        \n",
    "    \n",
    "    \n",
    "    # Check the signal for block i\n",
    "    def check_block_signal(self,i):\n",
    "        if config['blocks'][i].signal == 1:\n",
    "            return True\n",
    "        else:\n",
    "            return False\n",
    "    \n",
    "    # Check if block i is occupied\n",
    "    def check_block_occupied(self,i):\n",
    "        if config['blocks'][i].occupied == 0:\n",
    "            return True\n",
    "        else:\n",
    "            return False\n",
    "    \n",
    "    \n",
    "    # Adds delay to train\n",
    "    def add_delay(self,time):\n",
    "        self.time_delay.append(time)\n",
    "    \n",
    "    # Returns total delay of the train\n",
    "    def total_start_delay(self):\n",
    "        return sum(self.time_delay)\n",
    "    \n",
    "    # Returns current speed of the train\n",
    "    def current_speed(self):\n",
    "        return self.speed\n",
    "    \n",
    "    # Returns the required free blocks to maintain current speed\n",
    "    def distance_left_in_block(self):\n",
    "        distance_left_in_current_block = config['block_length'] - (self.total_distance_covered % config['block_length'])\n",
    "        return distance_left_in_current_block\n",
    "    \n",
    "    # Distance covered in last second\n",
    "    def distance_covered(self):\n",
    "        #distance = self.speed * 1 + 0.5 * float(self.acc_or_break())  # * 1 * 1\n",
    "        distance = self.speed * config['time_unit'] + 0.5 * float(self.acc_or_break())   * config['time_unit'] * config['time_unit']\n",
    "        return distance\n",
    "    \n",
    "    # Returns if the train is running or not\n",
    "    def is_running():\n",
    "        if self.running:\n",
    "            return True\n",
    "        else:\n",
    "            return False\n",
    "    \n",
    "\n"
   ]
  },
  {
   "cell_type": "markdown",
   "metadata": {},
   "source": [
    "# 7. Function to run the Simulation\n",
    "\n",
    "Update the status of every Train, Block and Disruption event every second.\n",
    "\n",
    "For loop is used to run the simulation for twice the operational time in a day. The loop is broken if the last train reached the desination."
   ]
  },
  {
   "cell_type": "code",
   "execution_count": 73,
   "metadata": {},
   "outputs": [],
   "source": [
    "\n",
    "def train_timetable(n,k):\n",
    "    for i in range(0,int(config['seconds']*2/config['time_unit'])):\n",
    "        config['time_now'] = i * config['time_unit']\n",
    "        for disruption in config['disruptions']:\n",
    "            disruption.update_status(i)\n",
    "        for train in config['trains']:\n",
    "            train.update_status(i)\n",
    "        for block in config['blocks']:\n",
    "            block.update_status(i)\n",
    "        if config['trains'][-1].end_time != 0:    # Stop the loop if last train has reached.\n",
    "            break\n",
    "    return 'Simulation Complete'"
   ]
  },
  {
   "cell_type": "markdown",
   "metadata": {},
   "source": [
    "# 8. Functions to Print Disruption and Simulation Results\n",
    "\n",
    "**print_disruptions** function prints a list of all the disruptions in a simulation.\n",
    "\n",
    "**get_simulation_report** returns all the metrics of the simulation. If the **print_report** parameter is set to **True**, the function prints the simulation metrics and the train time-table. If the **plot_distributions** parameter is set to **True**, the function prints histograms of a few key metrics in the simulation."
   ]
  },
  {
   "cell_type": "code",
   "execution_count": 74,
   "metadata": {},
   "outputs": [],
   "source": [
    "\n",
    "def print_disruptions():\n",
    "    disruptions_heading = '''\n",
    "+--------------------------------------+\n",
    "|               DISRUPTIONS            |\n",
    "+--------------------------------------+\n",
    "    '''\n",
    "    print(disruptions_heading)\n",
    "    if len(config['disruptions']):\n",
    "        for disruption in config['disruptions']:\n",
    "            print('[#]  ' + str(disruption.disruption_cause) + ' caused a ' + str(disruption.disruption_time) + ' seconds delay at ' + str(convert(disruption.disruption_start_time)) + ' in block(s) ' + str(disruption.disrupted_blocks) + ' with a speed limit of ' + str(disruption.speed_limit) + ' m/s.')\n",
    "    else:\n",
    "        print('No random disruptions generated.')\n",
    "        print('\\n\\n')\n",
    "\n",
    "def get_simulation_report(print_report = False, plot_distributions = False):\n",
    "    \n",
    "    df = pd.DataFrame()\n",
    "    \n",
    "    actual_start_times = [train.actual_start_time for train in config['trains']]\n",
    "    end_times = [train.end_time for train in config['trains']]\n",
    "\n",
    "    TotalTime = pd.Series(end_times) - pd.Series(actual_start_times)\n",
    "\n",
    "    df['Total Time Seconds'] = TotalTime\n",
    "    df['Total Time'] = pd.Series(map(convertDifference, TotalTime))\n",
    "    df['Start Times'] = pd.Series([train.start_time for train in config['trains']])\n",
    "    df['Actual Start Times'] = pd.Series([train.actual_start_time for train in config['trains']])\n",
    "    df['Dwell Time'] = df['Actual Start Times'] - df['Start Times']\n",
    "    df['Average Speed'] = pd.Series(config['track_length_meters'] / df['Total Time Seconds'])\n",
    "    df['Max Speed'] = pd.Series([train.train_max_speed for train in config['trains']])\n",
    "    df['Distance Covered'] = pd.Series([train.total_distance_covered for train in config['trains']])\n",
    "    df['Delayed'] = pd.Series([train.is_start_delayed() for train in config['trains']])\n",
    "    df['Total Delay'] = pd.Series( [train.total_start_delay() for train in config['trains']])\n",
    "    df['Travel Duration'] = pd.Series( [train.end_time - train.actual_start_time for train in config['trains']])\n",
    "    df['Operational Delay'] = pd.Series( [sum(train.operational_delay) for train in config['trains']])\n",
    "    df['Time Delay'] = pd.Series( [sum(train.time_delay) for train in config['trains']])\n",
    "\n",
    "    \n",
    "    average_delay = sum(df['Total Delay'])/len(df['Total Delay'])\n",
    "    average_speed = sum(df['Average Speed'])/len(df['Average Speed'])\n",
    "    percentage_trains_delayed = sum(df['Delayed'])/len(df['Delayed'])*100\n",
    "    average_travel_time = sum(df['Total Time Seconds'])/len(df['Total Time Seconds'])\n",
    "    total_operational_delay = sum(df['Operational Delay'])\n",
    "    max_travel_time = max(df['Total Time Seconds'])\n",
    "    max_speed = 86.1\n",
    "\n",
    "    if print_report:\n",
    "        simulation_heading = '''\n",
    "+------------------------+\n",
    "|   SIMULATION RESULTS   |\n",
    "+------------------------+\n",
    "        '''\n",
    "        timetable_heading = '''\n",
    "+------------------------+\n",
    "|    TRAIN TIME TABLE    |\n",
    "+------------------------+\n",
    "        '''\n",
    "        print(simulation_heading)\n",
    "        print('Average Delay: ', end=' ')\n",
    "        print('{:.2f}'.format(average_delay))\n",
    "        print('Average Speed: ', end=' ')\n",
    "        print('{:.2f}'.format(average_speed))\n",
    "        print('Percentage Trains Delayed: ', end=' ')\n",
    "        print('{:.2f}'.format(percentage_trains_delayed))\n",
    "        print('Average Travel Time: ', end=' ')\n",
    "        print('{:.2f}'.format(average_travel_time), end='  (')\n",
    "        print(convertDifference(average_travel_time), end=')\\n')\n",
    "        print('Total Operational Delay: ', end=' ')\n",
    "        print('{:.2f}'.format(total_operational_delay))\n",
    "        print('Maximum Travel Time: ', end=' ')\n",
    "        print('{:.2f}'.format(max_travel_time))\n",
    "        print('\\n\\n')\n",
    "        print(timetable_heading)\n",
    "        print(\"----------------------------------------------------------------------------------------------\")\n",
    "        print(\"[Train Number] [Scheduled Departure] [Actual Departure] [Arrival Time] [Total Delay] [Delayed]\")\n",
    "        print(\"                     [London]                            [Birmingham]                           \")\n",
    "        print(\"----------------------------------------------------------------------------------------------\")\n",
    "        for train in config['trains']:\n",
    "            print(\"[Train {0}]    [{1}]            [{2}]         [{3}]      [{4}]   [{5}]\".format(str(train.identifier).zfill(3),convert(train.start_time),convert(train.actual_start_time), convert(train.end_time), convertDifference(sum([sum(train.time_delay), sum(train.operational_delay)])), train.is_operational_delay() or train.is_start_delayed()))\n",
    "        \n",
    "        \n",
    "        # Plot distributions here\n",
    "    if plot_distributions:\n",
    "        #df = px.data.tips()\n",
    "        fig = px.histogram(df['Travel Duration'], x=\"Travel Duration\", labels={\n",
    "                                 \"Travel Duration\": \"Travel Duration of Trains (seconds)\"\n",
    "                             },\n",
    "                            title=\"Travel Duration Distribution\",\n",
    "                          )\n",
    "        fig.show()\n",
    "        fig = px.histogram(df['Average Speed'], x=\"Average Speed\", labels={\n",
    "                                 \"Average Speed\": \"Average Speed m/s\"\n",
    "                             },\n",
    "                            title=\"Average Speed Distribution\",\n",
    "                          )\n",
    "        fig.show()\n",
    "        fig = px.histogram(df['Dwell Time'], x=\"Dwell Time\", labels={\n",
    "                                 \"Dwell Time\": \"Dwell Time (seconds)\"\n",
    "                             },\n",
    "                            title=\"Dwell Time Distribution\",\n",
    "                          )\n",
    "        fig.show()       \n",
    "        \n",
    "    return max_speed, average_delay, average_speed, percentage_trains_delayed, average_travel_time, total_operational_delay, max_travel_time\n",
    "    "
   ]
  },
  {
   "cell_type": "markdown",
   "metadata": {},
   "source": [
    "# 9. Part 1: Simulation\n",
    "\n",
    "\n",
    "### Function : simulate_trains()\n",
    "\n",
    "### Parameters :\n",
    "\n",
    "- trains_per_hour : Input the trains running per hour\n",
    "- signalling_blocks : Input the number of signalling blocks on the train line\n",
    "- introduce_delays : Boolean. Introduce random disruptions and delays based on the study of Yuxiang Yand et al [1]\n",
    "- custom_delay : Disruption Object. Used to introduce the the 30 mins disruption of the 9:00 AM train.\n",
    "- print_disruption : Boolean. Verbose output of the disruptions.\n",
    "- print_report : Boolean. Print the results of the simulation.\n",
    "- plot_distributions : Boolean. Plot the distribution graphs."
   ]
  },
  {
   "cell_type": "code",
   "execution_count": 75,
   "metadata": {},
   "outputs": [],
   "source": [
    "def simulate_trains(trains_per_hour, signalling_blocks,  introduce_delays = False, custom_delay = None, print_disruption = True, print_report=True, plot_distributions = False):\n",
    "    start_time = 0\n",
    "    global config\n",
    "    reset_config(trains_per_hour, signalling_blocks)\n",
    "    \n",
    "    if custom_delay:\n",
    "        config['disruptions'].append(custom_delay)\n",
    "    \n",
    "    \n",
    "    if introduce_delays:\n",
    "        generate_disruptions()\n",
    "    if print_disruption:\n",
    "        print_disruptions()\n",
    "        \n",
    "    for i in range(0,signalling_blocks+1):\n",
    "        config['blocks'].append(Block(i))\n",
    "    for i in range(0,trains_per_hour*15+1):\n",
    "        config['trains'].append(Train(start_time, i))\n",
    "        start_time = start_time + config['train_interval']\n",
    "    train_timetable(trains_per_hour,signalling_blocks)\n",
    "    \n",
    "    \n",
    "    simulation_results = get_simulation_report(print_report, plot_distributions)\n",
    "    return simulation_results\n"
   ]
  },
  {
   "cell_type": "markdown",
   "metadata": {},
   "source": [
    "# 9.1 Verbose Simulation\n",
    "\n",
    "Run a simulation with random disruptions. Also, introduce a 30 minutes delay at 9 AM. The train at 9 AM is delayed by 30 minutes. All the subsequent trains are afftected by the knock-on effect due to delay at 9 AM."
   ]
  },
  {
   "cell_type": "code",
   "execution_count": 76,
   "metadata": {
    "scrolled": false
   },
   "outputs": [
    {
     "name": "stdout",
     "output_type": "stream",
     "text": [
      "\n",
      "+--------------------------------------+\n",
      "|               DISRUPTIONS            |\n",
      "+--------------------------------------+\n",
      "    \n",
      "[#]  Electrical Malfunction caused a 1800 seconds delay at 09:00:00 in block(s) [0] with a speed limit of 0 m/s.\n",
      "[#]  Bad Weather caused a 14760 seconds delay at 20:59:54 in block(s) [0, 1, 2, 3, 4, 5, 6, 7, 8, 9, 10, 11, 12, 13, 14] with a speed limit of 40 m/s.\n",
      "[#]  Vehicle Fault caused a 5040 seconds delay at 13:54:06 in block(s) [8] with a speed limit of 0 m/s.\n",
      "\n",
      "+------------------------+\n",
      "|   SIMULATION RESULTS   |\n",
      "+------------------------+\n",
      "        \n",
      "Average Delay:  141.10\n",
      "Average Speed:  71.59\n",
      "Percentage Trains Delayed:  5.96\n",
      "Average Travel Time:  2259.81  (0:37:39)\n",
      "Total Operational Delay:  59668.40\n",
      "Maximum Travel Time:  6825.00\n",
      "\n",
      "\n",
      "\n",
      "\n",
      "+------------------------+\n",
      "|    TRAIN TIME TABLE    |\n",
      "+------------------------+\n",
      "        \n",
      "----------------------------------------------------------------------------------------------\n",
      "[Train Number] [Scheduled Departure] [Actual Departure] [Arrival Time] [Total Delay] [Delayed]\n",
      "                     [London]                            [Birmingham]                           \n",
      "----------------------------------------------------------------------------------------------\n",
      "[Train 000]    [07:00:00]            [07:01:59]         [07:31:59]      [0:01:59]   [False]\n",
      "[Train 001]    [07:06:00]            [07:08:03]         [07:38:03]      [0:02:03]   [False]\n",
      "[Train 002]    [07:12:00]            [07:13:23]         [07:43:25]      [0:01:23]   [False]\n",
      "[Train 003]    [07:18:00]            [07:19:10]         [07:49:10]      [0:01:10]   [False]\n",
      "[Train 004]    [07:24:00]            [07:26:20]         [07:56:20]      [0:02:20]   [False]\n",
      "[Train 005]    [07:30:00]            [07:30:56]         [08:01:07]      [0:00:56]   [False]\n",
      "[Train 006]    [07:36:00]            [07:37:54]         [08:07:54]      [0:01:54]   [False]\n",
      "[Train 007]    [07:42:00]            [07:43:06]         [08:13:18]      [0:01:06]   [False]\n",
      "[Train 008]    [07:48:00]            [07:50:26]         [08:20:26]      [0:02:26]   [False]\n",
      "[Train 009]    [07:54:00]            [07:55:32]         [08:25:36]      [0:01:32]   [False]\n",
      "[Train 010]    [08:00:00]            [08:01:38]         [08:31:38]      [0:01:38]   [False]\n",
      "[Train 011]    [08:06:00]            [08:07:36]         [08:37:36]      [0:01:36]   [False]\n",
      "[Train 012]    [08:12:00]            [08:13:20]         [08:43:20]      [0:01:20]   [False]\n",
      "[Train 013]    [08:18:00]            [08:19:14]         [08:49:14]      [0:01:14]   [False]\n",
      "[Train 014]    [08:24:00]            [08:25:54]         [08:55:54]      [0:01:54]   [False]\n",
      "[Train 015]    [08:30:00]            [08:31:13]         [09:01:21]      [0:01:13]   [False]\n",
      "[Train 016]    [08:36:00]            [08:36:53]         [09:06:54]      [0:00:53]   [False]\n",
      "[Train 017]    [08:42:00]            [08:43:46]         [09:13:46]      [0:01:46]   [False]\n",
      "[Train 018]    [08:48:00]            [08:49:20]         [09:19:53]      [0:01:20]   [False]\n",
      "[Train 019]    [08:54:00]            [08:55:31]         [09:25:41]      [0:01:31]   [False]\n",
      "[Train 020]    [09:00:00]            [09:30:05]         [10:00:05]      [0:35:51]   [True]\n",
      "[Train 021]    [09:06:00]            [09:32:03]         [10:04:15]      [0:26:03]   [True]\n",
      "[Train 022]    [09:12:00]            [09:34:29]         [10:08:56]      [0:22:29]   [True]\n",
      "[Train 023]    [09:18:00]            [09:37:03]         [10:13:28]      [0:19:03]   [True]\n",
      "[Train 024]    [09:24:00]            [09:39:42]         [10:14:30]      [0:15:42]   [True]\n",
      "[Train 025]    [09:30:00]            [09:42:23]         [10:17:42]      [0:12:23]   [True]\n",
      "[Train 026]    [09:36:00]            [09:45:06]         [10:20:16]      [0:09:06]   [True]\n",
      "[Train 027]    [09:42:00]            [09:47:51]         [10:22:54]      [0:05:51]   [True]\n",
      "[Train 028]    [09:48:00]            [09:50:36]         [10:25:43]      [0:02:36]   [True]\n",
      "[Train 029]    [09:54:00]            [09:54:58]         [10:28:34]      [0:00:58]   [False]\n",
      "[Train 030]    [10:00:00]            [10:00:50]         [10:31:34]      [0:00:50]   [False]\n",
      "[Train 031]    [10:06:00]            [10:07:47]         [10:37:47]      [0:01:47]   [False]\n",
      "[Train 032]    [10:12:00]            [10:13:43]         [10:43:43]      [0:01:43]   [False]\n",
      "[Train 033]    [10:18:00]            [10:18:44]         [10:48:49]      [0:00:44]   [False]\n",
      "[Train 034]    [10:24:00]            [10:25:51]         [10:55:51]      [0:01:51]   [False]\n",
      "[Train 035]    [10:30:00]            [10:30:53]         [11:01:33]      [0:00:53]   [False]\n",
      "[Train 036]    [10:36:00]            [10:36:53]         [11:06:55]      [0:00:53]   [False]\n",
      "[Train 037]    [10:42:00]            [10:43:50]         [11:13:50]      [0:01:50]   [False]\n",
      "[Train 038]    [10:48:00]            [10:49:58]         [11:19:58]      [0:01:58]   [False]\n",
      "[Train 039]    [10:54:00]            [10:54:48]         [11:24:55]      [0:00:48]   [False]\n",
      "[Train 040]    [11:00:00]            [11:01:27]         [11:31:27]      [0:01:27]   [False]\n",
      "[Train 041]    [11:06:00]            [11:07:15]         [11:37:15]      [0:01:15]   [False]\n",
      "[Train 042]    [11:12:00]            [11:13:02]         [11:43:02]      [0:01:02]   [False]\n",
      "[Train 043]    [11:18:00]            [11:19:32]         [11:49:32]      [0:01:32]   [False]\n",
      "[Train 044]    [11:24:00]            [11:25:07]         [11:55:22]      [0:01:07]   [False]\n",
      "[Train 045]    [11:30:00]            [11:32:08]         [12:02:08]      [0:02:08]   [False]\n",
      "[Train 046]    [11:36:00]            [11:38:11]         [12:08:11]      [0:02:11]   [False]\n",
      "[Train 047]    [11:42:00]            [11:42:52]         [12:13:33]      [0:00:52]   [False]\n",
      "[Train 048]    [11:48:00]            [11:48:43]         [12:18:46]      [0:00:43]   [False]\n",
      "[Train 049]    [11:54:00]            [11:56:09]         [12:26:09]      [0:02:09]   [False]\n",
      "[Train 050]    [12:00:00]            [12:02:16]         [12:32:16]      [0:02:16]   [False]\n",
      "[Train 051]    [12:06:00]            [12:07:34]         [12:37:36]      [0:01:34]   [False]\n",
      "[Train 052]    [12:12:00]            [12:13:46]         [12:43:46]      [0:01:46]   [False]\n",
      "[Train 053]    [12:18:00]            [12:19:01]         [12:49:03]      [0:01:01]   [False]\n",
      "[Train 054]    [12:24:00]            [12:27:06]         [12:57:06]      [0:03:06]   [False]\n",
      "[Train 055]    [12:30:00]            [12:30:16]         [13:01:18]      [0:00:16]   [False]\n",
      "[Train 056]    [12:36:00]            [12:36:55]         [13:07:26]      [0:00:55]   [False]\n",
      "[Train 057]    [12:42:00]            [12:43:53]         [13:13:53]      [0:01:53]   [False]\n",
      "[Train 058]    [12:48:00]            [12:49:35]         [13:19:35]      [0:01:35]   [False]\n",
      "[Train 059]    [12:54:00]            [12:55:19]         [13:25:19]      [0:01:19]   [False]\n",
      "[Train 060]    [13:00:00]            [13:01:20]         [13:31:20]      [0:01:20]   [False]\n",
      "[Train 061]    [13:06:00]            [13:08:09]         [13:38:09]      [0:02:09]   [False]\n",
      "[Train 062]    [13:12:00]            [13:13:34]         [13:43:35]      [0:01:34]   [False]\n",
      "[Train 063]    [13:18:00]            [13:18:34]         [13:48:39]      [0:00:34]   [False]\n",
      "[Train 064]    [13:24:00]            [13:24:00]         [13:54:02]      [0:00:00]   [False]\n",
      "[Train 065]    [13:30:00]            [13:31:03]         [14:01:03]      [0:01:03]   [False]\n",
      "[Train 066]    [13:36:00]            [13:37:54]         [15:31:39]      [1:25:55]   [True]\n",
      "[Train 067]    [13:42:00]            [13:44:05]         [15:35:48]      [1:19:12]   [True]\n",
      "[Train 068]    [13:48:00]            [13:49:01]         [15:35:48]      [1:12:57]   [True]\n",
      "[Train 069]    [13:54:00]            [13:55:56]         [15:35:48]      [1:07:12]   [True]\n",
      "[Train 070]    [14:00:00]            [14:02:08]         [15:35:48]      [1:01:12]   [True]\n",
      "[Train 071]    [14:06:00]            [14:07:32]         [15:35:50]      [0:54:55]   [True]\n",
      "[Train 072]    [14:12:00]            [14:14:32]         [15:35:46]      [0:49:12]   [True]\n",
      "[Train 073]    [14:18:00]            [14:19:38]         [15:35:56]      [0:42:56]   [True]\n",
      "[Train 074]    [14:24:00]            [14:24:55]         [15:35:46]      [0:37:03]   [True]\n"
     ]
    },
    {
     "name": "stdout",
     "output_type": "stream",
     "text": [
      "[Train 075]    [14:30:00]            [14:30:10]         [15:35:56]      [0:31:03]   [True]\n",
      "[Train 076]    [14:36:00]            [14:37:29]         [15:35:46]      [0:25:12]   [True]\n",
      "[Train 077]    [14:42:00]            [14:43:29]         [15:35:46]      [0:19:12]   [True]\n",
      "[Train 078]    [14:48:00]            [14:48:59]         [15:35:56]      [0:12:59]   [True]\n",
      "[Train 079]    [14:54:00]            [14:55:01]         [15:35:46]      [0:07:12]   [True]\n",
      "[Train 080]    [15:00:00]            [15:01:26]         [15:40:30]      [0:01:26]   [False]\n",
      "[Train 081]    [15:06:00]            [15:07:15]         [15:39:47]      [0:01:15]   [False]\n",
      "[Train 082]    [15:12:00]            [15:14:19]         [15:44:19]      [0:02:19]   [False]\n",
      "[Train 083]    [15:18:00]            [15:18:52]         [15:48:52]      [0:00:52]   [False]\n",
      "[Train 084]    [15:24:00]            [15:24:58]         [15:54:58]      [0:00:58]   [False]\n",
      "[Train 085]    [15:30:00]            [15:32:00]         [16:02:00]      [0:02:00]   [False]\n",
      "[Train 086]    [15:36:00]            [15:37:24]         [16:07:25]      [0:01:24]   [False]\n",
      "[Train 087]    [15:42:00]            [15:43:23]         [16:13:23]      [0:01:23]   [False]\n",
      "[Train 088]    [15:48:00]            [15:48:51]         [16:18:52]      [0:00:51]   [False]\n",
      "[Train 089]    [15:54:00]            [15:56:48]         [16:26:48]      [0:02:48]   [False]\n",
      "[Train 090]    [16:00:00]            [16:02:13]         [16:32:14]      [0:02:13]   [False]\n",
      "[Train 091]    [16:06:00]            [16:07:39]         [16:37:40]      [0:01:39]   [False]\n",
      "[Train 092]    [16:12:00]            [16:13:23]         [16:43:23]      [0:01:23]   [False]\n",
      "[Train 093]    [16:18:00]            [16:19:33]         [16:49:33]      [0:01:33]   [False]\n",
      "[Train 094]    [16:24:00]            [16:25:16]         [16:55:16]      [0:01:16]   [False]\n",
      "[Train 095]    [16:30:00]            [16:31:14]         [17:01:14]      [0:01:14]   [False]\n",
      "[Train 096]    [16:36:00]            [16:37:42]         [17:07:42]      [0:01:42]   [False]\n",
      "[Train 097]    [16:42:00]            [16:43:27]         [17:13:27]      [0:01:27]   [False]\n",
      "[Train 098]    [16:48:00]            [16:49:43]         [17:19:43]      [0:01:43]   [False]\n",
      "[Train 099]    [16:54:00]            [16:55:15]         [17:25:16]      [0:01:15]   [False]\n",
      "[Train 100]    [17:00:00]            [17:01:01]         [17:31:01]      [0:01:01]   [False]\n",
      "[Train 101]    [17:06:00]            [17:06:39]         [17:36:49]      [0:00:39]   [False]\n",
      "[Train 102]    [17:12:00]            [17:13:52]         [17:43:52]      [0:01:52]   [False]\n",
      "[Train 103]    [17:18:00]            [17:18:46]         [17:48:52]      [0:00:46]   [False]\n",
      "[Train 104]    [17:24:00]            [17:25:31]         [17:55:31]      [0:01:31]   [False]\n",
      "[Train 105]    [17:30:00]            [17:30:55]         [18:00:56]      [0:00:55]   [False]\n",
      "[Train 106]    [17:36:00]            [17:37:03]         [18:07:03]      [0:01:03]   [False]\n",
      "[Train 107]    [17:42:00]            [17:44:42]         [18:14:42]      [0:02:42]   [False]\n",
      "[Train 108]    [17:48:00]            [17:49:34]         [18:19:41]      [0:01:34]   [False]\n",
      "[Train 109]    [17:54:00]            [17:55:01]         [18:25:03]      [0:01:01]   [False]\n",
      "[Train 110]    [18:00:00]            [18:01:47]         [18:31:47]      [0:01:47]   [False]\n",
      "[Train 111]    [18:06:00]            [18:07:01]         [18:37:18]      [0:01:01]   [False]\n",
      "[Train 112]    [18:12:00]            [18:12:58]         [18:42:58]      [0:00:58]   [False]\n",
      "[Train 113]    [18:18:00]            [18:19:23]         [18:49:23]      [0:01:23]   [False]\n",
      "[Train 114]    [18:24:00]            [18:25:45]         [18:55:45]      [0:01:45]   [False]\n",
      "[Train 115]    [18:30:00]            [18:31:44]         [19:01:44]      [0:01:44]   [False]\n",
      "[Train 116]    [18:36:00]            [18:36:58]         [19:07:15]      [0:00:58]   [False]\n",
      "[Train 117]    [18:42:00]            [18:43:10]         [19:13:10]      [0:01:10]   [False]\n",
      "[Train 118]    [18:48:00]            [18:49:27]         [19:19:27]      [0:01:27]   [False]\n",
      "[Train 119]    [18:54:00]            [18:54:51]         [19:24:52]      [0:00:51]   [False]\n",
      "[Train 120]    [19:00:00]            [19:02:07]         [19:32:07]      [0:02:07]   [False]\n",
      "[Train 121]    [19:06:00]            [19:07:34]         [19:37:35]      [0:01:34]   [False]\n",
      "[Train 122]    [19:12:00]            [19:13:25]         [19:43:25]      [0:01:25]   [False]\n",
      "[Train 123]    [19:18:00]            [19:18:34]         [19:48:37]      [0:00:34]   [False]\n",
      "[Train 124]    [19:24:00]            [19:25:20]         [19:55:20]      [0:01:20]   [False]\n",
      "[Train 125]    [19:30:00]            [19:30:52]         [20:00:53]      [0:00:52]   [False]\n",
      "[Train 126]    [19:36:00]            [19:36:35]         [20:06:35]      [0:00:35]   [False]\n",
      "[Train 127]    [19:42:00]            [19:43:56]         [20:13:56]      [0:01:56]   [False]\n",
      "[Train 128]    [19:48:00]            [19:49:46]         [20:19:46]      [0:01:46]   [False]\n",
      "[Train 129]    [19:54:00]            [19:55:56]         [20:25:56]      [0:01:56]   [False]\n",
      "[Train 130]    [20:00:00]            [20:00:45]         [20:31:23]      [0:00:45]   [False]\n",
      "[Train 131]    [20:06:00]            [20:07:25]         [20:37:25]      [0:01:25]   [False]\n",
      "[Train 132]    [20:12:00]            [20:13:20]         [20:43:20]      [0:01:20]   [False]\n",
      "[Train 133]    [20:18:00]            [20:19:43]         [20:49:43]      [0:01:43]   [False]\n",
      "[Train 134]    [20:24:00]            [20:25:26]         [20:55:26]      [0:01:26]   [False]\n",
      "[Train 135]    [20:30:00]            [20:31:05]         [21:01:05]      [0:01:05]   [False]\n",
      "[Train 136]    [20:36:00]            [20:37:16]         [21:12:22]      [0:06:26]   [True]\n",
      "[Train 137]    [20:42:00]            [20:43:23]         [21:25:32]      [0:13:37]   [True]\n",
      "[Train 138]    [20:48:00]            [20:49:53]         [21:39:32]      [0:21:36]   [True]\n",
      "[Train 139]    [20:54:00]            [20:55:18]         [21:51:11]      [0:27:16]   [True]\n",
      "[Train 140]    [21:00:00]            [21:01:50]         [22:03:17]      [0:33:11]   [True]\n",
      "[Train 141]    [21:06:00]            [21:07:12]         [22:08:46]      [0:26:59]   [True]\n",
      "[Train 142]    [21:12:00]            [21:14:09]         [22:15:36]      [0:32:37]   [True]\n",
      "[Train 143]    [21:18:00]            [21:19:41]         [22:21:06]      [0:28:15]   [True]\n",
      "[Train 144]    [21:24:00]            [21:26:09]         [22:27:36]      [0:31:48]   [True]\n",
      "[Train 145]    [21:30:00]            [21:31:18]         [22:33:01]      [0:25:53]   [True]\n",
      "[Train 146]    [21:36:00]            [21:37:33]         [22:39:00]      [0:30:31]   [True]\n",
      "[Train 147]    [21:42:00]            [21:42:16]         [22:44:08]      [0:22:29]   [True]\n",
      "[Train 148]    [21:48:00]            [21:49:57]         [22:51:24]      [0:33:00]   [True]\n",
      "[Train 149]    [21:54:00]            [21:55:32]         [22:56:56]      [0:28:20]   [True]\n",
      "[Train 150]    [22:00:00]            [22:01:35]         [23:03:02]      [0:30:08]   [True]\n"
     ]
    }
   ],
   "source": [
    "# Reset the global data\n",
    "reset_config(10, 15)\n",
    "\n",
    "\n",
    "# Introduce a 30 minutes delay at 9AM on first block.\n",
    "breakdown = Disruption()\n",
    "breakdown.manual_disruption(duration = 30*60, speed_limit = 0, cause = 'Electrical Malfunction', start_time = 3600 * (9-config['start_hour']), block = 0)\n",
    "#config['disruptions'].append(breakdown)\n",
    "\n",
    "\n",
    "# Run the simulation\n",
    "return_data = simulate_trains(trains_per_hour = 10, signalling_blocks = 15, introduce_delays = True, custom_delay = breakdown, print_disruption = True, print_report=True, plot_distributions = False)"
   ]
  },
  {
   "cell_type": "markdown",
   "metadata": {},
   "source": [
    "# 9.2 Plot Distributions\n",
    "\n",
    "While running the simulation, set the **plot_distributions** parameter to **True** to plot the distiutions of a few key metrics of the simulation."
   ]
  },
  {
   "cell_type": "code",
   "execution_count": 77,
   "metadata": {
    "scrolled": false
   },
   "outputs": [
    {
     "name": "stdout",
     "output_type": "stream",
     "text": [
      "\n",
      "+--------------------------------------+\n",
      "|               DISRUPTIONS            |\n",
      "+--------------------------------------+\n",
      "    \n",
      "[#]  Electrical Malfunction caused a 1800 seconds delay at 09:00:00 in block(s) [0] with a speed limit of 0 m/s.\n"
     ]
    },
    {
     "data": {
      "application/vnd.plotly.v1+json": {
       "config": {
        "plotlyServerURL": "https://plot.ly"
       },
       "data": [
        {
         "alignmentgroup": "True",
         "bingroup": "x",
         "hoverlabel": {
          "namelength": 0
         },
         "hovertemplate": "Travel Duration of Trains (seconds)=%{x}<br>count=%{y}",
         "legendgroup": "",
         "marker": {
          "color": "#636efa"
         },
         "name": "",
         "offsetgroup": "",
         "orientation": "v",
         "showlegend": false,
         "type": "histogram",
         "x": [
          1800,
          1803,
          1800,
          1817,
          1800,
          1800,
          1800,
          1801,
          1800,
          1803,
          1800,
          1800,
          1805,
          1800,
          1800,
          1800,
          1800,
          1800,
          1803,
          1800,
          1800,
          1800,
          1800,
          1841,
          1800,
          1802,
          1807,
          1800,
          1800,
          1801,
          1800,
          1800,
          1810,
          1810,
          1800,
          1800,
          1816,
          1800,
          1800,
          1817,
          1800,
          1802,
          1831,
          1800,
          1800,
          1800,
          1825,
          1801,
          1800,
          1800,
          1800,
          1800,
          1800,
          1830,
          1800,
          1800,
          1800,
          1811,
          1800,
          1811,
          1801,
          1800,
          1800,
          1800,
          1800,
          1800,
          1818,
          1800,
          1800,
          1838,
          1800,
          1800,
          1821,
          1800,
          1800,
          1800,
          1801,
          1825,
          1800,
          1800,
          1800,
          1800,
          1800,
          1808,
          1800,
          1802,
          1800,
          1800,
          1801,
          1800,
          1812,
          1800,
          1808,
          1800,
          1804,
          1800,
          1800,
          1804,
          1800,
          1800,
          1800,
          1800,
          1800,
          1800,
          1803,
          1800,
          1800,
          1811,
          1800,
          1800,
          1800,
          1801,
          1800,
          1800,
          1800,
          1800,
          1804,
          1800,
          1801,
          1800,
          1812,
          1815,
          1800,
          1800,
          1808,
          1800,
          1826,
          1800,
          1800,
          1800,
          1800,
          1831,
          1838,
          1800,
          1801,
          1800,
          1800,
          1800,
          1800,
          1814,
          1800,
          1815,
          1800,
          1808,
          1800,
          1800,
          1800,
          1801,
          1833,
          1813,
          1800
         ],
         "xaxis": "x",
         "yaxis": "y"
        }
       ],
       "layout": {
        "barmode": "relative",
        "legend": {
         "tracegroupgap": 0
        },
        "template": {
         "data": {
          "bar": [
           {
            "error_x": {
             "color": "#2a3f5f"
            },
            "error_y": {
             "color": "#2a3f5f"
            },
            "marker": {
             "line": {
              "color": "#E5ECF6",
              "width": 0.5
             }
            },
            "type": "bar"
           }
          ],
          "barpolar": [
           {
            "marker": {
             "line": {
              "color": "#E5ECF6",
              "width": 0.5
             }
            },
            "type": "barpolar"
           }
          ],
          "carpet": [
           {
            "aaxis": {
             "endlinecolor": "#2a3f5f",
             "gridcolor": "white",
             "linecolor": "white",
             "minorgridcolor": "white",
             "startlinecolor": "#2a3f5f"
            },
            "baxis": {
             "endlinecolor": "#2a3f5f",
             "gridcolor": "white",
             "linecolor": "white",
             "minorgridcolor": "white",
             "startlinecolor": "#2a3f5f"
            },
            "type": "carpet"
           }
          ],
          "choropleth": [
           {
            "colorbar": {
             "outlinewidth": 0,
             "ticks": ""
            },
            "type": "choropleth"
           }
          ],
          "contour": [
           {
            "colorbar": {
             "outlinewidth": 0,
             "ticks": ""
            },
            "colorscale": [
             [
              0,
              "#0d0887"
             ],
             [
              0.1111111111111111,
              "#46039f"
             ],
             [
              0.2222222222222222,
              "#7201a8"
             ],
             [
              0.3333333333333333,
              "#9c179e"
             ],
             [
              0.4444444444444444,
              "#bd3786"
             ],
             [
              0.5555555555555556,
              "#d8576b"
             ],
             [
              0.6666666666666666,
              "#ed7953"
             ],
             [
              0.7777777777777778,
              "#fb9f3a"
             ],
             [
              0.8888888888888888,
              "#fdca26"
             ],
             [
              1,
              "#f0f921"
             ]
            ],
            "type": "contour"
           }
          ],
          "contourcarpet": [
           {
            "colorbar": {
             "outlinewidth": 0,
             "ticks": ""
            },
            "type": "contourcarpet"
           }
          ],
          "heatmap": [
           {
            "colorbar": {
             "outlinewidth": 0,
             "ticks": ""
            },
            "colorscale": [
             [
              0,
              "#0d0887"
             ],
             [
              0.1111111111111111,
              "#46039f"
             ],
             [
              0.2222222222222222,
              "#7201a8"
             ],
             [
              0.3333333333333333,
              "#9c179e"
             ],
             [
              0.4444444444444444,
              "#bd3786"
             ],
             [
              0.5555555555555556,
              "#d8576b"
             ],
             [
              0.6666666666666666,
              "#ed7953"
             ],
             [
              0.7777777777777778,
              "#fb9f3a"
             ],
             [
              0.8888888888888888,
              "#fdca26"
             ],
             [
              1,
              "#f0f921"
             ]
            ],
            "type": "heatmap"
           }
          ],
          "heatmapgl": [
           {
            "colorbar": {
             "outlinewidth": 0,
             "ticks": ""
            },
            "colorscale": [
             [
              0,
              "#0d0887"
             ],
             [
              0.1111111111111111,
              "#46039f"
             ],
             [
              0.2222222222222222,
              "#7201a8"
             ],
             [
              0.3333333333333333,
              "#9c179e"
             ],
             [
              0.4444444444444444,
              "#bd3786"
             ],
             [
              0.5555555555555556,
              "#d8576b"
             ],
             [
              0.6666666666666666,
              "#ed7953"
             ],
             [
              0.7777777777777778,
              "#fb9f3a"
             ],
             [
              0.8888888888888888,
              "#fdca26"
             ],
             [
              1,
              "#f0f921"
             ]
            ],
            "type": "heatmapgl"
           }
          ],
          "histogram": [
           {
            "marker": {
             "colorbar": {
              "outlinewidth": 0,
              "ticks": ""
             }
            },
            "type": "histogram"
           }
          ],
          "histogram2d": [
           {
            "colorbar": {
             "outlinewidth": 0,
             "ticks": ""
            },
            "colorscale": [
             [
              0,
              "#0d0887"
             ],
             [
              0.1111111111111111,
              "#46039f"
             ],
             [
              0.2222222222222222,
              "#7201a8"
             ],
             [
              0.3333333333333333,
              "#9c179e"
             ],
             [
              0.4444444444444444,
              "#bd3786"
             ],
             [
              0.5555555555555556,
              "#d8576b"
             ],
             [
              0.6666666666666666,
              "#ed7953"
             ],
             [
              0.7777777777777778,
              "#fb9f3a"
             ],
             [
              0.8888888888888888,
              "#fdca26"
             ],
             [
              1,
              "#f0f921"
             ]
            ],
            "type": "histogram2d"
           }
          ],
          "histogram2dcontour": [
           {
            "colorbar": {
             "outlinewidth": 0,
             "ticks": ""
            },
            "colorscale": [
             [
              0,
              "#0d0887"
             ],
             [
              0.1111111111111111,
              "#46039f"
             ],
             [
              0.2222222222222222,
              "#7201a8"
             ],
             [
              0.3333333333333333,
              "#9c179e"
             ],
             [
              0.4444444444444444,
              "#bd3786"
             ],
             [
              0.5555555555555556,
              "#d8576b"
             ],
             [
              0.6666666666666666,
              "#ed7953"
             ],
             [
              0.7777777777777778,
              "#fb9f3a"
             ],
             [
              0.8888888888888888,
              "#fdca26"
             ],
             [
              1,
              "#f0f921"
             ]
            ],
            "type": "histogram2dcontour"
           }
          ],
          "mesh3d": [
           {
            "colorbar": {
             "outlinewidth": 0,
             "ticks": ""
            },
            "type": "mesh3d"
           }
          ],
          "parcoords": [
           {
            "line": {
             "colorbar": {
              "outlinewidth": 0,
              "ticks": ""
             }
            },
            "type": "parcoords"
           }
          ],
          "pie": [
           {
            "automargin": true,
            "type": "pie"
           }
          ],
          "scatter": [
           {
            "marker": {
             "colorbar": {
              "outlinewidth": 0,
              "ticks": ""
             }
            },
            "type": "scatter"
           }
          ],
          "scatter3d": [
           {
            "line": {
             "colorbar": {
              "outlinewidth": 0,
              "ticks": ""
             }
            },
            "marker": {
             "colorbar": {
              "outlinewidth": 0,
              "ticks": ""
             }
            },
            "type": "scatter3d"
           }
          ],
          "scattercarpet": [
           {
            "marker": {
             "colorbar": {
              "outlinewidth": 0,
              "ticks": ""
             }
            },
            "type": "scattercarpet"
           }
          ],
          "scattergeo": [
           {
            "marker": {
             "colorbar": {
              "outlinewidth": 0,
              "ticks": ""
             }
            },
            "type": "scattergeo"
           }
          ],
          "scattergl": [
           {
            "marker": {
             "colorbar": {
              "outlinewidth": 0,
              "ticks": ""
             }
            },
            "type": "scattergl"
           }
          ],
          "scattermapbox": [
           {
            "marker": {
             "colorbar": {
              "outlinewidth": 0,
              "ticks": ""
             }
            },
            "type": "scattermapbox"
           }
          ],
          "scatterpolar": [
           {
            "marker": {
             "colorbar": {
              "outlinewidth": 0,
              "ticks": ""
             }
            },
            "type": "scatterpolar"
           }
          ],
          "scatterpolargl": [
           {
            "marker": {
             "colorbar": {
              "outlinewidth": 0,
              "ticks": ""
             }
            },
            "type": "scatterpolargl"
           }
          ],
          "scatterternary": [
           {
            "marker": {
             "colorbar": {
              "outlinewidth": 0,
              "ticks": ""
             }
            },
            "type": "scatterternary"
           }
          ],
          "surface": [
           {
            "colorbar": {
             "outlinewidth": 0,
             "ticks": ""
            },
            "colorscale": [
             [
              0,
              "#0d0887"
             ],
             [
              0.1111111111111111,
              "#46039f"
             ],
             [
              0.2222222222222222,
              "#7201a8"
             ],
             [
              0.3333333333333333,
              "#9c179e"
             ],
             [
              0.4444444444444444,
              "#bd3786"
             ],
             [
              0.5555555555555556,
              "#d8576b"
             ],
             [
              0.6666666666666666,
              "#ed7953"
             ],
             [
              0.7777777777777778,
              "#fb9f3a"
             ],
             [
              0.8888888888888888,
              "#fdca26"
             ],
             [
              1,
              "#f0f921"
             ]
            ],
            "type": "surface"
           }
          ],
          "table": [
           {
            "cells": {
             "fill": {
              "color": "#EBF0F8"
             },
             "line": {
              "color": "white"
             }
            },
            "header": {
             "fill": {
              "color": "#C8D4E3"
             },
             "line": {
              "color": "white"
             }
            },
            "type": "table"
           }
          ]
         },
         "layout": {
          "annotationdefaults": {
           "arrowcolor": "#2a3f5f",
           "arrowhead": 0,
           "arrowwidth": 1
          },
          "coloraxis": {
           "colorbar": {
            "outlinewidth": 0,
            "ticks": ""
           }
          },
          "colorscale": {
           "diverging": [
            [
             0,
             "#8e0152"
            ],
            [
             0.1,
             "#c51b7d"
            ],
            [
             0.2,
             "#de77ae"
            ],
            [
             0.3,
             "#f1b6da"
            ],
            [
             0.4,
             "#fde0ef"
            ],
            [
             0.5,
             "#f7f7f7"
            ],
            [
             0.6,
             "#e6f5d0"
            ],
            [
             0.7,
             "#b8e186"
            ],
            [
             0.8,
             "#7fbc41"
            ],
            [
             0.9,
             "#4d9221"
            ],
            [
             1,
             "#276419"
            ]
           ],
           "sequential": [
            [
             0,
             "#0d0887"
            ],
            [
             0.1111111111111111,
             "#46039f"
            ],
            [
             0.2222222222222222,
             "#7201a8"
            ],
            [
             0.3333333333333333,
             "#9c179e"
            ],
            [
             0.4444444444444444,
             "#bd3786"
            ],
            [
             0.5555555555555556,
             "#d8576b"
            ],
            [
             0.6666666666666666,
             "#ed7953"
            ],
            [
             0.7777777777777778,
             "#fb9f3a"
            ],
            [
             0.8888888888888888,
             "#fdca26"
            ],
            [
             1,
             "#f0f921"
            ]
           ],
           "sequentialminus": [
            [
             0,
             "#0d0887"
            ],
            [
             0.1111111111111111,
             "#46039f"
            ],
            [
             0.2222222222222222,
             "#7201a8"
            ],
            [
             0.3333333333333333,
             "#9c179e"
            ],
            [
             0.4444444444444444,
             "#bd3786"
            ],
            [
             0.5555555555555556,
             "#d8576b"
            ],
            [
             0.6666666666666666,
             "#ed7953"
            ],
            [
             0.7777777777777778,
             "#fb9f3a"
            ],
            [
             0.8888888888888888,
             "#fdca26"
            ],
            [
             1,
             "#f0f921"
            ]
           ]
          },
          "colorway": [
           "#636efa",
           "#EF553B",
           "#00cc96",
           "#ab63fa",
           "#FFA15A",
           "#19d3f3",
           "#FF6692",
           "#B6E880",
           "#FF97FF",
           "#FECB52"
          ],
          "font": {
           "color": "#2a3f5f"
          },
          "geo": {
           "bgcolor": "white",
           "lakecolor": "white",
           "landcolor": "#E5ECF6",
           "showlakes": true,
           "showland": true,
           "subunitcolor": "white"
          },
          "hoverlabel": {
           "align": "left"
          },
          "hovermode": "closest",
          "mapbox": {
           "style": "light"
          },
          "paper_bgcolor": "white",
          "plot_bgcolor": "#E5ECF6",
          "polar": {
           "angularaxis": {
            "gridcolor": "white",
            "linecolor": "white",
            "ticks": ""
           },
           "bgcolor": "#E5ECF6",
           "radialaxis": {
            "gridcolor": "white",
            "linecolor": "white",
            "ticks": ""
           }
          },
          "scene": {
           "xaxis": {
            "backgroundcolor": "#E5ECF6",
            "gridcolor": "white",
            "gridwidth": 2,
            "linecolor": "white",
            "showbackground": true,
            "ticks": "",
            "zerolinecolor": "white"
           },
           "yaxis": {
            "backgroundcolor": "#E5ECF6",
            "gridcolor": "white",
            "gridwidth": 2,
            "linecolor": "white",
            "showbackground": true,
            "ticks": "",
            "zerolinecolor": "white"
           },
           "zaxis": {
            "backgroundcolor": "#E5ECF6",
            "gridcolor": "white",
            "gridwidth": 2,
            "linecolor": "white",
            "showbackground": true,
            "ticks": "",
            "zerolinecolor": "white"
           }
          },
          "shapedefaults": {
           "line": {
            "color": "#2a3f5f"
           }
          },
          "ternary": {
           "aaxis": {
            "gridcolor": "white",
            "linecolor": "white",
            "ticks": ""
           },
           "baxis": {
            "gridcolor": "white",
            "linecolor": "white",
            "ticks": ""
           },
           "bgcolor": "#E5ECF6",
           "caxis": {
            "gridcolor": "white",
            "linecolor": "white",
            "ticks": ""
           }
          },
          "title": {
           "x": 0.05
          },
          "xaxis": {
           "automargin": true,
           "gridcolor": "white",
           "linecolor": "white",
           "ticks": "",
           "title": {
            "standoff": 15
           },
           "zerolinecolor": "white",
           "zerolinewidth": 2
          },
          "yaxis": {
           "automargin": true,
           "gridcolor": "white",
           "linecolor": "white",
           "ticks": "",
           "title": {
            "standoff": 15
           },
           "zerolinecolor": "white",
           "zerolinewidth": 2
          }
         }
        },
        "title": {
         "text": "Travel Duration Distribution"
        },
        "xaxis": {
         "anchor": "y",
         "domain": [
          0,
          1
         ],
         "title": {
          "text": "Travel Duration of Trains (seconds)"
         }
        },
        "yaxis": {
         "anchor": "x",
         "domain": [
          0,
          1
         ],
         "title": {
          "text": "count"
         }
        }
       }
      },
      "text/html": [
       "<div>\n",
       "        \n",
       "        \n",
       "            <div id=\"89522f50-2184-4c3d-a13b-e3d044921d2a\" class=\"plotly-graph-div\" style=\"height:525px; width:100%;\"></div>\n",
       "            <script type=\"text/javascript\">\n",
       "                require([\"plotly\"], function(Plotly) {\n",
       "                    window.PLOTLYENV=window.PLOTLYENV || {};\n",
       "                    \n",
       "                if (document.getElementById(\"89522f50-2184-4c3d-a13b-e3d044921d2a\")) {\n",
       "                    Plotly.newPlot(\n",
       "                        '89522f50-2184-4c3d-a13b-e3d044921d2a',\n",
       "                        [{\"alignmentgroup\": \"True\", \"bingroup\": \"x\", \"hoverlabel\": {\"namelength\": 0}, \"hovertemplate\": \"Travel Duration of Trains (seconds)=%{x}<br>count=%{y}\", \"legendgroup\": \"\", \"marker\": {\"color\": \"#636efa\"}, \"name\": \"\", \"offsetgroup\": \"\", \"orientation\": \"v\", \"showlegend\": false, \"type\": \"histogram\", \"x\": [1800, 1803, 1800, 1817, 1800, 1800, 1800, 1801, 1800, 1803, 1800, 1800, 1805, 1800, 1800, 1800, 1800, 1800, 1803, 1800, 1800, 1800, 1800, 1841, 1800, 1802, 1807, 1800, 1800, 1801, 1800, 1800, 1810, 1810, 1800, 1800, 1816, 1800, 1800, 1817, 1800, 1802, 1831, 1800, 1800, 1800, 1825, 1801, 1800, 1800, 1800, 1800, 1800, 1830, 1800, 1800, 1800, 1811, 1800, 1811, 1801, 1800, 1800, 1800, 1800, 1800, 1818, 1800, 1800, 1838, 1800, 1800, 1821, 1800, 1800, 1800, 1801, 1825, 1800, 1800, 1800, 1800, 1800, 1808, 1800, 1802, 1800, 1800, 1801, 1800, 1812, 1800, 1808, 1800, 1804, 1800, 1800, 1804, 1800, 1800, 1800, 1800, 1800, 1800, 1803, 1800, 1800, 1811, 1800, 1800, 1800, 1801, 1800, 1800, 1800, 1800, 1804, 1800, 1801, 1800, 1812, 1815, 1800, 1800, 1808, 1800, 1826, 1800, 1800, 1800, 1800, 1831, 1838, 1800, 1801, 1800, 1800, 1800, 1800, 1814, 1800, 1815, 1800, 1808, 1800, 1800, 1800, 1801, 1833, 1813, 1800], \"xaxis\": \"x\", \"yaxis\": \"y\"}],\n",
       "                        {\"barmode\": \"relative\", \"legend\": {\"tracegroupgap\": 0}, \"template\": {\"data\": {\"bar\": [{\"error_x\": {\"color\": \"#2a3f5f\"}, \"error_y\": {\"color\": \"#2a3f5f\"}, \"marker\": {\"line\": {\"color\": \"#E5ECF6\", \"width\": 0.5}}, \"type\": \"bar\"}], \"barpolar\": [{\"marker\": {\"line\": {\"color\": \"#E5ECF6\", \"width\": 0.5}}, \"type\": \"barpolar\"}], \"carpet\": [{\"aaxis\": {\"endlinecolor\": \"#2a3f5f\", \"gridcolor\": \"white\", \"linecolor\": \"white\", \"minorgridcolor\": \"white\", \"startlinecolor\": \"#2a3f5f\"}, \"baxis\": {\"endlinecolor\": \"#2a3f5f\", \"gridcolor\": \"white\", \"linecolor\": \"white\", \"minorgridcolor\": \"white\", \"startlinecolor\": \"#2a3f5f\"}, \"type\": \"carpet\"}], \"choropleth\": [{\"colorbar\": {\"outlinewidth\": 0, \"ticks\": \"\"}, \"type\": \"choropleth\"}], \"contour\": [{\"colorbar\": {\"outlinewidth\": 0, \"ticks\": \"\"}, \"colorscale\": [[0.0, \"#0d0887\"], [0.1111111111111111, \"#46039f\"], [0.2222222222222222, \"#7201a8\"], [0.3333333333333333, \"#9c179e\"], [0.4444444444444444, \"#bd3786\"], [0.5555555555555556, \"#d8576b\"], [0.6666666666666666, \"#ed7953\"], [0.7777777777777778, \"#fb9f3a\"], [0.8888888888888888, \"#fdca26\"], [1.0, \"#f0f921\"]], \"type\": \"contour\"}], \"contourcarpet\": [{\"colorbar\": {\"outlinewidth\": 0, \"ticks\": \"\"}, \"type\": \"contourcarpet\"}], \"heatmap\": [{\"colorbar\": {\"outlinewidth\": 0, \"ticks\": \"\"}, \"colorscale\": [[0.0, \"#0d0887\"], [0.1111111111111111, \"#46039f\"], [0.2222222222222222, \"#7201a8\"], [0.3333333333333333, \"#9c179e\"], [0.4444444444444444, \"#bd3786\"], [0.5555555555555556, \"#d8576b\"], [0.6666666666666666, \"#ed7953\"], [0.7777777777777778, \"#fb9f3a\"], [0.8888888888888888, \"#fdca26\"], [1.0, \"#f0f921\"]], \"type\": \"heatmap\"}], \"heatmapgl\": [{\"colorbar\": {\"outlinewidth\": 0, \"ticks\": \"\"}, \"colorscale\": [[0.0, \"#0d0887\"], [0.1111111111111111, \"#46039f\"], [0.2222222222222222, \"#7201a8\"], [0.3333333333333333, \"#9c179e\"], [0.4444444444444444, \"#bd3786\"], [0.5555555555555556, \"#d8576b\"], [0.6666666666666666, \"#ed7953\"], [0.7777777777777778, \"#fb9f3a\"], [0.8888888888888888, \"#fdca26\"], [1.0, \"#f0f921\"]], \"type\": \"heatmapgl\"}], \"histogram\": [{\"marker\": {\"colorbar\": {\"outlinewidth\": 0, \"ticks\": \"\"}}, \"type\": \"histogram\"}], \"histogram2d\": [{\"colorbar\": {\"outlinewidth\": 0, \"ticks\": \"\"}, \"colorscale\": [[0.0, \"#0d0887\"], [0.1111111111111111, \"#46039f\"], [0.2222222222222222, \"#7201a8\"], [0.3333333333333333, \"#9c179e\"], [0.4444444444444444, \"#bd3786\"], [0.5555555555555556, \"#d8576b\"], [0.6666666666666666, \"#ed7953\"], [0.7777777777777778, \"#fb9f3a\"], [0.8888888888888888, \"#fdca26\"], [1.0, \"#f0f921\"]], \"type\": \"histogram2d\"}], \"histogram2dcontour\": [{\"colorbar\": {\"outlinewidth\": 0, \"ticks\": \"\"}, \"colorscale\": [[0.0, \"#0d0887\"], [0.1111111111111111, \"#46039f\"], [0.2222222222222222, \"#7201a8\"], [0.3333333333333333, \"#9c179e\"], [0.4444444444444444, \"#bd3786\"], [0.5555555555555556, \"#d8576b\"], [0.6666666666666666, \"#ed7953\"], [0.7777777777777778, \"#fb9f3a\"], [0.8888888888888888, \"#fdca26\"], [1.0, \"#f0f921\"]], \"type\": \"histogram2dcontour\"}], \"mesh3d\": [{\"colorbar\": {\"outlinewidth\": 0, \"ticks\": \"\"}, \"type\": \"mesh3d\"}], \"parcoords\": [{\"line\": {\"colorbar\": {\"outlinewidth\": 0, \"ticks\": \"\"}}, \"type\": \"parcoords\"}], \"pie\": [{\"automargin\": true, \"type\": \"pie\"}], \"scatter\": [{\"marker\": {\"colorbar\": {\"outlinewidth\": 0, \"ticks\": \"\"}}, \"type\": \"scatter\"}], \"scatter3d\": [{\"line\": {\"colorbar\": {\"outlinewidth\": 0, \"ticks\": \"\"}}, \"marker\": {\"colorbar\": {\"outlinewidth\": 0, \"ticks\": \"\"}}, \"type\": \"scatter3d\"}], \"scattercarpet\": [{\"marker\": {\"colorbar\": {\"outlinewidth\": 0, \"ticks\": \"\"}}, \"type\": \"scattercarpet\"}], \"scattergeo\": [{\"marker\": {\"colorbar\": {\"outlinewidth\": 0, \"ticks\": \"\"}}, \"type\": \"scattergeo\"}], \"scattergl\": [{\"marker\": {\"colorbar\": {\"outlinewidth\": 0, \"ticks\": \"\"}}, \"type\": \"scattergl\"}], \"scattermapbox\": [{\"marker\": {\"colorbar\": {\"outlinewidth\": 0, \"ticks\": \"\"}}, \"type\": \"scattermapbox\"}], \"scatterpolar\": [{\"marker\": {\"colorbar\": {\"outlinewidth\": 0, \"ticks\": \"\"}}, \"type\": \"scatterpolar\"}], \"scatterpolargl\": [{\"marker\": {\"colorbar\": {\"outlinewidth\": 0, \"ticks\": \"\"}}, \"type\": \"scatterpolargl\"}], \"scatterternary\": [{\"marker\": {\"colorbar\": {\"outlinewidth\": 0, \"ticks\": \"\"}}, \"type\": \"scatterternary\"}], \"surface\": [{\"colorbar\": {\"outlinewidth\": 0, \"ticks\": \"\"}, \"colorscale\": [[0.0, \"#0d0887\"], [0.1111111111111111, \"#46039f\"], [0.2222222222222222, \"#7201a8\"], [0.3333333333333333, \"#9c179e\"], [0.4444444444444444, \"#bd3786\"], [0.5555555555555556, \"#d8576b\"], [0.6666666666666666, \"#ed7953\"], [0.7777777777777778, \"#fb9f3a\"], [0.8888888888888888, \"#fdca26\"], [1.0, \"#f0f921\"]], \"type\": \"surface\"}], \"table\": [{\"cells\": {\"fill\": {\"color\": \"#EBF0F8\"}, \"line\": {\"color\": \"white\"}}, \"header\": {\"fill\": {\"color\": \"#C8D4E3\"}, \"line\": {\"color\": \"white\"}}, \"type\": \"table\"}]}, \"layout\": {\"annotationdefaults\": {\"arrowcolor\": \"#2a3f5f\", \"arrowhead\": 0, \"arrowwidth\": 1}, \"coloraxis\": {\"colorbar\": {\"outlinewidth\": 0, \"ticks\": \"\"}}, \"colorscale\": {\"diverging\": [[0, \"#8e0152\"], [0.1, \"#c51b7d\"], [0.2, \"#de77ae\"], [0.3, \"#f1b6da\"], [0.4, \"#fde0ef\"], [0.5, \"#f7f7f7\"], [0.6, \"#e6f5d0\"], [0.7, \"#b8e186\"], [0.8, \"#7fbc41\"], [0.9, \"#4d9221\"], [1, \"#276419\"]], \"sequential\": [[0.0, \"#0d0887\"], [0.1111111111111111, \"#46039f\"], [0.2222222222222222, \"#7201a8\"], [0.3333333333333333, \"#9c179e\"], [0.4444444444444444, \"#bd3786\"], [0.5555555555555556, \"#d8576b\"], [0.6666666666666666, \"#ed7953\"], [0.7777777777777778, \"#fb9f3a\"], [0.8888888888888888, \"#fdca26\"], [1.0, \"#f0f921\"]], \"sequentialminus\": [[0.0, \"#0d0887\"], [0.1111111111111111, \"#46039f\"], [0.2222222222222222, \"#7201a8\"], [0.3333333333333333, \"#9c179e\"], [0.4444444444444444, \"#bd3786\"], [0.5555555555555556, \"#d8576b\"], [0.6666666666666666, \"#ed7953\"], [0.7777777777777778, \"#fb9f3a\"], [0.8888888888888888, \"#fdca26\"], [1.0, \"#f0f921\"]]}, \"colorway\": [\"#636efa\", \"#EF553B\", \"#00cc96\", \"#ab63fa\", \"#FFA15A\", \"#19d3f3\", \"#FF6692\", \"#B6E880\", \"#FF97FF\", \"#FECB52\"], \"font\": {\"color\": \"#2a3f5f\"}, \"geo\": {\"bgcolor\": \"white\", \"lakecolor\": \"white\", \"landcolor\": \"#E5ECF6\", \"showlakes\": true, \"showland\": true, \"subunitcolor\": \"white\"}, \"hoverlabel\": {\"align\": \"left\"}, \"hovermode\": \"closest\", \"mapbox\": {\"style\": \"light\"}, \"paper_bgcolor\": \"white\", \"plot_bgcolor\": \"#E5ECF6\", \"polar\": {\"angularaxis\": {\"gridcolor\": \"white\", \"linecolor\": \"white\", \"ticks\": \"\"}, \"bgcolor\": \"#E5ECF6\", \"radialaxis\": {\"gridcolor\": \"white\", \"linecolor\": \"white\", \"ticks\": \"\"}}, \"scene\": {\"xaxis\": {\"backgroundcolor\": \"#E5ECF6\", \"gridcolor\": \"white\", \"gridwidth\": 2, \"linecolor\": \"white\", \"showbackground\": true, \"ticks\": \"\", \"zerolinecolor\": \"white\"}, \"yaxis\": {\"backgroundcolor\": \"#E5ECF6\", \"gridcolor\": \"white\", \"gridwidth\": 2, \"linecolor\": \"white\", \"showbackground\": true, \"ticks\": \"\", \"zerolinecolor\": \"white\"}, \"zaxis\": {\"backgroundcolor\": \"#E5ECF6\", \"gridcolor\": \"white\", \"gridwidth\": 2, \"linecolor\": \"white\", \"showbackground\": true, \"ticks\": \"\", \"zerolinecolor\": \"white\"}}, \"shapedefaults\": {\"line\": {\"color\": \"#2a3f5f\"}}, \"ternary\": {\"aaxis\": {\"gridcolor\": \"white\", \"linecolor\": \"white\", \"ticks\": \"\"}, \"baxis\": {\"gridcolor\": \"white\", \"linecolor\": \"white\", \"ticks\": \"\"}, \"bgcolor\": \"#E5ECF6\", \"caxis\": {\"gridcolor\": \"white\", \"linecolor\": \"white\", \"ticks\": \"\"}}, \"title\": {\"x\": 0.05}, \"xaxis\": {\"automargin\": true, \"gridcolor\": \"white\", \"linecolor\": \"white\", \"ticks\": \"\", \"title\": {\"standoff\": 15}, \"zerolinecolor\": \"white\", \"zerolinewidth\": 2}, \"yaxis\": {\"automargin\": true, \"gridcolor\": \"white\", \"linecolor\": \"white\", \"ticks\": \"\", \"title\": {\"standoff\": 15}, \"zerolinecolor\": \"white\", \"zerolinewidth\": 2}}}, \"title\": {\"text\": \"Travel Duration Distribution\"}, \"xaxis\": {\"anchor\": \"y\", \"domain\": [0.0, 1.0], \"title\": {\"text\": \"Travel Duration of Trains (seconds)\"}}, \"yaxis\": {\"anchor\": \"x\", \"domain\": [0.0, 1.0], \"title\": {\"text\": \"count\"}}},\n",
       "                        {\"responsive\": true}\n",
       "                    ).then(function(){\n",
       "                            \n",
       "var gd = document.getElementById('89522f50-2184-4c3d-a13b-e3d044921d2a');\n",
       "var x = new MutationObserver(function (mutations, observer) {{\n",
       "        var display = window.getComputedStyle(gd).display;\n",
       "        if (!display || display === 'none') {{\n",
       "            console.log([gd, 'removed!']);\n",
       "            Plotly.purge(gd);\n",
       "            observer.disconnect();\n",
       "        }}\n",
       "}});\n",
       "\n",
       "// Listen for the removal of the full notebook cells\n",
       "var notebookContainer = gd.closest('#notebook-container');\n",
       "if (notebookContainer) {{\n",
       "    x.observe(notebookContainer, {childList: true});\n",
       "}}\n",
       "\n",
       "// Listen for the clearing of the current output cell\n",
       "var outputEl = gd.closest('.output');\n",
       "if (outputEl) {{\n",
       "    x.observe(outputEl, {childList: true});\n",
       "}}\n",
       "\n",
       "                        })\n",
       "                };\n",
       "                });\n",
       "            </script>\n",
       "        </div>"
      ]
     },
     "metadata": {},
     "output_type": "display_data"
    },
    {
     "data": {
      "application/vnd.plotly.v1+json": {
       "config": {
        "plotlyServerURL": "https://plot.ly"
       },
       "data": [
        {
         "alignmentgroup": "True",
         "bingroup": "x",
         "hoverlabel": {
          "namelength": 0
         },
         "hovertemplate": "Average Speed m/s=%{x}<br>count=%{y}",
         "legendgroup": "",
         "marker": {
          "color": "#636efa"
         },
         "name": "",
         "offsetgroup": "",
         "orientation": "v",
         "showlegend": false,
         "type": "histogram",
         "x": [
          80.55555555555556,
          80.42151968940655,
          80.55555555555556,
          79.80187121629059,
          80.55555555555556,
          80.55555555555556,
          80.55555555555556,
          80.51082731815659,
          80.55555555555556,
          80.42151968940655,
          80.55555555555556,
          80.55555555555556,
          80.33240997229917,
          80.55555555555556,
          80.55555555555556,
          80.55555555555556,
          80.55555555555556,
          80.55555555555556,
          80.42151968940655,
          80.55555555555556,
          80.55555555555556,
          80.55555555555556,
          80.55555555555556,
          78.76154263986963,
          80.55555555555556,
          80.4661487236404,
          80.24349750968456,
          80.55555555555556,
          80.55555555555556,
          80.51082731815659,
          80.55555555555556,
          80.55555555555556,
          80.11049723756906,
          80.11049723756906,
          80.55555555555556,
          80.55555555555556,
          79.84581497797357,
          80.55555555555556,
          80.55555555555556,
          79.80187121629059,
          80.55555555555556,
          80.4661487236404,
          79.19169852539596,
          80.55555555555556,
          80.55555555555556,
          80.55555555555556,
          79.45205479452055,
          80.51082731815659,
          80.55555555555556,
          80.55555555555556,
          80.55555555555556,
          80.55555555555556,
          80.55555555555556,
          79.23497267759562,
          80.55555555555556,
          80.55555555555556,
          80.55555555555556,
          80.0662617338487,
          80.55555555555556,
          80.0662617338487,
          80.51082731815659,
          80.55555555555556,
          80.55555555555556,
          80.55555555555556,
          80.55555555555556,
          80.55555555555556,
          79.75797579757976,
          80.55555555555556,
          80.55555555555556,
          78.89009793253537,
          80.55555555555556,
          80.55555555555556,
          79.62657880285558,
          80.55555555555556,
          80.55555555555556,
          80.55555555555556,
          80.51082731815659,
          79.45205479452055,
          80.55555555555556,
          80.55555555555556,
          80.55555555555556,
          80.55555555555556,
          80.55555555555556,
          80.19911504424779,
          80.55555555555556,
          80.4661487236404,
          80.55555555555556,
          80.55555555555556,
          80.51082731815659,
          80.55555555555556,
          80.02207505518764,
          80.55555555555556,
          80.19911504424779,
          80.55555555555556,
          80.37694013303769,
          80.55555555555556,
          80.55555555555556,
          80.37694013303769,
          80.55555555555556,
          80.55555555555556,
          80.55555555555556,
          80.55555555555556,
          80.55555555555556,
          80.55555555555556,
          80.42151968940655,
          80.55555555555556,
          80.55555555555556,
          80.0662617338487,
          80.55555555555556,
          80.55555555555556,
          80.55555555555556,
          80.51082731815659,
          80.55555555555556,
          80.55555555555556,
          80.55555555555556,
          80.55555555555556,
          80.37694013303769,
          80.55555555555556,
          80.51082731815659,
          80.55555555555556,
          80.02207505518764,
          79.88980716253444,
          80.55555555555556,
          80.55555555555556,
          80.19911504424779,
          80.55555555555556,
          79.40854326396494,
          80.55555555555556,
          80.55555555555556,
          80.55555555555556,
          80.55555555555556,
          79.19169852539596,
          78.89009793253537,
          80.55555555555556,
          80.51082731815659,
          80.55555555555556,
          80.55555555555556,
          80.55555555555556,
          80.55555555555556,
          79.93384785005513,
          80.55555555555556,
          79.88980716253444,
          80.55555555555556,
          80.19911504424779,
          80.55555555555556,
          80.55555555555556,
          80.55555555555556,
          80.51082731815659,
          79.10529187124932,
          79.97793712079427,
          80.55555555555556
         ],
         "xaxis": "x",
         "yaxis": "y"
        }
       ],
       "layout": {
        "barmode": "relative",
        "legend": {
         "tracegroupgap": 0
        },
        "template": {
         "data": {
          "bar": [
           {
            "error_x": {
             "color": "#2a3f5f"
            },
            "error_y": {
             "color": "#2a3f5f"
            },
            "marker": {
             "line": {
              "color": "#E5ECF6",
              "width": 0.5
             }
            },
            "type": "bar"
           }
          ],
          "barpolar": [
           {
            "marker": {
             "line": {
              "color": "#E5ECF6",
              "width": 0.5
             }
            },
            "type": "barpolar"
           }
          ],
          "carpet": [
           {
            "aaxis": {
             "endlinecolor": "#2a3f5f",
             "gridcolor": "white",
             "linecolor": "white",
             "minorgridcolor": "white",
             "startlinecolor": "#2a3f5f"
            },
            "baxis": {
             "endlinecolor": "#2a3f5f",
             "gridcolor": "white",
             "linecolor": "white",
             "minorgridcolor": "white",
             "startlinecolor": "#2a3f5f"
            },
            "type": "carpet"
           }
          ],
          "choropleth": [
           {
            "colorbar": {
             "outlinewidth": 0,
             "ticks": ""
            },
            "type": "choropleth"
           }
          ],
          "contour": [
           {
            "colorbar": {
             "outlinewidth": 0,
             "ticks": ""
            },
            "colorscale": [
             [
              0,
              "#0d0887"
             ],
             [
              0.1111111111111111,
              "#46039f"
             ],
             [
              0.2222222222222222,
              "#7201a8"
             ],
             [
              0.3333333333333333,
              "#9c179e"
             ],
             [
              0.4444444444444444,
              "#bd3786"
             ],
             [
              0.5555555555555556,
              "#d8576b"
             ],
             [
              0.6666666666666666,
              "#ed7953"
             ],
             [
              0.7777777777777778,
              "#fb9f3a"
             ],
             [
              0.8888888888888888,
              "#fdca26"
             ],
             [
              1,
              "#f0f921"
             ]
            ],
            "type": "contour"
           }
          ],
          "contourcarpet": [
           {
            "colorbar": {
             "outlinewidth": 0,
             "ticks": ""
            },
            "type": "contourcarpet"
           }
          ],
          "heatmap": [
           {
            "colorbar": {
             "outlinewidth": 0,
             "ticks": ""
            },
            "colorscale": [
             [
              0,
              "#0d0887"
             ],
             [
              0.1111111111111111,
              "#46039f"
             ],
             [
              0.2222222222222222,
              "#7201a8"
             ],
             [
              0.3333333333333333,
              "#9c179e"
             ],
             [
              0.4444444444444444,
              "#bd3786"
             ],
             [
              0.5555555555555556,
              "#d8576b"
             ],
             [
              0.6666666666666666,
              "#ed7953"
             ],
             [
              0.7777777777777778,
              "#fb9f3a"
             ],
             [
              0.8888888888888888,
              "#fdca26"
             ],
             [
              1,
              "#f0f921"
             ]
            ],
            "type": "heatmap"
           }
          ],
          "heatmapgl": [
           {
            "colorbar": {
             "outlinewidth": 0,
             "ticks": ""
            },
            "colorscale": [
             [
              0,
              "#0d0887"
             ],
             [
              0.1111111111111111,
              "#46039f"
             ],
             [
              0.2222222222222222,
              "#7201a8"
             ],
             [
              0.3333333333333333,
              "#9c179e"
             ],
             [
              0.4444444444444444,
              "#bd3786"
             ],
             [
              0.5555555555555556,
              "#d8576b"
             ],
             [
              0.6666666666666666,
              "#ed7953"
             ],
             [
              0.7777777777777778,
              "#fb9f3a"
             ],
             [
              0.8888888888888888,
              "#fdca26"
             ],
             [
              1,
              "#f0f921"
             ]
            ],
            "type": "heatmapgl"
           }
          ],
          "histogram": [
           {
            "marker": {
             "colorbar": {
              "outlinewidth": 0,
              "ticks": ""
             }
            },
            "type": "histogram"
           }
          ],
          "histogram2d": [
           {
            "colorbar": {
             "outlinewidth": 0,
             "ticks": ""
            },
            "colorscale": [
             [
              0,
              "#0d0887"
             ],
             [
              0.1111111111111111,
              "#46039f"
             ],
             [
              0.2222222222222222,
              "#7201a8"
             ],
             [
              0.3333333333333333,
              "#9c179e"
             ],
             [
              0.4444444444444444,
              "#bd3786"
             ],
             [
              0.5555555555555556,
              "#d8576b"
             ],
             [
              0.6666666666666666,
              "#ed7953"
             ],
             [
              0.7777777777777778,
              "#fb9f3a"
             ],
             [
              0.8888888888888888,
              "#fdca26"
             ],
             [
              1,
              "#f0f921"
             ]
            ],
            "type": "histogram2d"
           }
          ],
          "histogram2dcontour": [
           {
            "colorbar": {
             "outlinewidth": 0,
             "ticks": ""
            },
            "colorscale": [
             [
              0,
              "#0d0887"
             ],
             [
              0.1111111111111111,
              "#46039f"
             ],
             [
              0.2222222222222222,
              "#7201a8"
             ],
             [
              0.3333333333333333,
              "#9c179e"
             ],
             [
              0.4444444444444444,
              "#bd3786"
             ],
             [
              0.5555555555555556,
              "#d8576b"
             ],
             [
              0.6666666666666666,
              "#ed7953"
             ],
             [
              0.7777777777777778,
              "#fb9f3a"
             ],
             [
              0.8888888888888888,
              "#fdca26"
             ],
             [
              1,
              "#f0f921"
             ]
            ],
            "type": "histogram2dcontour"
           }
          ],
          "mesh3d": [
           {
            "colorbar": {
             "outlinewidth": 0,
             "ticks": ""
            },
            "type": "mesh3d"
           }
          ],
          "parcoords": [
           {
            "line": {
             "colorbar": {
              "outlinewidth": 0,
              "ticks": ""
             }
            },
            "type": "parcoords"
           }
          ],
          "pie": [
           {
            "automargin": true,
            "type": "pie"
           }
          ],
          "scatter": [
           {
            "marker": {
             "colorbar": {
              "outlinewidth": 0,
              "ticks": ""
             }
            },
            "type": "scatter"
           }
          ],
          "scatter3d": [
           {
            "line": {
             "colorbar": {
              "outlinewidth": 0,
              "ticks": ""
             }
            },
            "marker": {
             "colorbar": {
              "outlinewidth": 0,
              "ticks": ""
             }
            },
            "type": "scatter3d"
           }
          ],
          "scattercarpet": [
           {
            "marker": {
             "colorbar": {
              "outlinewidth": 0,
              "ticks": ""
             }
            },
            "type": "scattercarpet"
           }
          ],
          "scattergeo": [
           {
            "marker": {
             "colorbar": {
              "outlinewidth": 0,
              "ticks": ""
             }
            },
            "type": "scattergeo"
           }
          ],
          "scattergl": [
           {
            "marker": {
             "colorbar": {
              "outlinewidth": 0,
              "ticks": ""
             }
            },
            "type": "scattergl"
           }
          ],
          "scattermapbox": [
           {
            "marker": {
             "colorbar": {
              "outlinewidth": 0,
              "ticks": ""
             }
            },
            "type": "scattermapbox"
           }
          ],
          "scatterpolar": [
           {
            "marker": {
             "colorbar": {
              "outlinewidth": 0,
              "ticks": ""
             }
            },
            "type": "scatterpolar"
           }
          ],
          "scatterpolargl": [
           {
            "marker": {
             "colorbar": {
              "outlinewidth": 0,
              "ticks": ""
             }
            },
            "type": "scatterpolargl"
           }
          ],
          "scatterternary": [
           {
            "marker": {
             "colorbar": {
              "outlinewidth": 0,
              "ticks": ""
             }
            },
            "type": "scatterternary"
           }
          ],
          "surface": [
           {
            "colorbar": {
             "outlinewidth": 0,
             "ticks": ""
            },
            "colorscale": [
             [
              0,
              "#0d0887"
             ],
             [
              0.1111111111111111,
              "#46039f"
             ],
             [
              0.2222222222222222,
              "#7201a8"
             ],
             [
              0.3333333333333333,
              "#9c179e"
             ],
             [
              0.4444444444444444,
              "#bd3786"
             ],
             [
              0.5555555555555556,
              "#d8576b"
             ],
             [
              0.6666666666666666,
              "#ed7953"
             ],
             [
              0.7777777777777778,
              "#fb9f3a"
             ],
             [
              0.8888888888888888,
              "#fdca26"
             ],
             [
              1,
              "#f0f921"
             ]
            ],
            "type": "surface"
           }
          ],
          "table": [
           {
            "cells": {
             "fill": {
              "color": "#EBF0F8"
             },
             "line": {
              "color": "white"
             }
            },
            "header": {
             "fill": {
              "color": "#C8D4E3"
             },
             "line": {
              "color": "white"
             }
            },
            "type": "table"
           }
          ]
         },
         "layout": {
          "annotationdefaults": {
           "arrowcolor": "#2a3f5f",
           "arrowhead": 0,
           "arrowwidth": 1
          },
          "coloraxis": {
           "colorbar": {
            "outlinewidth": 0,
            "ticks": ""
           }
          },
          "colorscale": {
           "diverging": [
            [
             0,
             "#8e0152"
            ],
            [
             0.1,
             "#c51b7d"
            ],
            [
             0.2,
             "#de77ae"
            ],
            [
             0.3,
             "#f1b6da"
            ],
            [
             0.4,
             "#fde0ef"
            ],
            [
             0.5,
             "#f7f7f7"
            ],
            [
             0.6,
             "#e6f5d0"
            ],
            [
             0.7,
             "#b8e186"
            ],
            [
             0.8,
             "#7fbc41"
            ],
            [
             0.9,
             "#4d9221"
            ],
            [
             1,
             "#276419"
            ]
           ],
           "sequential": [
            [
             0,
             "#0d0887"
            ],
            [
             0.1111111111111111,
             "#46039f"
            ],
            [
             0.2222222222222222,
             "#7201a8"
            ],
            [
             0.3333333333333333,
             "#9c179e"
            ],
            [
             0.4444444444444444,
             "#bd3786"
            ],
            [
             0.5555555555555556,
             "#d8576b"
            ],
            [
             0.6666666666666666,
             "#ed7953"
            ],
            [
             0.7777777777777778,
             "#fb9f3a"
            ],
            [
             0.8888888888888888,
             "#fdca26"
            ],
            [
             1,
             "#f0f921"
            ]
           ],
           "sequentialminus": [
            [
             0,
             "#0d0887"
            ],
            [
             0.1111111111111111,
             "#46039f"
            ],
            [
             0.2222222222222222,
             "#7201a8"
            ],
            [
             0.3333333333333333,
             "#9c179e"
            ],
            [
             0.4444444444444444,
             "#bd3786"
            ],
            [
             0.5555555555555556,
             "#d8576b"
            ],
            [
             0.6666666666666666,
             "#ed7953"
            ],
            [
             0.7777777777777778,
             "#fb9f3a"
            ],
            [
             0.8888888888888888,
             "#fdca26"
            ],
            [
             1,
             "#f0f921"
            ]
           ]
          },
          "colorway": [
           "#636efa",
           "#EF553B",
           "#00cc96",
           "#ab63fa",
           "#FFA15A",
           "#19d3f3",
           "#FF6692",
           "#B6E880",
           "#FF97FF",
           "#FECB52"
          ],
          "font": {
           "color": "#2a3f5f"
          },
          "geo": {
           "bgcolor": "white",
           "lakecolor": "white",
           "landcolor": "#E5ECF6",
           "showlakes": true,
           "showland": true,
           "subunitcolor": "white"
          },
          "hoverlabel": {
           "align": "left"
          },
          "hovermode": "closest",
          "mapbox": {
           "style": "light"
          },
          "paper_bgcolor": "white",
          "plot_bgcolor": "#E5ECF6",
          "polar": {
           "angularaxis": {
            "gridcolor": "white",
            "linecolor": "white",
            "ticks": ""
           },
           "bgcolor": "#E5ECF6",
           "radialaxis": {
            "gridcolor": "white",
            "linecolor": "white",
            "ticks": ""
           }
          },
          "scene": {
           "xaxis": {
            "backgroundcolor": "#E5ECF6",
            "gridcolor": "white",
            "gridwidth": 2,
            "linecolor": "white",
            "showbackground": true,
            "ticks": "",
            "zerolinecolor": "white"
           },
           "yaxis": {
            "backgroundcolor": "#E5ECF6",
            "gridcolor": "white",
            "gridwidth": 2,
            "linecolor": "white",
            "showbackground": true,
            "ticks": "",
            "zerolinecolor": "white"
           },
           "zaxis": {
            "backgroundcolor": "#E5ECF6",
            "gridcolor": "white",
            "gridwidth": 2,
            "linecolor": "white",
            "showbackground": true,
            "ticks": "",
            "zerolinecolor": "white"
           }
          },
          "shapedefaults": {
           "line": {
            "color": "#2a3f5f"
           }
          },
          "ternary": {
           "aaxis": {
            "gridcolor": "white",
            "linecolor": "white",
            "ticks": ""
           },
           "baxis": {
            "gridcolor": "white",
            "linecolor": "white",
            "ticks": ""
           },
           "bgcolor": "#E5ECF6",
           "caxis": {
            "gridcolor": "white",
            "linecolor": "white",
            "ticks": ""
           }
          },
          "title": {
           "x": 0.05
          },
          "xaxis": {
           "automargin": true,
           "gridcolor": "white",
           "linecolor": "white",
           "ticks": "",
           "title": {
            "standoff": 15
           },
           "zerolinecolor": "white",
           "zerolinewidth": 2
          },
          "yaxis": {
           "automargin": true,
           "gridcolor": "white",
           "linecolor": "white",
           "ticks": "",
           "title": {
            "standoff": 15
           },
           "zerolinecolor": "white",
           "zerolinewidth": 2
          }
         }
        },
        "title": {
         "text": "Average Speed Distribution"
        },
        "xaxis": {
         "anchor": "y",
         "domain": [
          0,
          1
         ],
         "title": {
          "text": "Average Speed m/s"
         }
        },
        "yaxis": {
         "anchor": "x",
         "domain": [
          0,
          1
         ],
         "title": {
          "text": "count"
         }
        }
       }
      },
      "text/html": [
       "<div>\n",
       "        \n",
       "        \n",
       "            <div id=\"dd166a0e-0333-4ea5-ba91-f61a517bceba\" class=\"plotly-graph-div\" style=\"height:525px; width:100%;\"></div>\n",
       "            <script type=\"text/javascript\">\n",
       "                require([\"plotly\"], function(Plotly) {\n",
       "                    window.PLOTLYENV=window.PLOTLYENV || {};\n",
       "                    \n",
       "                if (document.getElementById(\"dd166a0e-0333-4ea5-ba91-f61a517bceba\")) {\n",
       "                    Plotly.newPlot(\n",
       "                        'dd166a0e-0333-4ea5-ba91-f61a517bceba',\n",
       "                        [{\"alignmentgroup\": \"True\", \"bingroup\": \"x\", \"hoverlabel\": {\"namelength\": 0}, \"hovertemplate\": \"Average Speed m/s=%{x}<br>count=%{y}\", \"legendgroup\": \"\", \"marker\": {\"color\": \"#636efa\"}, \"name\": \"\", \"offsetgroup\": \"\", \"orientation\": \"v\", \"showlegend\": false, \"type\": \"histogram\", \"x\": [80.55555555555556, 80.42151968940655, 80.55555555555556, 79.80187121629059, 80.55555555555556, 80.55555555555556, 80.55555555555556, 80.51082731815659, 80.55555555555556, 80.42151968940655, 80.55555555555556, 80.55555555555556, 80.33240997229917, 80.55555555555556, 80.55555555555556, 80.55555555555556, 80.55555555555556, 80.55555555555556, 80.42151968940655, 80.55555555555556, 80.55555555555556, 80.55555555555556, 80.55555555555556, 78.76154263986963, 80.55555555555556, 80.4661487236404, 80.24349750968456, 80.55555555555556, 80.55555555555556, 80.51082731815659, 80.55555555555556, 80.55555555555556, 80.11049723756906, 80.11049723756906, 80.55555555555556, 80.55555555555556, 79.84581497797357, 80.55555555555556, 80.55555555555556, 79.80187121629059, 80.55555555555556, 80.4661487236404, 79.19169852539596, 80.55555555555556, 80.55555555555556, 80.55555555555556, 79.45205479452055, 80.51082731815659, 80.55555555555556, 80.55555555555556, 80.55555555555556, 80.55555555555556, 80.55555555555556, 79.23497267759562, 80.55555555555556, 80.55555555555556, 80.55555555555556, 80.0662617338487, 80.55555555555556, 80.0662617338487, 80.51082731815659, 80.55555555555556, 80.55555555555556, 80.55555555555556, 80.55555555555556, 80.55555555555556, 79.75797579757976, 80.55555555555556, 80.55555555555556, 78.89009793253537, 80.55555555555556, 80.55555555555556, 79.62657880285558, 80.55555555555556, 80.55555555555556, 80.55555555555556, 80.51082731815659, 79.45205479452055, 80.55555555555556, 80.55555555555556, 80.55555555555556, 80.55555555555556, 80.55555555555556, 80.19911504424779, 80.55555555555556, 80.4661487236404, 80.55555555555556, 80.55555555555556, 80.51082731815659, 80.55555555555556, 80.02207505518764, 80.55555555555556, 80.19911504424779, 80.55555555555556, 80.37694013303769, 80.55555555555556, 80.55555555555556, 80.37694013303769, 80.55555555555556, 80.55555555555556, 80.55555555555556, 80.55555555555556, 80.55555555555556, 80.55555555555556, 80.42151968940655, 80.55555555555556, 80.55555555555556, 80.0662617338487, 80.55555555555556, 80.55555555555556, 80.55555555555556, 80.51082731815659, 80.55555555555556, 80.55555555555556, 80.55555555555556, 80.55555555555556, 80.37694013303769, 80.55555555555556, 80.51082731815659, 80.55555555555556, 80.02207505518764, 79.88980716253444, 80.55555555555556, 80.55555555555556, 80.19911504424779, 80.55555555555556, 79.40854326396494, 80.55555555555556, 80.55555555555556, 80.55555555555556, 80.55555555555556, 79.19169852539596, 78.89009793253537, 80.55555555555556, 80.51082731815659, 80.55555555555556, 80.55555555555556, 80.55555555555556, 80.55555555555556, 79.93384785005513, 80.55555555555556, 79.88980716253444, 80.55555555555556, 80.19911504424779, 80.55555555555556, 80.55555555555556, 80.55555555555556, 80.51082731815659, 79.10529187124932, 79.97793712079427, 80.55555555555556], \"xaxis\": \"x\", \"yaxis\": \"y\"}],\n",
       "                        {\"barmode\": \"relative\", \"legend\": {\"tracegroupgap\": 0}, \"template\": {\"data\": {\"bar\": [{\"error_x\": {\"color\": \"#2a3f5f\"}, \"error_y\": {\"color\": \"#2a3f5f\"}, \"marker\": {\"line\": {\"color\": \"#E5ECF6\", \"width\": 0.5}}, \"type\": \"bar\"}], \"barpolar\": [{\"marker\": {\"line\": {\"color\": \"#E5ECF6\", \"width\": 0.5}}, \"type\": \"barpolar\"}], \"carpet\": [{\"aaxis\": {\"endlinecolor\": \"#2a3f5f\", \"gridcolor\": \"white\", \"linecolor\": \"white\", \"minorgridcolor\": \"white\", \"startlinecolor\": \"#2a3f5f\"}, \"baxis\": {\"endlinecolor\": \"#2a3f5f\", \"gridcolor\": \"white\", \"linecolor\": \"white\", \"minorgridcolor\": \"white\", \"startlinecolor\": \"#2a3f5f\"}, \"type\": \"carpet\"}], \"choropleth\": [{\"colorbar\": {\"outlinewidth\": 0, \"ticks\": \"\"}, \"type\": \"choropleth\"}], \"contour\": [{\"colorbar\": {\"outlinewidth\": 0, \"ticks\": \"\"}, \"colorscale\": [[0.0, \"#0d0887\"], [0.1111111111111111, \"#46039f\"], [0.2222222222222222, \"#7201a8\"], [0.3333333333333333, \"#9c179e\"], [0.4444444444444444, \"#bd3786\"], [0.5555555555555556, \"#d8576b\"], [0.6666666666666666, \"#ed7953\"], [0.7777777777777778, \"#fb9f3a\"], [0.8888888888888888, \"#fdca26\"], [1.0, \"#f0f921\"]], \"type\": \"contour\"}], \"contourcarpet\": [{\"colorbar\": {\"outlinewidth\": 0, \"ticks\": \"\"}, \"type\": \"contourcarpet\"}], \"heatmap\": [{\"colorbar\": {\"outlinewidth\": 0, \"ticks\": \"\"}, \"colorscale\": [[0.0, \"#0d0887\"], [0.1111111111111111, \"#46039f\"], [0.2222222222222222, \"#7201a8\"], [0.3333333333333333, \"#9c179e\"], [0.4444444444444444, \"#bd3786\"], [0.5555555555555556, \"#d8576b\"], [0.6666666666666666, \"#ed7953\"], [0.7777777777777778, \"#fb9f3a\"], [0.8888888888888888, \"#fdca26\"], [1.0, \"#f0f921\"]], \"type\": \"heatmap\"}], \"heatmapgl\": [{\"colorbar\": {\"outlinewidth\": 0, \"ticks\": \"\"}, \"colorscale\": [[0.0, \"#0d0887\"], [0.1111111111111111, \"#46039f\"], [0.2222222222222222, \"#7201a8\"], [0.3333333333333333, \"#9c179e\"], [0.4444444444444444, \"#bd3786\"], [0.5555555555555556, \"#d8576b\"], [0.6666666666666666, \"#ed7953\"], [0.7777777777777778, \"#fb9f3a\"], [0.8888888888888888, \"#fdca26\"], [1.0, \"#f0f921\"]], \"type\": \"heatmapgl\"}], \"histogram\": [{\"marker\": {\"colorbar\": {\"outlinewidth\": 0, \"ticks\": \"\"}}, \"type\": \"histogram\"}], \"histogram2d\": [{\"colorbar\": {\"outlinewidth\": 0, \"ticks\": \"\"}, \"colorscale\": [[0.0, \"#0d0887\"], [0.1111111111111111, \"#46039f\"], [0.2222222222222222, \"#7201a8\"], [0.3333333333333333, \"#9c179e\"], [0.4444444444444444, \"#bd3786\"], [0.5555555555555556, \"#d8576b\"], [0.6666666666666666, \"#ed7953\"], [0.7777777777777778, \"#fb9f3a\"], [0.8888888888888888, \"#fdca26\"], [1.0, \"#f0f921\"]], \"type\": \"histogram2d\"}], \"histogram2dcontour\": [{\"colorbar\": {\"outlinewidth\": 0, \"ticks\": \"\"}, \"colorscale\": [[0.0, \"#0d0887\"], [0.1111111111111111, \"#46039f\"], [0.2222222222222222, \"#7201a8\"], [0.3333333333333333, \"#9c179e\"], [0.4444444444444444, \"#bd3786\"], [0.5555555555555556, \"#d8576b\"], [0.6666666666666666, \"#ed7953\"], [0.7777777777777778, \"#fb9f3a\"], [0.8888888888888888, \"#fdca26\"], [1.0, \"#f0f921\"]], \"type\": \"histogram2dcontour\"}], \"mesh3d\": [{\"colorbar\": {\"outlinewidth\": 0, \"ticks\": \"\"}, \"type\": \"mesh3d\"}], \"parcoords\": [{\"line\": {\"colorbar\": {\"outlinewidth\": 0, \"ticks\": \"\"}}, \"type\": \"parcoords\"}], \"pie\": [{\"automargin\": true, \"type\": \"pie\"}], \"scatter\": [{\"marker\": {\"colorbar\": {\"outlinewidth\": 0, \"ticks\": \"\"}}, \"type\": \"scatter\"}], \"scatter3d\": [{\"line\": {\"colorbar\": {\"outlinewidth\": 0, \"ticks\": \"\"}}, \"marker\": {\"colorbar\": {\"outlinewidth\": 0, \"ticks\": \"\"}}, \"type\": \"scatter3d\"}], \"scattercarpet\": [{\"marker\": {\"colorbar\": {\"outlinewidth\": 0, \"ticks\": \"\"}}, \"type\": \"scattercarpet\"}], \"scattergeo\": [{\"marker\": {\"colorbar\": {\"outlinewidth\": 0, \"ticks\": \"\"}}, \"type\": \"scattergeo\"}], \"scattergl\": [{\"marker\": {\"colorbar\": {\"outlinewidth\": 0, \"ticks\": \"\"}}, \"type\": \"scattergl\"}], \"scattermapbox\": [{\"marker\": {\"colorbar\": {\"outlinewidth\": 0, \"ticks\": \"\"}}, \"type\": \"scattermapbox\"}], \"scatterpolar\": [{\"marker\": {\"colorbar\": {\"outlinewidth\": 0, \"ticks\": \"\"}}, \"type\": \"scatterpolar\"}], \"scatterpolargl\": [{\"marker\": {\"colorbar\": {\"outlinewidth\": 0, \"ticks\": \"\"}}, \"type\": \"scatterpolargl\"}], \"scatterternary\": [{\"marker\": {\"colorbar\": {\"outlinewidth\": 0, \"ticks\": \"\"}}, \"type\": \"scatterternary\"}], \"surface\": [{\"colorbar\": {\"outlinewidth\": 0, \"ticks\": \"\"}, \"colorscale\": [[0.0, \"#0d0887\"], [0.1111111111111111, \"#46039f\"], [0.2222222222222222, \"#7201a8\"], [0.3333333333333333, \"#9c179e\"], [0.4444444444444444, \"#bd3786\"], [0.5555555555555556, \"#d8576b\"], [0.6666666666666666, \"#ed7953\"], [0.7777777777777778, \"#fb9f3a\"], [0.8888888888888888, \"#fdca26\"], [1.0, \"#f0f921\"]], \"type\": \"surface\"}], \"table\": [{\"cells\": {\"fill\": {\"color\": \"#EBF0F8\"}, \"line\": {\"color\": \"white\"}}, \"header\": {\"fill\": {\"color\": \"#C8D4E3\"}, \"line\": {\"color\": \"white\"}}, \"type\": \"table\"}]}, \"layout\": {\"annotationdefaults\": {\"arrowcolor\": \"#2a3f5f\", \"arrowhead\": 0, \"arrowwidth\": 1}, \"coloraxis\": {\"colorbar\": {\"outlinewidth\": 0, \"ticks\": \"\"}}, \"colorscale\": {\"diverging\": [[0, \"#8e0152\"], [0.1, \"#c51b7d\"], [0.2, \"#de77ae\"], [0.3, \"#f1b6da\"], [0.4, \"#fde0ef\"], [0.5, \"#f7f7f7\"], [0.6, \"#e6f5d0\"], [0.7, \"#b8e186\"], [0.8, \"#7fbc41\"], [0.9, \"#4d9221\"], [1, \"#276419\"]], \"sequential\": [[0.0, \"#0d0887\"], [0.1111111111111111, \"#46039f\"], [0.2222222222222222, \"#7201a8\"], [0.3333333333333333, \"#9c179e\"], [0.4444444444444444, \"#bd3786\"], [0.5555555555555556, \"#d8576b\"], [0.6666666666666666, \"#ed7953\"], [0.7777777777777778, \"#fb9f3a\"], [0.8888888888888888, \"#fdca26\"], [1.0, \"#f0f921\"]], \"sequentialminus\": [[0.0, \"#0d0887\"], [0.1111111111111111, \"#46039f\"], [0.2222222222222222, \"#7201a8\"], [0.3333333333333333, \"#9c179e\"], [0.4444444444444444, \"#bd3786\"], [0.5555555555555556, \"#d8576b\"], [0.6666666666666666, \"#ed7953\"], [0.7777777777777778, \"#fb9f3a\"], [0.8888888888888888, \"#fdca26\"], [1.0, \"#f0f921\"]]}, \"colorway\": [\"#636efa\", \"#EF553B\", \"#00cc96\", \"#ab63fa\", \"#FFA15A\", \"#19d3f3\", \"#FF6692\", \"#B6E880\", \"#FF97FF\", \"#FECB52\"], \"font\": {\"color\": \"#2a3f5f\"}, \"geo\": {\"bgcolor\": \"white\", \"lakecolor\": \"white\", \"landcolor\": \"#E5ECF6\", \"showlakes\": true, \"showland\": true, \"subunitcolor\": \"white\"}, \"hoverlabel\": {\"align\": \"left\"}, \"hovermode\": \"closest\", \"mapbox\": {\"style\": \"light\"}, \"paper_bgcolor\": \"white\", \"plot_bgcolor\": \"#E5ECF6\", \"polar\": {\"angularaxis\": {\"gridcolor\": \"white\", \"linecolor\": \"white\", \"ticks\": \"\"}, \"bgcolor\": \"#E5ECF6\", \"radialaxis\": {\"gridcolor\": \"white\", \"linecolor\": \"white\", \"ticks\": \"\"}}, \"scene\": {\"xaxis\": {\"backgroundcolor\": \"#E5ECF6\", \"gridcolor\": \"white\", \"gridwidth\": 2, \"linecolor\": \"white\", \"showbackground\": true, \"ticks\": \"\", \"zerolinecolor\": \"white\"}, \"yaxis\": {\"backgroundcolor\": \"#E5ECF6\", \"gridcolor\": \"white\", \"gridwidth\": 2, \"linecolor\": \"white\", \"showbackground\": true, \"ticks\": \"\", \"zerolinecolor\": \"white\"}, \"zaxis\": {\"backgroundcolor\": \"#E5ECF6\", \"gridcolor\": \"white\", \"gridwidth\": 2, \"linecolor\": \"white\", \"showbackground\": true, \"ticks\": \"\", \"zerolinecolor\": \"white\"}}, \"shapedefaults\": {\"line\": {\"color\": \"#2a3f5f\"}}, \"ternary\": {\"aaxis\": {\"gridcolor\": \"white\", \"linecolor\": \"white\", \"ticks\": \"\"}, \"baxis\": {\"gridcolor\": \"white\", \"linecolor\": \"white\", \"ticks\": \"\"}, \"bgcolor\": \"#E5ECF6\", \"caxis\": {\"gridcolor\": \"white\", \"linecolor\": \"white\", \"ticks\": \"\"}}, \"title\": {\"x\": 0.05}, \"xaxis\": {\"automargin\": true, \"gridcolor\": \"white\", \"linecolor\": \"white\", \"ticks\": \"\", \"title\": {\"standoff\": 15}, \"zerolinecolor\": \"white\", \"zerolinewidth\": 2}, \"yaxis\": {\"automargin\": true, \"gridcolor\": \"white\", \"linecolor\": \"white\", \"ticks\": \"\", \"title\": {\"standoff\": 15}, \"zerolinecolor\": \"white\", \"zerolinewidth\": 2}}}, \"title\": {\"text\": \"Average Speed Distribution\"}, \"xaxis\": {\"anchor\": \"y\", \"domain\": [0.0, 1.0], \"title\": {\"text\": \"Average Speed m/s\"}}, \"yaxis\": {\"anchor\": \"x\", \"domain\": [0.0, 1.0], \"title\": {\"text\": \"count\"}}},\n",
       "                        {\"responsive\": true}\n",
       "                    ).then(function(){\n",
       "                            \n",
       "var gd = document.getElementById('dd166a0e-0333-4ea5-ba91-f61a517bceba');\n",
       "var x = new MutationObserver(function (mutations, observer) {{\n",
       "        var display = window.getComputedStyle(gd).display;\n",
       "        if (!display || display === 'none') {{\n",
       "            console.log([gd, 'removed!']);\n",
       "            Plotly.purge(gd);\n",
       "            observer.disconnect();\n",
       "        }}\n",
       "}});\n",
       "\n",
       "// Listen for the removal of the full notebook cells\n",
       "var notebookContainer = gd.closest('#notebook-container');\n",
       "if (notebookContainer) {{\n",
       "    x.observe(notebookContainer, {childList: true});\n",
       "}}\n",
       "\n",
       "// Listen for the clearing of the current output cell\n",
       "var outputEl = gd.closest('.output');\n",
       "if (outputEl) {{\n",
       "    x.observe(outputEl, {childList: true});\n",
       "}}\n",
       "\n",
       "                        })\n",
       "                };\n",
       "                });\n",
       "            </script>\n",
       "        </div>"
      ]
     },
     "metadata": {},
     "output_type": "display_data"
    },
    {
     "data": {
      "application/vnd.plotly.v1+json": {
       "config": {
        "plotlyServerURL": "https://plot.ly"
       },
       "data": [
        {
         "alignmentgroup": "True",
         "bingroup": "x",
         "hoverlabel": {
          "namelength": 0
         },
         "hovertemplate": "Dwell Time (seconds)=%{x}<br>count=%{y}",
         "legendgroup": "",
         "marker": {
          "color": "#636efa"
         },
         "name": "",
         "offsetgroup": "",
         "orientation": "v",
         "showlegend": false,
         "type": "histogram",
         "x": [
          137,
          87,
          156,
          54,
          71,
          70,
          105,
          71,
          89,
          40,
          33,
          102,
          43,
          36,
          91,
          98,
          97,
          111,
          64,
          72,
          58,
          52,
          136,
          57,
          138,
          99,
          70,
          102,
          88,
          54,
          111,
          100,
          70,
          58,
          77,
          105,
          81,
          83,
          154,
          53,
          165,
          122,
          101,
          125,
          118,
          120,
          82,
          73,
          68,
          47,
          106,
          90,
          143,
          13,
          89,
          76,
          176,
          92,
          96,
          59,
          41,
          79,
          91,
          109,
          89,
          140,
          36,
          102,
          158,
          16,
          107,
          135,
          50,
          78,
          134,
          120,
          86,
          49,
          124,
          114,
          100,
          107,
          121,
          47,
          111,
          69,
          90,
          130,
          102,
          96,
          10,
          105,
          64,
          116,
          60,
          86,
          105,
          48,
          105,
          85,
          112,
          102,
          85,
          123,
          76,
          94,
          73,
          36,
          64,
          59,
          102,
          67,
          90,
          96,
          115,
          164,
          107,
          161,
          125,
          141,
          93,
          80,
          87,
          142,
          69,
          117,
          64,
          84,
          111,
          129,
          123,
          100,
          68,
          122,
          95,
          104,
          110,
          99,
          140,
          48,
          107,
          12,
          153,
          79,
          90,
          126,
          133,
          105,
          80,
          22,
          107
         ],
         "xaxis": "x",
         "yaxis": "y"
        }
       ],
       "layout": {
        "barmode": "relative",
        "legend": {
         "tracegroupgap": 0
        },
        "template": {
         "data": {
          "bar": [
           {
            "error_x": {
             "color": "#2a3f5f"
            },
            "error_y": {
             "color": "#2a3f5f"
            },
            "marker": {
             "line": {
              "color": "#E5ECF6",
              "width": 0.5
             }
            },
            "type": "bar"
           }
          ],
          "barpolar": [
           {
            "marker": {
             "line": {
              "color": "#E5ECF6",
              "width": 0.5
             }
            },
            "type": "barpolar"
           }
          ],
          "carpet": [
           {
            "aaxis": {
             "endlinecolor": "#2a3f5f",
             "gridcolor": "white",
             "linecolor": "white",
             "minorgridcolor": "white",
             "startlinecolor": "#2a3f5f"
            },
            "baxis": {
             "endlinecolor": "#2a3f5f",
             "gridcolor": "white",
             "linecolor": "white",
             "minorgridcolor": "white",
             "startlinecolor": "#2a3f5f"
            },
            "type": "carpet"
           }
          ],
          "choropleth": [
           {
            "colorbar": {
             "outlinewidth": 0,
             "ticks": ""
            },
            "type": "choropleth"
           }
          ],
          "contour": [
           {
            "colorbar": {
             "outlinewidth": 0,
             "ticks": ""
            },
            "colorscale": [
             [
              0,
              "#0d0887"
             ],
             [
              0.1111111111111111,
              "#46039f"
             ],
             [
              0.2222222222222222,
              "#7201a8"
             ],
             [
              0.3333333333333333,
              "#9c179e"
             ],
             [
              0.4444444444444444,
              "#bd3786"
             ],
             [
              0.5555555555555556,
              "#d8576b"
             ],
             [
              0.6666666666666666,
              "#ed7953"
             ],
             [
              0.7777777777777778,
              "#fb9f3a"
             ],
             [
              0.8888888888888888,
              "#fdca26"
             ],
             [
              1,
              "#f0f921"
             ]
            ],
            "type": "contour"
           }
          ],
          "contourcarpet": [
           {
            "colorbar": {
             "outlinewidth": 0,
             "ticks": ""
            },
            "type": "contourcarpet"
           }
          ],
          "heatmap": [
           {
            "colorbar": {
             "outlinewidth": 0,
             "ticks": ""
            },
            "colorscale": [
             [
              0,
              "#0d0887"
             ],
             [
              0.1111111111111111,
              "#46039f"
             ],
             [
              0.2222222222222222,
              "#7201a8"
             ],
             [
              0.3333333333333333,
              "#9c179e"
             ],
             [
              0.4444444444444444,
              "#bd3786"
             ],
             [
              0.5555555555555556,
              "#d8576b"
             ],
             [
              0.6666666666666666,
              "#ed7953"
             ],
             [
              0.7777777777777778,
              "#fb9f3a"
             ],
             [
              0.8888888888888888,
              "#fdca26"
             ],
             [
              1,
              "#f0f921"
             ]
            ],
            "type": "heatmap"
           }
          ],
          "heatmapgl": [
           {
            "colorbar": {
             "outlinewidth": 0,
             "ticks": ""
            },
            "colorscale": [
             [
              0,
              "#0d0887"
             ],
             [
              0.1111111111111111,
              "#46039f"
             ],
             [
              0.2222222222222222,
              "#7201a8"
             ],
             [
              0.3333333333333333,
              "#9c179e"
             ],
             [
              0.4444444444444444,
              "#bd3786"
             ],
             [
              0.5555555555555556,
              "#d8576b"
             ],
             [
              0.6666666666666666,
              "#ed7953"
             ],
             [
              0.7777777777777778,
              "#fb9f3a"
             ],
             [
              0.8888888888888888,
              "#fdca26"
             ],
             [
              1,
              "#f0f921"
             ]
            ],
            "type": "heatmapgl"
           }
          ],
          "histogram": [
           {
            "marker": {
             "colorbar": {
              "outlinewidth": 0,
              "ticks": ""
             }
            },
            "type": "histogram"
           }
          ],
          "histogram2d": [
           {
            "colorbar": {
             "outlinewidth": 0,
             "ticks": ""
            },
            "colorscale": [
             [
              0,
              "#0d0887"
             ],
             [
              0.1111111111111111,
              "#46039f"
             ],
             [
              0.2222222222222222,
              "#7201a8"
             ],
             [
              0.3333333333333333,
              "#9c179e"
             ],
             [
              0.4444444444444444,
              "#bd3786"
             ],
             [
              0.5555555555555556,
              "#d8576b"
             ],
             [
              0.6666666666666666,
              "#ed7953"
             ],
             [
              0.7777777777777778,
              "#fb9f3a"
             ],
             [
              0.8888888888888888,
              "#fdca26"
             ],
             [
              1,
              "#f0f921"
             ]
            ],
            "type": "histogram2d"
           }
          ],
          "histogram2dcontour": [
           {
            "colorbar": {
             "outlinewidth": 0,
             "ticks": ""
            },
            "colorscale": [
             [
              0,
              "#0d0887"
             ],
             [
              0.1111111111111111,
              "#46039f"
             ],
             [
              0.2222222222222222,
              "#7201a8"
             ],
             [
              0.3333333333333333,
              "#9c179e"
             ],
             [
              0.4444444444444444,
              "#bd3786"
             ],
             [
              0.5555555555555556,
              "#d8576b"
             ],
             [
              0.6666666666666666,
              "#ed7953"
             ],
             [
              0.7777777777777778,
              "#fb9f3a"
             ],
             [
              0.8888888888888888,
              "#fdca26"
             ],
             [
              1,
              "#f0f921"
             ]
            ],
            "type": "histogram2dcontour"
           }
          ],
          "mesh3d": [
           {
            "colorbar": {
             "outlinewidth": 0,
             "ticks": ""
            },
            "type": "mesh3d"
           }
          ],
          "parcoords": [
           {
            "line": {
             "colorbar": {
              "outlinewidth": 0,
              "ticks": ""
             }
            },
            "type": "parcoords"
           }
          ],
          "pie": [
           {
            "automargin": true,
            "type": "pie"
           }
          ],
          "scatter": [
           {
            "marker": {
             "colorbar": {
              "outlinewidth": 0,
              "ticks": ""
             }
            },
            "type": "scatter"
           }
          ],
          "scatter3d": [
           {
            "line": {
             "colorbar": {
              "outlinewidth": 0,
              "ticks": ""
             }
            },
            "marker": {
             "colorbar": {
              "outlinewidth": 0,
              "ticks": ""
             }
            },
            "type": "scatter3d"
           }
          ],
          "scattercarpet": [
           {
            "marker": {
             "colorbar": {
              "outlinewidth": 0,
              "ticks": ""
             }
            },
            "type": "scattercarpet"
           }
          ],
          "scattergeo": [
           {
            "marker": {
             "colorbar": {
              "outlinewidth": 0,
              "ticks": ""
             }
            },
            "type": "scattergeo"
           }
          ],
          "scattergl": [
           {
            "marker": {
             "colorbar": {
              "outlinewidth": 0,
              "ticks": ""
             }
            },
            "type": "scattergl"
           }
          ],
          "scattermapbox": [
           {
            "marker": {
             "colorbar": {
              "outlinewidth": 0,
              "ticks": ""
             }
            },
            "type": "scattermapbox"
           }
          ],
          "scatterpolar": [
           {
            "marker": {
             "colorbar": {
              "outlinewidth": 0,
              "ticks": ""
             }
            },
            "type": "scatterpolar"
           }
          ],
          "scatterpolargl": [
           {
            "marker": {
             "colorbar": {
              "outlinewidth": 0,
              "ticks": ""
             }
            },
            "type": "scatterpolargl"
           }
          ],
          "scatterternary": [
           {
            "marker": {
             "colorbar": {
              "outlinewidth": 0,
              "ticks": ""
             }
            },
            "type": "scatterternary"
           }
          ],
          "surface": [
           {
            "colorbar": {
             "outlinewidth": 0,
             "ticks": ""
            },
            "colorscale": [
             [
              0,
              "#0d0887"
             ],
             [
              0.1111111111111111,
              "#46039f"
             ],
             [
              0.2222222222222222,
              "#7201a8"
             ],
             [
              0.3333333333333333,
              "#9c179e"
             ],
             [
              0.4444444444444444,
              "#bd3786"
             ],
             [
              0.5555555555555556,
              "#d8576b"
             ],
             [
              0.6666666666666666,
              "#ed7953"
             ],
             [
              0.7777777777777778,
              "#fb9f3a"
             ],
             [
              0.8888888888888888,
              "#fdca26"
             ],
             [
              1,
              "#f0f921"
             ]
            ],
            "type": "surface"
           }
          ],
          "table": [
           {
            "cells": {
             "fill": {
              "color": "#EBF0F8"
             },
             "line": {
              "color": "white"
             }
            },
            "header": {
             "fill": {
              "color": "#C8D4E3"
             },
             "line": {
              "color": "white"
             }
            },
            "type": "table"
           }
          ]
         },
         "layout": {
          "annotationdefaults": {
           "arrowcolor": "#2a3f5f",
           "arrowhead": 0,
           "arrowwidth": 1
          },
          "coloraxis": {
           "colorbar": {
            "outlinewidth": 0,
            "ticks": ""
           }
          },
          "colorscale": {
           "diverging": [
            [
             0,
             "#8e0152"
            ],
            [
             0.1,
             "#c51b7d"
            ],
            [
             0.2,
             "#de77ae"
            ],
            [
             0.3,
             "#f1b6da"
            ],
            [
             0.4,
             "#fde0ef"
            ],
            [
             0.5,
             "#f7f7f7"
            ],
            [
             0.6,
             "#e6f5d0"
            ],
            [
             0.7,
             "#b8e186"
            ],
            [
             0.8,
             "#7fbc41"
            ],
            [
             0.9,
             "#4d9221"
            ],
            [
             1,
             "#276419"
            ]
           ],
           "sequential": [
            [
             0,
             "#0d0887"
            ],
            [
             0.1111111111111111,
             "#46039f"
            ],
            [
             0.2222222222222222,
             "#7201a8"
            ],
            [
             0.3333333333333333,
             "#9c179e"
            ],
            [
             0.4444444444444444,
             "#bd3786"
            ],
            [
             0.5555555555555556,
             "#d8576b"
            ],
            [
             0.6666666666666666,
             "#ed7953"
            ],
            [
             0.7777777777777778,
             "#fb9f3a"
            ],
            [
             0.8888888888888888,
             "#fdca26"
            ],
            [
             1,
             "#f0f921"
            ]
           ],
           "sequentialminus": [
            [
             0,
             "#0d0887"
            ],
            [
             0.1111111111111111,
             "#46039f"
            ],
            [
             0.2222222222222222,
             "#7201a8"
            ],
            [
             0.3333333333333333,
             "#9c179e"
            ],
            [
             0.4444444444444444,
             "#bd3786"
            ],
            [
             0.5555555555555556,
             "#d8576b"
            ],
            [
             0.6666666666666666,
             "#ed7953"
            ],
            [
             0.7777777777777778,
             "#fb9f3a"
            ],
            [
             0.8888888888888888,
             "#fdca26"
            ],
            [
             1,
             "#f0f921"
            ]
           ]
          },
          "colorway": [
           "#636efa",
           "#EF553B",
           "#00cc96",
           "#ab63fa",
           "#FFA15A",
           "#19d3f3",
           "#FF6692",
           "#B6E880",
           "#FF97FF",
           "#FECB52"
          ],
          "font": {
           "color": "#2a3f5f"
          },
          "geo": {
           "bgcolor": "white",
           "lakecolor": "white",
           "landcolor": "#E5ECF6",
           "showlakes": true,
           "showland": true,
           "subunitcolor": "white"
          },
          "hoverlabel": {
           "align": "left"
          },
          "hovermode": "closest",
          "mapbox": {
           "style": "light"
          },
          "paper_bgcolor": "white",
          "plot_bgcolor": "#E5ECF6",
          "polar": {
           "angularaxis": {
            "gridcolor": "white",
            "linecolor": "white",
            "ticks": ""
           },
           "bgcolor": "#E5ECF6",
           "radialaxis": {
            "gridcolor": "white",
            "linecolor": "white",
            "ticks": ""
           }
          },
          "scene": {
           "xaxis": {
            "backgroundcolor": "#E5ECF6",
            "gridcolor": "white",
            "gridwidth": 2,
            "linecolor": "white",
            "showbackground": true,
            "ticks": "",
            "zerolinecolor": "white"
           },
           "yaxis": {
            "backgroundcolor": "#E5ECF6",
            "gridcolor": "white",
            "gridwidth": 2,
            "linecolor": "white",
            "showbackground": true,
            "ticks": "",
            "zerolinecolor": "white"
           },
           "zaxis": {
            "backgroundcolor": "#E5ECF6",
            "gridcolor": "white",
            "gridwidth": 2,
            "linecolor": "white",
            "showbackground": true,
            "ticks": "",
            "zerolinecolor": "white"
           }
          },
          "shapedefaults": {
           "line": {
            "color": "#2a3f5f"
           }
          },
          "ternary": {
           "aaxis": {
            "gridcolor": "white",
            "linecolor": "white",
            "ticks": ""
           },
           "baxis": {
            "gridcolor": "white",
            "linecolor": "white",
            "ticks": ""
           },
           "bgcolor": "#E5ECF6",
           "caxis": {
            "gridcolor": "white",
            "linecolor": "white",
            "ticks": ""
           }
          },
          "title": {
           "x": 0.05
          },
          "xaxis": {
           "automargin": true,
           "gridcolor": "white",
           "linecolor": "white",
           "ticks": "",
           "title": {
            "standoff": 15
           },
           "zerolinecolor": "white",
           "zerolinewidth": 2
          },
          "yaxis": {
           "automargin": true,
           "gridcolor": "white",
           "linecolor": "white",
           "ticks": "",
           "title": {
            "standoff": 15
           },
           "zerolinecolor": "white",
           "zerolinewidth": 2
          }
         }
        },
        "title": {
         "text": "Dwell Time Distribution"
        },
        "xaxis": {
         "anchor": "y",
         "domain": [
          0,
          1
         ],
         "title": {
          "text": "Dwell Time (seconds)"
         }
        },
        "yaxis": {
         "anchor": "x",
         "domain": [
          0,
          1
         ],
         "title": {
          "text": "count"
         }
        }
       }
      },
      "text/html": [
       "<div>\n",
       "        \n",
       "        \n",
       "            <div id=\"7fbe7a1a-a243-4ab7-9738-d5754475c563\" class=\"plotly-graph-div\" style=\"height:525px; width:100%;\"></div>\n",
       "            <script type=\"text/javascript\">\n",
       "                require([\"plotly\"], function(Plotly) {\n",
       "                    window.PLOTLYENV=window.PLOTLYENV || {};\n",
       "                    \n",
       "                if (document.getElementById(\"7fbe7a1a-a243-4ab7-9738-d5754475c563\")) {\n",
       "                    Plotly.newPlot(\n",
       "                        '7fbe7a1a-a243-4ab7-9738-d5754475c563',\n",
       "                        [{\"alignmentgroup\": \"True\", \"bingroup\": \"x\", \"hoverlabel\": {\"namelength\": 0}, \"hovertemplate\": \"Dwell Time (seconds)=%{x}<br>count=%{y}\", \"legendgroup\": \"\", \"marker\": {\"color\": \"#636efa\"}, \"name\": \"\", \"offsetgroup\": \"\", \"orientation\": \"v\", \"showlegend\": false, \"type\": \"histogram\", \"x\": [137, 87, 156, 54, 71, 70, 105, 71, 89, 40, 33, 102, 43, 36, 91, 98, 97, 111, 64, 72, 58, 52, 136, 57, 138, 99, 70, 102, 88, 54, 111, 100, 70, 58, 77, 105, 81, 83, 154, 53, 165, 122, 101, 125, 118, 120, 82, 73, 68, 47, 106, 90, 143, 13, 89, 76, 176, 92, 96, 59, 41, 79, 91, 109, 89, 140, 36, 102, 158, 16, 107, 135, 50, 78, 134, 120, 86, 49, 124, 114, 100, 107, 121, 47, 111, 69, 90, 130, 102, 96, 10, 105, 64, 116, 60, 86, 105, 48, 105, 85, 112, 102, 85, 123, 76, 94, 73, 36, 64, 59, 102, 67, 90, 96, 115, 164, 107, 161, 125, 141, 93, 80, 87, 142, 69, 117, 64, 84, 111, 129, 123, 100, 68, 122, 95, 104, 110, 99, 140, 48, 107, 12, 153, 79, 90, 126, 133, 105, 80, 22, 107], \"xaxis\": \"x\", \"yaxis\": \"y\"}],\n",
       "                        {\"barmode\": \"relative\", \"legend\": {\"tracegroupgap\": 0}, \"template\": {\"data\": {\"bar\": [{\"error_x\": {\"color\": \"#2a3f5f\"}, \"error_y\": {\"color\": \"#2a3f5f\"}, \"marker\": {\"line\": {\"color\": \"#E5ECF6\", \"width\": 0.5}}, \"type\": \"bar\"}], \"barpolar\": [{\"marker\": {\"line\": {\"color\": \"#E5ECF6\", \"width\": 0.5}}, \"type\": \"barpolar\"}], \"carpet\": [{\"aaxis\": {\"endlinecolor\": \"#2a3f5f\", \"gridcolor\": \"white\", \"linecolor\": \"white\", \"minorgridcolor\": \"white\", \"startlinecolor\": \"#2a3f5f\"}, \"baxis\": {\"endlinecolor\": \"#2a3f5f\", \"gridcolor\": \"white\", \"linecolor\": \"white\", \"minorgridcolor\": \"white\", \"startlinecolor\": \"#2a3f5f\"}, \"type\": \"carpet\"}], \"choropleth\": [{\"colorbar\": {\"outlinewidth\": 0, \"ticks\": \"\"}, \"type\": \"choropleth\"}], \"contour\": [{\"colorbar\": {\"outlinewidth\": 0, \"ticks\": \"\"}, \"colorscale\": [[0.0, \"#0d0887\"], [0.1111111111111111, \"#46039f\"], [0.2222222222222222, \"#7201a8\"], [0.3333333333333333, \"#9c179e\"], [0.4444444444444444, \"#bd3786\"], [0.5555555555555556, \"#d8576b\"], [0.6666666666666666, \"#ed7953\"], [0.7777777777777778, \"#fb9f3a\"], [0.8888888888888888, \"#fdca26\"], [1.0, \"#f0f921\"]], \"type\": \"contour\"}], \"contourcarpet\": [{\"colorbar\": {\"outlinewidth\": 0, \"ticks\": \"\"}, \"type\": \"contourcarpet\"}], \"heatmap\": [{\"colorbar\": {\"outlinewidth\": 0, \"ticks\": \"\"}, \"colorscale\": [[0.0, \"#0d0887\"], [0.1111111111111111, \"#46039f\"], [0.2222222222222222, \"#7201a8\"], [0.3333333333333333, \"#9c179e\"], [0.4444444444444444, \"#bd3786\"], [0.5555555555555556, \"#d8576b\"], [0.6666666666666666, \"#ed7953\"], [0.7777777777777778, \"#fb9f3a\"], [0.8888888888888888, \"#fdca26\"], [1.0, \"#f0f921\"]], \"type\": \"heatmap\"}], \"heatmapgl\": [{\"colorbar\": {\"outlinewidth\": 0, \"ticks\": \"\"}, \"colorscale\": [[0.0, \"#0d0887\"], [0.1111111111111111, \"#46039f\"], [0.2222222222222222, \"#7201a8\"], [0.3333333333333333, \"#9c179e\"], [0.4444444444444444, \"#bd3786\"], [0.5555555555555556, \"#d8576b\"], [0.6666666666666666, \"#ed7953\"], [0.7777777777777778, \"#fb9f3a\"], [0.8888888888888888, \"#fdca26\"], [1.0, \"#f0f921\"]], \"type\": \"heatmapgl\"}], \"histogram\": [{\"marker\": {\"colorbar\": {\"outlinewidth\": 0, \"ticks\": \"\"}}, \"type\": \"histogram\"}], \"histogram2d\": [{\"colorbar\": {\"outlinewidth\": 0, \"ticks\": \"\"}, \"colorscale\": [[0.0, \"#0d0887\"], [0.1111111111111111, \"#46039f\"], [0.2222222222222222, \"#7201a8\"], [0.3333333333333333, \"#9c179e\"], [0.4444444444444444, \"#bd3786\"], [0.5555555555555556, \"#d8576b\"], [0.6666666666666666, \"#ed7953\"], [0.7777777777777778, \"#fb9f3a\"], [0.8888888888888888, \"#fdca26\"], [1.0, \"#f0f921\"]], \"type\": \"histogram2d\"}], \"histogram2dcontour\": [{\"colorbar\": {\"outlinewidth\": 0, \"ticks\": \"\"}, \"colorscale\": [[0.0, \"#0d0887\"], [0.1111111111111111, \"#46039f\"], [0.2222222222222222, \"#7201a8\"], [0.3333333333333333, \"#9c179e\"], [0.4444444444444444, \"#bd3786\"], [0.5555555555555556, \"#d8576b\"], [0.6666666666666666, \"#ed7953\"], [0.7777777777777778, \"#fb9f3a\"], [0.8888888888888888, \"#fdca26\"], [1.0, \"#f0f921\"]], \"type\": \"histogram2dcontour\"}], \"mesh3d\": [{\"colorbar\": {\"outlinewidth\": 0, \"ticks\": \"\"}, \"type\": \"mesh3d\"}], \"parcoords\": [{\"line\": {\"colorbar\": {\"outlinewidth\": 0, \"ticks\": \"\"}}, \"type\": \"parcoords\"}], \"pie\": [{\"automargin\": true, \"type\": \"pie\"}], \"scatter\": [{\"marker\": {\"colorbar\": {\"outlinewidth\": 0, \"ticks\": \"\"}}, \"type\": \"scatter\"}], \"scatter3d\": [{\"line\": {\"colorbar\": {\"outlinewidth\": 0, \"ticks\": \"\"}}, \"marker\": {\"colorbar\": {\"outlinewidth\": 0, \"ticks\": \"\"}}, \"type\": \"scatter3d\"}], \"scattercarpet\": [{\"marker\": {\"colorbar\": {\"outlinewidth\": 0, \"ticks\": \"\"}}, \"type\": \"scattercarpet\"}], \"scattergeo\": [{\"marker\": {\"colorbar\": {\"outlinewidth\": 0, \"ticks\": \"\"}}, \"type\": \"scattergeo\"}], \"scattergl\": [{\"marker\": {\"colorbar\": {\"outlinewidth\": 0, \"ticks\": \"\"}}, \"type\": \"scattergl\"}], \"scattermapbox\": [{\"marker\": {\"colorbar\": {\"outlinewidth\": 0, \"ticks\": \"\"}}, \"type\": \"scattermapbox\"}], \"scatterpolar\": [{\"marker\": {\"colorbar\": {\"outlinewidth\": 0, \"ticks\": \"\"}}, \"type\": \"scatterpolar\"}], \"scatterpolargl\": [{\"marker\": {\"colorbar\": {\"outlinewidth\": 0, \"ticks\": \"\"}}, \"type\": \"scatterpolargl\"}], \"scatterternary\": [{\"marker\": {\"colorbar\": {\"outlinewidth\": 0, \"ticks\": \"\"}}, \"type\": \"scatterternary\"}], \"surface\": [{\"colorbar\": {\"outlinewidth\": 0, \"ticks\": \"\"}, \"colorscale\": [[0.0, \"#0d0887\"], [0.1111111111111111, \"#46039f\"], [0.2222222222222222, \"#7201a8\"], [0.3333333333333333, \"#9c179e\"], [0.4444444444444444, \"#bd3786\"], [0.5555555555555556, \"#d8576b\"], [0.6666666666666666, \"#ed7953\"], [0.7777777777777778, \"#fb9f3a\"], [0.8888888888888888, \"#fdca26\"], [1.0, \"#f0f921\"]], \"type\": \"surface\"}], \"table\": [{\"cells\": {\"fill\": {\"color\": \"#EBF0F8\"}, \"line\": {\"color\": \"white\"}}, \"header\": {\"fill\": {\"color\": \"#C8D4E3\"}, \"line\": {\"color\": \"white\"}}, \"type\": \"table\"}]}, \"layout\": {\"annotationdefaults\": {\"arrowcolor\": \"#2a3f5f\", \"arrowhead\": 0, \"arrowwidth\": 1}, \"coloraxis\": {\"colorbar\": {\"outlinewidth\": 0, \"ticks\": \"\"}}, \"colorscale\": {\"diverging\": [[0, \"#8e0152\"], [0.1, \"#c51b7d\"], [0.2, \"#de77ae\"], [0.3, \"#f1b6da\"], [0.4, \"#fde0ef\"], [0.5, \"#f7f7f7\"], [0.6, \"#e6f5d0\"], [0.7, \"#b8e186\"], [0.8, \"#7fbc41\"], [0.9, \"#4d9221\"], [1, \"#276419\"]], \"sequential\": [[0.0, \"#0d0887\"], [0.1111111111111111, \"#46039f\"], [0.2222222222222222, \"#7201a8\"], [0.3333333333333333, \"#9c179e\"], [0.4444444444444444, \"#bd3786\"], [0.5555555555555556, \"#d8576b\"], [0.6666666666666666, \"#ed7953\"], [0.7777777777777778, \"#fb9f3a\"], [0.8888888888888888, \"#fdca26\"], [1.0, \"#f0f921\"]], \"sequentialminus\": [[0.0, \"#0d0887\"], [0.1111111111111111, \"#46039f\"], [0.2222222222222222, \"#7201a8\"], [0.3333333333333333, \"#9c179e\"], [0.4444444444444444, \"#bd3786\"], [0.5555555555555556, \"#d8576b\"], [0.6666666666666666, \"#ed7953\"], [0.7777777777777778, \"#fb9f3a\"], [0.8888888888888888, \"#fdca26\"], [1.0, \"#f0f921\"]]}, \"colorway\": [\"#636efa\", \"#EF553B\", \"#00cc96\", \"#ab63fa\", \"#FFA15A\", \"#19d3f3\", \"#FF6692\", \"#B6E880\", \"#FF97FF\", \"#FECB52\"], \"font\": {\"color\": \"#2a3f5f\"}, \"geo\": {\"bgcolor\": \"white\", \"lakecolor\": \"white\", \"landcolor\": \"#E5ECF6\", \"showlakes\": true, \"showland\": true, \"subunitcolor\": \"white\"}, \"hoverlabel\": {\"align\": \"left\"}, \"hovermode\": \"closest\", \"mapbox\": {\"style\": \"light\"}, \"paper_bgcolor\": \"white\", \"plot_bgcolor\": \"#E5ECF6\", \"polar\": {\"angularaxis\": {\"gridcolor\": \"white\", \"linecolor\": \"white\", \"ticks\": \"\"}, \"bgcolor\": \"#E5ECF6\", \"radialaxis\": {\"gridcolor\": \"white\", \"linecolor\": \"white\", \"ticks\": \"\"}}, \"scene\": {\"xaxis\": {\"backgroundcolor\": \"#E5ECF6\", \"gridcolor\": \"white\", \"gridwidth\": 2, \"linecolor\": \"white\", \"showbackground\": true, \"ticks\": \"\", \"zerolinecolor\": \"white\"}, \"yaxis\": {\"backgroundcolor\": \"#E5ECF6\", \"gridcolor\": \"white\", \"gridwidth\": 2, \"linecolor\": \"white\", \"showbackground\": true, \"ticks\": \"\", \"zerolinecolor\": \"white\"}, \"zaxis\": {\"backgroundcolor\": \"#E5ECF6\", \"gridcolor\": \"white\", \"gridwidth\": 2, \"linecolor\": \"white\", \"showbackground\": true, \"ticks\": \"\", \"zerolinecolor\": \"white\"}}, \"shapedefaults\": {\"line\": {\"color\": \"#2a3f5f\"}}, \"ternary\": {\"aaxis\": {\"gridcolor\": \"white\", \"linecolor\": \"white\", \"ticks\": \"\"}, \"baxis\": {\"gridcolor\": \"white\", \"linecolor\": \"white\", \"ticks\": \"\"}, \"bgcolor\": \"#E5ECF6\", \"caxis\": {\"gridcolor\": \"white\", \"linecolor\": \"white\", \"ticks\": \"\"}}, \"title\": {\"x\": 0.05}, \"xaxis\": {\"automargin\": true, \"gridcolor\": \"white\", \"linecolor\": \"white\", \"ticks\": \"\", \"title\": {\"standoff\": 15}, \"zerolinecolor\": \"white\", \"zerolinewidth\": 2}, \"yaxis\": {\"automargin\": true, \"gridcolor\": \"white\", \"linecolor\": \"white\", \"ticks\": \"\", \"title\": {\"standoff\": 15}, \"zerolinecolor\": \"white\", \"zerolinewidth\": 2}}}, \"title\": {\"text\": \"Dwell Time Distribution\"}, \"xaxis\": {\"anchor\": \"y\", \"domain\": [0.0, 1.0], \"title\": {\"text\": \"Dwell Time (seconds)\"}}, \"yaxis\": {\"anchor\": \"x\", \"domain\": [0.0, 1.0], \"title\": {\"text\": \"count\"}}},\n",
       "                        {\"responsive\": true}\n",
       "                    ).then(function(){\n",
       "                            \n",
       "var gd = document.getElementById('7fbe7a1a-a243-4ab7-9738-d5754475c563');\n",
       "var x = new MutationObserver(function (mutations, observer) {{\n",
       "        var display = window.getComputedStyle(gd).display;\n",
       "        if (!display || display === 'none') {{\n",
       "            console.log([gd, 'removed!']);\n",
       "            Plotly.purge(gd);\n",
       "            observer.disconnect();\n",
       "        }}\n",
       "}});\n",
       "\n",
       "// Listen for the removal of the full notebook cells\n",
       "var notebookContainer = gd.closest('#notebook-container');\n",
       "if (notebookContainer) {{\n",
       "    x.observe(notebookContainer, {childList: true});\n",
       "}}\n",
       "\n",
       "// Listen for the clearing of the current output cell\n",
       "var outputEl = gd.closest('.output');\n",
       "if (outputEl) {{\n",
       "    x.observe(outputEl, {childList: true});\n",
       "}}\n",
       "\n",
       "                        })\n",
       "                };\n",
       "                });\n",
       "            </script>\n",
       "        </div>"
      ]
     },
     "metadata": {},
     "output_type": "display_data"
    }
   ],
   "source": [
    "# Reset global variables\n",
    "reset_config(10, 15)\n",
    "\n",
    "# Plot Distributions\n",
    "return_data = simulate_trains(trains_per_hour = 10, signalling_blocks = 15,  introduce_delays = True, custom_delay = breakdown, print_disruption = True, print_report=False, plot_distributions = True)"
   ]
  },
  {
   "cell_type": "markdown",
   "metadata": {},
   "source": [
    "# 10. Part 2: Optimization"
   ]
  },
  {
   "cell_type": "markdown",
   "metadata": {},
   "source": [
    "### Objective Function\n",
    "\n",
    "**Maximise** the number of trains running per hour.\n",
    "\n",
    "**Constraint:** Delay time should not be more than half of the time interval between consecutive scheduled trains.\n",
    "\n",
    "\n",
    "The objective function is calculated such that the objective function gives a higher output if the trains are not delayed. Also, higher the average speed of trains, better is the result of the objective function.\n",
    "\n",
    "In case the delay in trains is more than half of the scheduled time between 2 consequtive trains, the objective function introduces a penalty of 0.5 which results in lower objective  score."
   ]
  },
  {
   "cell_type": "code",
   "execution_count": 78,
   "metadata": {},
   "outputs": [],
   "source": [
    "import numpy as np\n",
    "\n",
    "\n",
    "def f(n, k, introduce_delays = False):\n",
    "    results = simulate_trains(trains_per_hour = int(n), signalling_blocks = int(k), introduce_delays = False, custom_delay = None, print_disruption = False, print_report=False, plot_distributions = False)\n",
    "    max_speed, average_delay, average_speed, percentage_trains_delayed, average_travel_time, total_operational_delay, max_travel_time = results\n",
    "\n",
    "    \n",
    "    if average_delay <= 0.5 * config['train_interval']:\n",
    "        objective_func = n * (average_speed/max_speed) * (100 - percentage_trains_delayed) * n/(total_operational_delay+1)\n",
    "    else:\n",
    "        objective_func = n * (average_speed/max_speed) * (100 - percentage_trains_delayed) * n/(total_operational_delay+1) * 0.5 #0.5 is used as a delay penalty\n",
    "\n",
    "    \n",
    "    return objective_func\n",
    "\n",
    "\n"
   ]
  },
  {
   "cell_type": "markdown",
   "metadata": {},
   "source": [
    "## 10.1 Hill Climbing Algorithm\n",
    "\n",
    "Hill Climbing algorithm with a neighbourhood of **k=2** is used in this algorithm.\n",
    "\n"
   ]
  },
  {
   "cell_type": "code",
   "execution_count": 79,
   "metadata": {},
   "outputs": [],
   "source": [
    "\n",
    "\n",
    "\n",
    "def neighbours(x, y, xmin, xmax, ymin, ymax, K=2):\n",
    "    return \\\n",
    "        [ (x+i, y) for i in range(-K, K+1) \\\n",
    "            if i!=0 and xmin<=x+i and x+i<=xmax ] + \\\n",
    "        [ (x, y+i) for i in range(-K, K+1) \\\n",
    "            if i!=0 and ymin<=y+i and y+i<=ymax ] + \\\n",
    "        [ (x+i, y+i) for i in range(-K, K+1) \\\n",
    "            if i!=0 and xmin<=x+i and x+i<=xmax and ymin<=y+i and y+i<=ymax ] + \\\n",
    "        [ (x+i, y-i) for i in range(-K, K+1) \\\n",
    "            if i!=0 and xmin<=x+i and x+i<=xmax and ymin<=y-i and y-i<=ymax ]\n",
    "\n",
    "\n",
    "\n",
    "def hill_climbing(nmin=1, nmax=10, kmin=1, kmax=10, introduce_delays = False):\n",
    "\n",
    "    z = np.zeros(shape=(nmax+1 - nmin, kmax + 1 - kmin))\n",
    "    x0 = random.randint(nmin, nmax)\n",
    "    y0 = random.randint(kmin, kmax)\n",
    "\n",
    "    xp = [ x0 ]\n",
    "    yp = [ y0 ]\n",
    "    fmax = f(x0, y0, introduce_delays)\n",
    "    z[x0-1][y0-1] = fmax\n",
    "    print(\"+------------------+\")\n",
    "    print(\"|    Optimising    |\")\n",
    "    print(\"+------------------+\")\n",
    "    print(f\"{' n'} {' k'} {'f(n, k)':>9s}\")\n",
    "    print(f\"{x0:2d} {y0:2d} {fmax:9.3f}\")\n",
    "    \n",
    "    import time\n",
    "    animation = \"|/-\\\\\"\n",
    "    idx = 0\n",
    "    while True:\n",
    "        #print(z)\n",
    "        xi = xp[-1]\n",
    "        yi = yp[-1]\n",
    "        fi = fmax\n",
    "        #print(neighbours(xi, yi, nmin, nmax, kmin, kmax, 3))\n",
    "        for xy in neighbours(xi, yi, nmin, nmax, kmin, kmax, 2):\n",
    "            print(animation[idx % len(animation)], end=\"\\r\")\n",
    "            idx += 1\n",
    "            if xy!=None:\n",
    "                x, y = xy\n",
    "                if z[x-1][y-1]:\n",
    "                    if z[x-1][y-1] > fi:\n",
    "                        xi = x\n",
    "                        yi = y\n",
    "                        fi = z[x-1][y-1]\n",
    "                else:\n",
    "                    ff = f(x, y, introduce_delays)\n",
    "                    z[x-1][y-1] = ff\n",
    "                    if ff > fi:\n",
    "                        xi = x\n",
    "                        yi = y\n",
    "                        fi = ff\n",
    "        if fi == fmax:\n",
    "            print('')\n",
    "            break\n",
    "\n",
    "        xp += [xi]\n",
    "        yp += [yi]\n",
    "        fmax = fi\n",
    "        print(f\"{xi:2d} {yi:2d} {fi:9.3f}\")\n",
    "\n",
    "    optimal_n = xp[-1] \n",
    "    optimal_k = yp[-1]\n",
    "          \n",
    "          \n",
    "          \n",
    "    # generate contour plot of f\n",
    "    xs = np.linspace(nmin, nmax, nmax)\n",
    "    ys = np.linspace(kmin, kmax, kmax)\n",
    "    yy, xx = np.meshgrid(ys, xs)\n",
    "    #z=f(xx, yy)\n",
    "      \n",
    "          \n",
    "    print('\\n\\nPlotting Hill Climbing:')\n",
    "    pbar = tqdm(total=(nmax)*(kmax))\n",
    "    \n",
    "    for n in range(nmin,nmax+1):\n",
    "        #x = []\n",
    "        for k in range(kmin, kmax+1):\n",
    "            if not z[n-1][k-1]:\n",
    "                z[n-1][k-1] = f(n,k)\n",
    "            #x.append(int(f(n,k)))\n",
    "            pbar.update(1)\n",
    "        #z.append(x)\n",
    "    pbar.close()\n",
    "    Z = np.array(z)\n",
    "    #print(z)      \n",
    "          \n",
    "          \n",
    "    fig, ax = plt.subplots(1, 1)\n",
    "    fig.set_figwidth(8)\n",
    "    fig.set_figheight(5)\n",
    "    cs = ax.contourf(ys, xs, z, 100)\n",
    "    fig.colorbar(cs, ax=ax)\n",
    "\n",
    "    # display the points considered\n",
    "    plt.scatter(yp, xp, c='red', marker='.')\n",
    "    \n",
    "    # overlay with the path choosen\n",
    "    plt.plot(yp, xp, c='red', lw=1)\n",
    "    \n",
    "    optimal_solution_heading = simulation_heading = '''\n",
    "+------------------------+\n",
    "|    OPTIMAL SOLUTION    |\n",
    "+------------------------+\n",
    "'''\n",
    "    print(optimal_solution_heading)\n",
    "    \n",
    "    print('Trains per hour: ' + str(optimal_n))\n",
    "    print('Signalling blocks: ' + str(optimal_k))\n",
    "    \n",
    "    simulate_trains(trains_per_hour = int(optimal_n), signalling_blocks = int(optimal_k), introduce_delays = introduce_delays, custom_delay = None, print_disruption = introduce_delays, print_report=True, plot_distributions = False)\n",
    "    \n",
    "    return len(xp), xp[-1], yp[-1], z[xp[-1]-1][yp[-1]-1]\n",
    "\n",
    "\n"
   ]
  },
  {
   "cell_type": "markdown",
   "metadata": {},
   "source": [
    "# 11. Optimization Results\n",
    "\n",
    "In the optimization stage, a minimum of 1 train per hour and a maximum of 10 trains per hour are considered. Also, a minimum of 1 signalling block and a maximum of 15 signalling blocks are considered.\n",
    "\n",
    "That is because, with 10 trains running per hour, the interval between 2 consequtive trains is 6 minutes. The random delays in the train start times due to passanger movement that are considered in this project have a **&mu; = 90 seconds** and **&sigma; = 35 seconds**. Sometimes the start deays extend upto 150 seconds which is almost half of the time interval between consecutive trains. If more than 10 trains per hour are considered, the time interval and start delays hinder the smooth functioning of the train simulation.\n",
    "\n",
    "Also, with a miaximum of 15 signalling blocks on a 145000 meters stretch of track, each block is 9666.67 meters in length. That is not even 10 kilometers. If the signalling blocks are any shorter than 10 kilometers, it will hinder the trains from running at maximum speed over long distances."
   ]
  },
  {
   "cell_type": "markdown",
   "metadata": {},
   "source": [
    "## 11.1 Optimization without Random Delays\n",
    "\n",
    "\n",
    "\n",
    "<font color=red size=3> **Note: Running the hill climbing algorithm takes a significant amount of time.**</font>"
   ]
  },
  {
   "cell_type": "code",
   "execution_count": 82,
   "metadata": {
    "scrolled": false
   },
   "outputs": [
    {
     "name": "stdout",
     "output_type": "stream",
     "text": [
      "+------------------+\n",
      "|    Optimising    |\n",
      "+------------------+\n",
      " n  k   f(n, k)\n",
      " 4  9  1496.967\n",
      " 6  9  3368.177\n",
      " 8 11  5984.789\n",
      "10 13  9317.729\n",
      "10 15  9337.248\n",
      "\\\n",
      "\n",
      "\n",
      "Plotting Hill Climbing:\n"
     ]
    },
    {
     "data": {
      "application/vnd.jupyter.widget-view+json": {
       "model_id": "9e372978ee6e4745acbbbf7a20f0235d",
       "version_major": 2,
       "version_minor": 0
      },
      "text/plain": [
       "HBox(children=(IntProgress(value=0, max=150), HTML(value='')))"
      ]
     },
     "metadata": {},
     "output_type": "display_data"
    },
    {
     "name": "stdout",
     "output_type": "stream",
     "text": [
      "\n"
     ]
    },
    {
     "data": {
      "application/javascript": [
       "/* Put everything inside the global mpl namespace */\n",
       "window.mpl = {};\n",
       "\n",
       "\n",
       "mpl.get_websocket_type = function() {\n",
       "    if (typeof(WebSocket) !== 'undefined') {\n",
       "        return WebSocket;\n",
       "    } else if (typeof(MozWebSocket) !== 'undefined') {\n",
       "        return MozWebSocket;\n",
       "    } else {\n",
       "        alert('Your browser does not have WebSocket support. ' +\n",
       "              'Please try Chrome, Safari or Firefox ≥ 6. ' +\n",
       "              'Firefox 4 and 5 are also supported but you ' +\n",
       "              'have to enable WebSockets in about:config.');\n",
       "    };\n",
       "}\n",
       "\n",
       "mpl.figure = function(figure_id, websocket, ondownload, parent_element) {\n",
       "    this.id = figure_id;\n",
       "\n",
       "    this.ws = websocket;\n",
       "\n",
       "    this.supports_binary = (this.ws.binaryType != undefined);\n",
       "\n",
       "    if (!this.supports_binary) {\n",
       "        var warnings = document.getElementById(\"mpl-warnings\");\n",
       "        if (warnings) {\n",
       "            warnings.style.display = 'block';\n",
       "            warnings.textContent = (\n",
       "                \"This browser does not support binary websocket messages. \" +\n",
       "                    \"Performance may be slow.\");\n",
       "        }\n",
       "    }\n",
       "\n",
       "    this.imageObj = new Image();\n",
       "\n",
       "    this.context = undefined;\n",
       "    this.message = undefined;\n",
       "    this.canvas = undefined;\n",
       "    this.rubberband_canvas = undefined;\n",
       "    this.rubberband_context = undefined;\n",
       "    this.format_dropdown = undefined;\n",
       "\n",
       "    this.image_mode = 'full';\n",
       "\n",
       "    this.root = $('<div/>');\n",
       "    this._root_extra_style(this.root)\n",
       "    this.root.attr('style', 'display: inline-block');\n",
       "\n",
       "    $(parent_element).append(this.root);\n",
       "\n",
       "    this._init_header(this);\n",
       "    this._init_canvas(this);\n",
       "    this._init_toolbar(this);\n",
       "\n",
       "    var fig = this;\n",
       "\n",
       "    this.waiting = false;\n",
       "\n",
       "    this.ws.onopen =  function () {\n",
       "            fig.send_message(\"supports_binary\", {value: fig.supports_binary});\n",
       "            fig.send_message(\"send_image_mode\", {});\n",
       "            if (mpl.ratio != 1) {\n",
       "                fig.send_message(\"set_dpi_ratio\", {'dpi_ratio': mpl.ratio});\n",
       "            }\n",
       "            fig.send_message(\"refresh\", {});\n",
       "        }\n",
       "\n",
       "    this.imageObj.onload = function() {\n",
       "            if (fig.image_mode == 'full') {\n",
       "                // Full images could contain transparency (where diff images\n",
       "                // almost always do), so we need to clear the canvas so that\n",
       "                // there is no ghosting.\n",
       "                fig.context.clearRect(0, 0, fig.canvas.width, fig.canvas.height);\n",
       "            }\n",
       "            fig.context.drawImage(fig.imageObj, 0, 0);\n",
       "        };\n",
       "\n",
       "    this.imageObj.onunload = function() {\n",
       "        fig.ws.close();\n",
       "    }\n",
       "\n",
       "    this.ws.onmessage = this._make_on_message_function(this);\n",
       "\n",
       "    this.ondownload = ondownload;\n",
       "}\n",
       "\n",
       "mpl.figure.prototype._init_header = function() {\n",
       "    var titlebar = $(\n",
       "        '<div class=\"ui-dialog-titlebar ui-widget-header ui-corner-all ' +\n",
       "        'ui-helper-clearfix\"/>');\n",
       "    var titletext = $(\n",
       "        '<div class=\"ui-dialog-title\" style=\"width: 100%; ' +\n",
       "        'text-align: center; padding: 3px;\"/>');\n",
       "    titlebar.append(titletext)\n",
       "    this.root.append(titlebar);\n",
       "    this.header = titletext[0];\n",
       "}\n",
       "\n",
       "\n",
       "\n",
       "mpl.figure.prototype._canvas_extra_style = function(canvas_div) {\n",
       "\n",
       "}\n",
       "\n",
       "\n",
       "mpl.figure.prototype._root_extra_style = function(canvas_div) {\n",
       "\n",
       "}\n",
       "\n",
       "mpl.figure.prototype._init_canvas = function() {\n",
       "    var fig = this;\n",
       "\n",
       "    var canvas_div = $('<div/>');\n",
       "\n",
       "    canvas_div.attr('style', 'position: relative; clear: both; outline: 0');\n",
       "\n",
       "    function canvas_keyboard_event(event) {\n",
       "        return fig.key_event(event, event['data']);\n",
       "    }\n",
       "\n",
       "    canvas_div.keydown('key_press', canvas_keyboard_event);\n",
       "    canvas_div.keyup('key_release', canvas_keyboard_event);\n",
       "    this.canvas_div = canvas_div\n",
       "    this._canvas_extra_style(canvas_div)\n",
       "    this.root.append(canvas_div);\n",
       "\n",
       "    var canvas = $('<canvas/>');\n",
       "    canvas.addClass('mpl-canvas');\n",
       "    canvas.attr('style', \"left: 0; top: 0; z-index: 0; outline: 0\")\n",
       "\n",
       "    this.canvas = canvas[0];\n",
       "    this.context = canvas[0].getContext(\"2d\");\n",
       "\n",
       "    var backingStore = this.context.backingStorePixelRatio ||\n",
       "\tthis.context.webkitBackingStorePixelRatio ||\n",
       "\tthis.context.mozBackingStorePixelRatio ||\n",
       "\tthis.context.msBackingStorePixelRatio ||\n",
       "\tthis.context.oBackingStorePixelRatio ||\n",
       "\tthis.context.backingStorePixelRatio || 1;\n",
       "\n",
       "    mpl.ratio = (window.devicePixelRatio || 1) / backingStore;\n",
       "\n",
       "    var rubberband = $('<canvas/>');\n",
       "    rubberband.attr('style', \"position: absolute; left: 0; top: 0; z-index: 1;\")\n",
       "\n",
       "    var pass_mouse_events = true;\n",
       "\n",
       "    canvas_div.resizable({\n",
       "        start: function(event, ui) {\n",
       "            pass_mouse_events = false;\n",
       "        },\n",
       "        resize: function(event, ui) {\n",
       "            fig.request_resize(ui.size.width, ui.size.height);\n",
       "        },\n",
       "        stop: function(event, ui) {\n",
       "            pass_mouse_events = true;\n",
       "            fig.request_resize(ui.size.width, ui.size.height);\n",
       "        },\n",
       "    });\n",
       "\n",
       "    function mouse_event_fn(event) {\n",
       "        if (pass_mouse_events)\n",
       "            return fig.mouse_event(event, event['data']);\n",
       "    }\n",
       "\n",
       "    rubberband.mousedown('button_press', mouse_event_fn);\n",
       "    rubberband.mouseup('button_release', mouse_event_fn);\n",
       "    // Throttle sequential mouse events to 1 every 20ms.\n",
       "    rubberband.mousemove('motion_notify', mouse_event_fn);\n",
       "\n",
       "    rubberband.mouseenter('figure_enter', mouse_event_fn);\n",
       "    rubberband.mouseleave('figure_leave', mouse_event_fn);\n",
       "\n",
       "    canvas_div.on(\"wheel\", function (event) {\n",
       "        event = event.originalEvent;\n",
       "        event['data'] = 'scroll'\n",
       "        if (event.deltaY < 0) {\n",
       "            event.step = 1;\n",
       "        } else {\n",
       "            event.step = -1;\n",
       "        }\n",
       "        mouse_event_fn(event);\n",
       "    });\n",
       "\n",
       "    canvas_div.append(canvas);\n",
       "    canvas_div.append(rubberband);\n",
       "\n",
       "    this.rubberband = rubberband;\n",
       "    this.rubberband_canvas = rubberband[0];\n",
       "    this.rubberband_context = rubberband[0].getContext(\"2d\");\n",
       "    this.rubberband_context.strokeStyle = \"#000000\";\n",
       "\n",
       "    this._resize_canvas = function(width, height) {\n",
       "        // Keep the size of the canvas, canvas container, and rubber band\n",
       "        // canvas in synch.\n",
       "        canvas_div.css('width', width)\n",
       "        canvas_div.css('height', height)\n",
       "\n",
       "        canvas.attr('width', width * mpl.ratio);\n",
       "        canvas.attr('height', height * mpl.ratio);\n",
       "        canvas.attr('style', 'width: ' + width + 'px; height: ' + height + 'px;');\n",
       "\n",
       "        rubberband.attr('width', width);\n",
       "        rubberband.attr('height', height);\n",
       "    }\n",
       "\n",
       "    // Set the figure to an initial 600x600px, this will subsequently be updated\n",
       "    // upon first draw.\n",
       "    this._resize_canvas(600, 600);\n",
       "\n",
       "    // Disable right mouse context menu.\n",
       "    $(this.rubberband_canvas).bind(\"contextmenu\",function(e){\n",
       "        return false;\n",
       "    });\n",
       "\n",
       "    function set_focus () {\n",
       "        canvas.focus();\n",
       "        canvas_div.focus();\n",
       "    }\n",
       "\n",
       "    window.setTimeout(set_focus, 100);\n",
       "}\n",
       "\n",
       "mpl.figure.prototype._init_toolbar = function() {\n",
       "    var fig = this;\n",
       "\n",
       "    var nav_element = $('<div/>');\n",
       "    nav_element.attr('style', 'width: 100%');\n",
       "    this.root.append(nav_element);\n",
       "\n",
       "    // Define a callback function for later on.\n",
       "    function toolbar_event(event) {\n",
       "        return fig.toolbar_button_onclick(event['data']);\n",
       "    }\n",
       "    function toolbar_mouse_event(event) {\n",
       "        return fig.toolbar_button_onmouseover(event['data']);\n",
       "    }\n",
       "\n",
       "    for(var toolbar_ind in mpl.toolbar_items) {\n",
       "        var name = mpl.toolbar_items[toolbar_ind][0];\n",
       "        var tooltip = mpl.toolbar_items[toolbar_ind][1];\n",
       "        var image = mpl.toolbar_items[toolbar_ind][2];\n",
       "        var method_name = mpl.toolbar_items[toolbar_ind][3];\n",
       "\n",
       "        if (!name) {\n",
       "            // put a spacer in here.\n",
       "            continue;\n",
       "        }\n",
       "        var button = $('<button/>');\n",
       "        button.addClass('ui-button ui-widget ui-state-default ui-corner-all ' +\n",
       "                        'ui-button-icon-only');\n",
       "        button.attr('role', 'button');\n",
       "        button.attr('aria-disabled', 'false');\n",
       "        button.click(method_name, toolbar_event);\n",
       "        button.mouseover(tooltip, toolbar_mouse_event);\n",
       "\n",
       "        var icon_img = $('<span/>');\n",
       "        icon_img.addClass('ui-button-icon-primary ui-icon');\n",
       "        icon_img.addClass(image);\n",
       "        icon_img.addClass('ui-corner-all');\n",
       "\n",
       "        var tooltip_span = $('<span/>');\n",
       "        tooltip_span.addClass('ui-button-text');\n",
       "        tooltip_span.html(tooltip);\n",
       "\n",
       "        button.append(icon_img);\n",
       "        button.append(tooltip_span);\n",
       "\n",
       "        nav_element.append(button);\n",
       "    }\n",
       "\n",
       "    var fmt_picker_span = $('<span/>');\n",
       "\n",
       "    var fmt_picker = $('<select/>');\n",
       "    fmt_picker.addClass('mpl-toolbar-option ui-widget ui-widget-content');\n",
       "    fmt_picker_span.append(fmt_picker);\n",
       "    nav_element.append(fmt_picker_span);\n",
       "    this.format_dropdown = fmt_picker[0];\n",
       "\n",
       "    for (var ind in mpl.extensions) {\n",
       "        var fmt = mpl.extensions[ind];\n",
       "        var option = $(\n",
       "            '<option/>', {selected: fmt === mpl.default_extension}).html(fmt);\n",
       "        fmt_picker.append(option);\n",
       "    }\n",
       "\n",
       "    // Add hover states to the ui-buttons\n",
       "    $( \".ui-button\" ).hover(\n",
       "        function() { $(this).addClass(\"ui-state-hover\");},\n",
       "        function() { $(this).removeClass(\"ui-state-hover\");}\n",
       "    );\n",
       "\n",
       "    var status_bar = $('<span class=\"mpl-message\"/>');\n",
       "    nav_element.append(status_bar);\n",
       "    this.message = status_bar[0];\n",
       "}\n",
       "\n",
       "mpl.figure.prototype.request_resize = function(x_pixels, y_pixels) {\n",
       "    // Request matplotlib to resize the figure. Matplotlib will then trigger a resize in the client,\n",
       "    // which will in turn request a refresh of the image.\n",
       "    this.send_message('resize', {'width': x_pixels, 'height': y_pixels});\n",
       "}\n",
       "\n",
       "mpl.figure.prototype.send_message = function(type, properties) {\n",
       "    properties['type'] = type;\n",
       "    properties['figure_id'] = this.id;\n",
       "    this.ws.send(JSON.stringify(properties));\n",
       "}\n",
       "\n",
       "mpl.figure.prototype.send_draw_message = function() {\n",
       "    if (!this.waiting) {\n",
       "        this.waiting = true;\n",
       "        this.ws.send(JSON.stringify({type: \"draw\", figure_id: this.id}));\n",
       "    }\n",
       "}\n",
       "\n",
       "\n",
       "mpl.figure.prototype.handle_save = function(fig, msg) {\n",
       "    var format_dropdown = fig.format_dropdown;\n",
       "    var format = format_dropdown.options[format_dropdown.selectedIndex].value;\n",
       "    fig.ondownload(fig, format);\n",
       "}\n",
       "\n",
       "\n",
       "mpl.figure.prototype.handle_resize = function(fig, msg) {\n",
       "    var size = msg['size'];\n",
       "    if (size[0] != fig.canvas.width || size[1] != fig.canvas.height) {\n",
       "        fig._resize_canvas(size[0], size[1]);\n",
       "        fig.send_message(\"refresh\", {});\n",
       "    };\n",
       "}\n",
       "\n",
       "mpl.figure.prototype.handle_rubberband = function(fig, msg) {\n",
       "    var x0 = msg['x0'] / mpl.ratio;\n",
       "    var y0 = (fig.canvas.height - msg['y0']) / mpl.ratio;\n",
       "    var x1 = msg['x1'] / mpl.ratio;\n",
       "    var y1 = (fig.canvas.height - msg['y1']) / mpl.ratio;\n",
       "    x0 = Math.floor(x0) + 0.5;\n",
       "    y0 = Math.floor(y0) + 0.5;\n",
       "    x1 = Math.floor(x1) + 0.5;\n",
       "    y1 = Math.floor(y1) + 0.5;\n",
       "    var min_x = Math.min(x0, x1);\n",
       "    var min_y = Math.min(y0, y1);\n",
       "    var width = Math.abs(x1 - x0);\n",
       "    var height = Math.abs(y1 - y0);\n",
       "\n",
       "    fig.rubberband_context.clearRect(\n",
       "        0, 0, fig.canvas.width / mpl.ratio, fig.canvas.height / mpl.ratio);\n",
       "\n",
       "    fig.rubberband_context.strokeRect(min_x, min_y, width, height);\n",
       "}\n",
       "\n",
       "mpl.figure.prototype.handle_figure_label = function(fig, msg) {\n",
       "    // Updates the figure title.\n",
       "    fig.header.textContent = msg['label'];\n",
       "}\n",
       "\n",
       "mpl.figure.prototype.handle_cursor = function(fig, msg) {\n",
       "    var cursor = msg['cursor'];\n",
       "    switch(cursor)\n",
       "    {\n",
       "    case 0:\n",
       "        cursor = 'pointer';\n",
       "        break;\n",
       "    case 1:\n",
       "        cursor = 'default';\n",
       "        break;\n",
       "    case 2:\n",
       "        cursor = 'crosshair';\n",
       "        break;\n",
       "    case 3:\n",
       "        cursor = 'move';\n",
       "        break;\n",
       "    }\n",
       "    fig.rubberband_canvas.style.cursor = cursor;\n",
       "}\n",
       "\n",
       "mpl.figure.prototype.handle_message = function(fig, msg) {\n",
       "    fig.message.textContent = msg['message'];\n",
       "}\n",
       "\n",
       "mpl.figure.prototype.handle_draw = function(fig, msg) {\n",
       "    // Request the server to send over a new figure.\n",
       "    fig.send_draw_message();\n",
       "}\n",
       "\n",
       "mpl.figure.prototype.handle_image_mode = function(fig, msg) {\n",
       "    fig.image_mode = msg['mode'];\n",
       "}\n",
       "\n",
       "mpl.figure.prototype.updated_canvas_event = function() {\n",
       "    // Called whenever the canvas gets updated.\n",
       "    this.send_message(\"ack\", {});\n",
       "}\n",
       "\n",
       "// A function to construct a web socket function for onmessage handling.\n",
       "// Called in the figure constructor.\n",
       "mpl.figure.prototype._make_on_message_function = function(fig) {\n",
       "    return function socket_on_message(evt) {\n",
       "        if (evt.data instanceof Blob) {\n",
       "            /* FIXME: We get \"Resource interpreted as Image but\n",
       "             * transferred with MIME type text/plain:\" errors on\n",
       "             * Chrome.  But how to set the MIME type?  It doesn't seem\n",
       "             * to be part of the websocket stream */\n",
       "            evt.data.type = \"image/png\";\n",
       "\n",
       "            /* Free the memory for the previous frames */\n",
       "            if (fig.imageObj.src) {\n",
       "                (window.URL || window.webkitURL).revokeObjectURL(\n",
       "                    fig.imageObj.src);\n",
       "            }\n",
       "\n",
       "            fig.imageObj.src = (window.URL || window.webkitURL).createObjectURL(\n",
       "                evt.data);\n",
       "            fig.updated_canvas_event();\n",
       "            fig.waiting = false;\n",
       "            return;\n",
       "        }\n",
       "        else if (typeof evt.data === 'string' && evt.data.slice(0, 21) == \"data:image/png;base64\") {\n",
       "            fig.imageObj.src = evt.data;\n",
       "            fig.updated_canvas_event();\n",
       "            fig.waiting = false;\n",
       "            return;\n",
       "        }\n",
       "\n",
       "        var msg = JSON.parse(evt.data);\n",
       "        var msg_type = msg['type'];\n",
       "\n",
       "        // Call the  \"handle_{type}\" callback, which takes\n",
       "        // the figure and JSON message as its only arguments.\n",
       "        try {\n",
       "            var callback = fig[\"handle_\" + msg_type];\n",
       "        } catch (e) {\n",
       "            console.log(\"No handler for the '\" + msg_type + \"' message type: \", msg);\n",
       "            return;\n",
       "        }\n",
       "\n",
       "        if (callback) {\n",
       "            try {\n",
       "                // console.log(\"Handling '\" + msg_type + \"' message: \", msg);\n",
       "                callback(fig, msg);\n",
       "            } catch (e) {\n",
       "                console.log(\"Exception inside the 'handler_\" + msg_type + \"' callback:\", e, e.stack, msg);\n",
       "            }\n",
       "        }\n",
       "    };\n",
       "}\n",
       "\n",
       "// from http://stackoverflow.com/questions/1114465/getting-mouse-location-in-canvas\n",
       "mpl.findpos = function(e) {\n",
       "    //this section is from http://www.quirksmode.org/js/events_properties.html\n",
       "    var targ;\n",
       "    if (!e)\n",
       "        e = window.event;\n",
       "    if (e.target)\n",
       "        targ = e.target;\n",
       "    else if (e.srcElement)\n",
       "        targ = e.srcElement;\n",
       "    if (targ.nodeType == 3) // defeat Safari bug\n",
       "        targ = targ.parentNode;\n",
       "\n",
       "    // jQuery normalizes the pageX and pageY\n",
       "    // pageX,Y are the mouse positions relative to the document\n",
       "    // offset() returns the position of the element relative to the document\n",
       "    var x = e.pageX - $(targ).offset().left;\n",
       "    var y = e.pageY - $(targ).offset().top;\n",
       "\n",
       "    return {\"x\": x, \"y\": y};\n",
       "};\n",
       "\n",
       "/*\n",
       " * return a copy of an object with only non-object keys\n",
       " * we need this to avoid circular references\n",
       " * http://stackoverflow.com/a/24161582/3208463\n",
       " */\n",
       "function simpleKeys (original) {\n",
       "  return Object.keys(original).reduce(function (obj, key) {\n",
       "    if (typeof original[key] !== 'object')\n",
       "        obj[key] = original[key]\n",
       "    return obj;\n",
       "  }, {});\n",
       "}\n",
       "\n",
       "mpl.figure.prototype.mouse_event = function(event, name) {\n",
       "    var canvas_pos = mpl.findpos(event)\n",
       "\n",
       "    if (name === 'button_press')\n",
       "    {\n",
       "        this.canvas.focus();\n",
       "        this.canvas_div.focus();\n",
       "    }\n",
       "\n",
       "    var x = canvas_pos.x * mpl.ratio;\n",
       "    var y = canvas_pos.y * mpl.ratio;\n",
       "\n",
       "    this.send_message(name, {x: x, y: y, button: event.button,\n",
       "                             step: event.step,\n",
       "                             guiEvent: simpleKeys(event)});\n",
       "\n",
       "    /* This prevents the web browser from automatically changing to\n",
       "     * the text insertion cursor when the button is pressed.  We want\n",
       "     * to control all of the cursor setting manually through the\n",
       "     * 'cursor' event from matplotlib */\n",
       "    event.preventDefault();\n",
       "    return false;\n",
       "}\n",
       "\n",
       "mpl.figure.prototype._key_event_extra = function(event, name) {\n",
       "    // Handle any extra behaviour associated with a key event\n",
       "}\n",
       "\n",
       "mpl.figure.prototype.key_event = function(event, name) {\n",
       "\n",
       "    // Prevent repeat events\n",
       "    if (name == 'key_press')\n",
       "    {\n",
       "        if (event.which === this._key)\n",
       "            return;\n",
       "        else\n",
       "            this._key = event.which;\n",
       "    }\n",
       "    if (name == 'key_release')\n",
       "        this._key = null;\n",
       "\n",
       "    var value = '';\n",
       "    if (event.ctrlKey && event.which != 17)\n",
       "        value += \"ctrl+\";\n",
       "    if (event.altKey && event.which != 18)\n",
       "        value += \"alt+\";\n",
       "    if (event.shiftKey && event.which != 16)\n",
       "        value += \"shift+\";\n",
       "\n",
       "    value += 'k';\n",
       "    value += event.which.toString();\n",
       "\n",
       "    this._key_event_extra(event, name);\n",
       "\n",
       "    this.send_message(name, {key: value,\n",
       "                             guiEvent: simpleKeys(event)});\n",
       "    return false;\n",
       "}\n",
       "\n",
       "mpl.figure.prototype.toolbar_button_onclick = function(name) {\n",
       "    if (name == 'download') {\n",
       "        this.handle_save(this, null);\n",
       "    } else {\n",
       "        this.send_message(\"toolbar_button\", {name: name});\n",
       "    }\n",
       "};\n",
       "\n",
       "mpl.figure.prototype.toolbar_button_onmouseover = function(tooltip) {\n",
       "    this.message.textContent = tooltip;\n",
       "};\n",
       "mpl.toolbar_items = [[\"Home\", \"Reset original view\", \"fa fa-home icon-home\", \"home\"], [\"Back\", \"Back to previous view\", \"fa fa-arrow-left icon-arrow-left\", \"back\"], [\"Forward\", \"Forward to next view\", \"fa fa-arrow-right icon-arrow-right\", \"forward\"], [\"\", \"\", \"\", \"\"], [\"Pan\", \"Pan axes with left mouse, zoom with right\", \"fa fa-arrows icon-move\", \"pan\"], [\"Zoom\", \"Zoom to rectangle\", \"fa fa-square-o icon-check-empty\", \"zoom\"], [\"\", \"\", \"\", \"\"], [\"Download\", \"Download plot\", \"fa fa-floppy-o icon-save\", \"download\"]];\n",
       "\n",
       "mpl.extensions = [\"eps\", \"jpeg\", \"pdf\", \"png\", \"ps\", \"raw\", \"svg\", \"tif\"];\n",
       "\n",
       "mpl.default_extension = \"png\";var comm_websocket_adapter = function(comm) {\n",
       "    // Create a \"websocket\"-like object which calls the given IPython comm\n",
       "    // object with the appropriate methods. Currently this is a non binary\n",
       "    // socket, so there is still some room for performance tuning.\n",
       "    var ws = {};\n",
       "\n",
       "    ws.close = function() {\n",
       "        comm.close()\n",
       "    };\n",
       "    ws.send = function(m) {\n",
       "        //console.log('sending', m);\n",
       "        comm.send(m);\n",
       "    };\n",
       "    // Register the callback with on_msg.\n",
       "    comm.on_msg(function(msg) {\n",
       "        //console.log('receiving', msg['content']['data'], msg);\n",
       "        // Pass the mpl event to the overridden (by mpl) onmessage function.\n",
       "        ws.onmessage(msg['content']['data'])\n",
       "    });\n",
       "    return ws;\n",
       "}\n",
       "\n",
       "mpl.mpl_figure_comm = function(comm, msg) {\n",
       "    // This is the function which gets called when the mpl process\n",
       "    // starts-up an IPython Comm through the \"matplotlib\" channel.\n",
       "\n",
       "    var id = msg.content.data.id;\n",
       "    // Get hold of the div created by the display call when the Comm\n",
       "    // socket was opened in Python.\n",
       "    var element = $(\"#\" + id);\n",
       "    var ws_proxy = comm_websocket_adapter(comm)\n",
       "\n",
       "    function ondownload(figure, format) {\n",
       "        window.open(figure.imageObj.src);\n",
       "    }\n",
       "\n",
       "    var fig = new mpl.figure(id, ws_proxy,\n",
       "                           ondownload,\n",
       "                           element.get(0));\n",
       "\n",
       "    // Call onopen now - mpl needs it, as it is assuming we've passed it a real\n",
       "    // web socket which is closed, not our websocket->open comm proxy.\n",
       "    ws_proxy.onopen();\n",
       "\n",
       "    fig.parent_element = element.get(0);\n",
       "    fig.cell_info = mpl.find_output_cell(\"<div id='\" + id + \"'></div>\");\n",
       "    if (!fig.cell_info) {\n",
       "        console.error(\"Failed to find cell for figure\", id, fig);\n",
       "        return;\n",
       "    }\n",
       "\n",
       "    var output_index = fig.cell_info[2]\n",
       "    var cell = fig.cell_info[0];\n",
       "\n",
       "};\n",
       "\n",
       "mpl.figure.prototype.handle_close = function(fig, msg) {\n",
       "    var width = fig.canvas.width/mpl.ratio\n",
       "    fig.root.unbind('remove')\n",
       "\n",
       "    // Update the output cell to use the data from the current canvas.\n",
       "    fig.push_to_output();\n",
       "    var dataURL = fig.canvas.toDataURL();\n",
       "    // Re-enable the keyboard manager in IPython - without this line, in FF,\n",
       "    // the notebook keyboard shortcuts fail.\n",
       "    IPython.keyboard_manager.enable()\n",
       "    $(fig.parent_element).html('<img src=\"' + dataURL + '\" width=\"' + width + '\">');\n",
       "    fig.close_ws(fig, msg);\n",
       "}\n",
       "\n",
       "mpl.figure.prototype.close_ws = function(fig, msg){\n",
       "    fig.send_message('closing', msg);\n",
       "    // fig.ws.close()\n",
       "}\n",
       "\n",
       "mpl.figure.prototype.push_to_output = function(remove_interactive) {\n",
       "    // Turn the data on the canvas into data in the output cell.\n",
       "    var width = this.canvas.width/mpl.ratio\n",
       "    var dataURL = this.canvas.toDataURL();\n",
       "    this.cell_info[1]['text/html'] = '<img src=\"' + dataURL + '\" width=\"' + width + '\">';\n",
       "}\n",
       "\n",
       "mpl.figure.prototype.updated_canvas_event = function() {\n",
       "    // Tell IPython that the notebook contents must change.\n",
       "    IPython.notebook.set_dirty(true);\n",
       "    this.send_message(\"ack\", {});\n",
       "    var fig = this;\n",
       "    // Wait a second, then push the new image to the DOM so\n",
       "    // that it is saved nicely (might be nice to debounce this).\n",
       "    setTimeout(function () { fig.push_to_output() }, 1000);\n",
       "}\n",
       "\n",
       "mpl.figure.prototype._init_toolbar = function() {\n",
       "    var fig = this;\n",
       "\n",
       "    var nav_element = $('<div/>');\n",
       "    nav_element.attr('style', 'width: 100%');\n",
       "    this.root.append(nav_element);\n",
       "\n",
       "    // Define a callback function for later on.\n",
       "    function toolbar_event(event) {\n",
       "        return fig.toolbar_button_onclick(event['data']);\n",
       "    }\n",
       "    function toolbar_mouse_event(event) {\n",
       "        return fig.toolbar_button_onmouseover(event['data']);\n",
       "    }\n",
       "\n",
       "    for(var toolbar_ind in mpl.toolbar_items){\n",
       "        var name = mpl.toolbar_items[toolbar_ind][0];\n",
       "        var tooltip = mpl.toolbar_items[toolbar_ind][1];\n",
       "        var image = mpl.toolbar_items[toolbar_ind][2];\n",
       "        var method_name = mpl.toolbar_items[toolbar_ind][3];\n",
       "\n",
       "        if (!name) { continue; };\n",
       "\n",
       "        var button = $('<button class=\"btn btn-default\" href=\"#\" title=\"' + name + '\"><i class=\"fa ' + image + ' fa-lg\"></i></button>');\n",
       "        button.click(method_name, toolbar_event);\n",
       "        button.mouseover(tooltip, toolbar_mouse_event);\n",
       "        nav_element.append(button);\n",
       "    }\n",
       "\n",
       "    // Add the status bar.\n",
       "    var status_bar = $('<span class=\"mpl-message\" style=\"text-align:right; float: right;\"/>');\n",
       "    nav_element.append(status_bar);\n",
       "    this.message = status_bar[0];\n",
       "\n",
       "    // Add the close button to the window.\n",
       "    var buttongrp = $('<div class=\"btn-group inline pull-right\"></div>');\n",
       "    var button = $('<button class=\"btn btn-mini btn-primary\" href=\"#\" title=\"Stop Interaction\"><i class=\"fa fa-power-off icon-remove icon-large\"></i></button>');\n",
       "    button.click(function (evt) { fig.handle_close(fig, {}); } );\n",
       "    button.mouseover('Stop Interaction', toolbar_mouse_event);\n",
       "    buttongrp.append(button);\n",
       "    var titlebar = this.root.find($('.ui-dialog-titlebar'));\n",
       "    titlebar.prepend(buttongrp);\n",
       "}\n",
       "\n",
       "mpl.figure.prototype._root_extra_style = function(el){\n",
       "    var fig = this\n",
       "    el.on(\"remove\", function(){\n",
       "\tfig.close_ws(fig, {});\n",
       "    });\n",
       "}\n",
       "\n",
       "mpl.figure.prototype._canvas_extra_style = function(el){\n",
       "    // this is important to make the div 'focusable\n",
       "    el.attr('tabindex', 0)\n",
       "    // reach out to IPython and tell the keyboard manager to turn it's self\n",
       "    // off when our div gets focus\n",
       "\n",
       "    // location in version 3\n",
       "    if (IPython.notebook.keyboard_manager) {\n",
       "        IPython.notebook.keyboard_manager.register_events(el);\n",
       "    }\n",
       "    else {\n",
       "        // location in version 2\n",
       "        IPython.keyboard_manager.register_events(el);\n",
       "    }\n",
       "\n",
       "}\n",
       "\n",
       "mpl.figure.prototype._key_event_extra = function(event, name) {\n",
       "    var manager = IPython.notebook.keyboard_manager;\n",
       "    if (!manager)\n",
       "        manager = IPython.keyboard_manager;\n",
       "\n",
       "    // Check for shift+enter\n",
       "    if (event.shiftKey && event.which == 13) {\n",
       "        this.canvas_div.blur();\n",
       "        // select the cell after this one\n",
       "        var index = IPython.notebook.find_cell_index(this.cell_info[0]);\n",
       "        IPython.notebook.select(index + 1);\n",
       "    }\n",
       "}\n",
       "\n",
       "mpl.figure.prototype.handle_save = function(fig, msg) {\n",
       "    fig.ondownload(fig, null);\n",
       "}\n",
       "\n",
       "\n",
       "mpl.find_output_cell = function(html_output) {\n",
       "    // Return the cell and output element which can be found *uniquely* in the notebook.\n",
       "    // Note - this is a bit hacky, but it is done because the \"notebook_saving.Notebook\"\n",
       "    // IPython event is triggered only after the cells have been serialised, which for\n",
       "    // our purposes (turning an active figure into a static one), is too late.\n",
       "    var cells = IPython.notebook.get_cells();\n",
       "    var ncells = cells.length;\n",
       "    for (var i=0; i<ncells; i++) {\n",
       "        var cell = cells[i];\n",
       "        if (cell.cell_type === 'code'){\n",
       "            for (var j=0; j<cell.output_area.outputs.length; j++) {\n",
       "                var data = cell.output_area.outputs[j];\n",
       "                if (data.data) {\n",
       "                    // IPython >= 3 moved mimebundle to data attribute of output\n",
       "                    data = data.data;\n",
       "                }\n",
       "                if (data['text/html'] == html_output) {\n",
       "                    return [cell, data, j];\n",
       "                }\n",
       "            }\n",
       "        }\n",
       "    }\n",
       "}\n",
       "\n",
       "// Register the function which deals with the matplotlib target/channel.\n",
       "// The kernel may be null if the page has been refreshed.\n",
       "if (IPython.notebook.kernel != null) {\n",
       "    IPython.notebook.kernel.comm_manager.register_target('matplotlib', mpl.mpl_figure_comm);\n",
       "}\n"
      ],
      "text/plain": [
       "<IPython.core.display.Javascript object>"
      ]
     },
     "metadata": {},
     "output_type": "display_data"
    },
    {
     "data": {
      "text/html": [
       "<img src=\"data:image/png;base64,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\" width=\"800\">"
      ],
      "text/plain": [
       "<IPython.core.display.HTML object>"
      ]
     },
     "metadata": {},
     "output_type": "display_data"
    },
    {
     "name": "stdout",
     "output_type": "stream",
     "text": [
      "\n",
      "+------------------------+\n",
      "|    OPTIMAL SOLUTION    |\n",
      "+------------------------+\n",
      "\n",
      "Trains per hour: 10\n",
      "Signalling blocks: 15\n",
      "\n",
      "+------------------------+\n",
      "|   SIMULATION RESULTS   |\n",
      "+------------------------+\n",
      "        \n",
      "Average Delay:  92.82\n",
      "Average Speed:  80.35\n",
      "Percentage Trains Delayed:  0.00\n",
      "Average Travel Time:  1804.56  (0:30:04)\n",
      "Total Operational Delay:  0.00\n",
      "Maximum Travel Time:  1843.00\n",
      "\n",
      "\n",
      "\n",
      "\n",
      "+------------------------+\n",
      "|    TRAIN TIME TABLE    |\n",
      "+------------------------+\n",
      "        \n",
      "----------------------------------------------------------------------------------------------\n",
      "[Train Number] [Scheduled Departure] [Actual Departure] [Arrival Time] [Total Delay] [Delayed]\n",
      "                     [London]                            [Birmingham]                           \n",
      "----------------------------------------------------------------------------------------------\n",
      "[Train 000]    [07:00:00]            [07:01:44]         [07:31:44]      [0:01:44]   [False]\n",
      "[Train 001]    [07:06:00]            [07:08:03]         [07:38:03]      [0:02:03]   [False]\n",
      "[Train 002]    [07:12:00]            [07:12:54]         [07:43:01]      [0:00:54]   [False]\n",
      "[Train 003]    [07:18:00]            [07:19:47]         [07:49:47]      [0:01:47]   [False]\n",
      "[Train 004]    [07:24:00]            [07:24:39]         [07:54:46]      [0:00:39]   [False]\n",
      "[Train 005]    [07:30:00]            [07:31:45]         [08:01:45]      [0:01:45]   [False]\n",
      "[Train 006]    [07:36:00]            [07:37:50]         [08:07:50]      [0:01:50]   [False]\n",
      "[Train 007]    [07:42:00]            [07:44:10]         [08:14:10]      [0:02:10]   [False]\n",
      "[Train 008]    [07:48:00]            [07:49:04]         [08:19:10]      [0:01:04]   [False]\n",
      "[Train 009]    [07:54:00]            [07:55:58]         [08:25:58]      [0:01:58]   [False]\n",
      "[Train 010]    [08:00:00]            [08:01:46]         [08:31:46]      [0:01:46]   [False]\n",
      "[Train 011]    [08:06:00]            [08:08:28]         [08:38:28]      [0:02:28]   [False]\n",
      "[Train 012]    [08:12:00]            [08:14:13]         [08:44:13]      [0:02:13]   [False]\n",
      "[Train 013]    [08:18:00]            [08:20:15]         [08:50:15]      [0:02:15]   [False]\n",
      "[Train 014]    [08:24:00]            [08:24:47]         [08:54:59]      [0:00:47]   [False]\n",
      "[Train 015]    [08:30:00]            [08:31:18]         [09:01:18]      [0:01:18]   [False]\n",
      "[Train 016]    [08:36:00]            [08:37:40]         [09:07:40]      [0:01:40]   [False]\n",
      "[Train 017]    [08:42:00]            [08:43:32]         [09:13:32]      [0:01:32]   [False]\n",
      "[Train 018]    [08:48:00]            [08:49:00]         [09:19:01]      [0:01:00]   [False]\n",
      "[Train 019]    [08:54:00]            [08:55:11]         [09:25:11]      [0:01:11]   [False]\n",
      "[Train 020]    [09:00:00]            [09:01:31]         [09:31:31]      [0:01:31]   [False]\n",
      "[Train 021]    [09:06:00]            [09:07:32]         [09:37:32]      [0:01:32]   [False]\n",
      "[Train 022]    [09:12:00]            [09:13:29]         [09:43:29]      [0:01:29]   [False]\n",
      "[Train 023]    [09:18:00]            [09:19:21]         [09:49:21]      [0:01:21]   [False]\n",
      "[Train 024]    [09:24:00]            [09:26:08]         [09:56:08]      [0:02:08]   [False]\n",
      "[Train 025]    [09:30:00]            [09:31:18]         [10:01:21]      [0:01:18]   [False]\n",
      "[Train 026]    [09:36:00]            [09:38:04]         [10:08:04]      [0:02:04]   [False]\n",
      "[Train 027]    [09:42:00]            [09:43:15]         [10:13:18]      [0:01:15]   [False]\n",
      "[Train 028]    [09:48:00]            [09:50:11]         [10:20:11]      [0:02:11]   [False]\n",
      "[Train 029]    [09:54:00]            [09:55:08]         [10:25:46]      [0:01:08]   [False]\n",
      "[Train 030]    [10:00:00]            [10:01:20]         [10:31:53]      [0:01:20]   [False]\n",
      "[Train 031]    [10:06:00]            [10:07:46]         [10:37:46]      [0:01:46]   [False]\n",
      "[Train 032]    [10:12:00]            [10:13:45]         [10:43:45]      [0:01:45]   [False]\n",
      "[Train 033]    [10:18:00]            [10:19:30]         [10:49:30]      [0:01:30]   [False]\n",
      "[Train 034]    [10:24:00]            [10:24:53]         [10:55:04]      [0:00:53]   [False]\n",
      "[Train 035]    [10:30:00]            [10:31:10]         [11:01:10]      [0:01:10]   [False]\n",
      "[Train 036]    [10:36:00]            [10:37:51]         [11:07:51]      [0:01:51]   [False]\n",
      "[Train 037]    [10:42:00]            [10:43:39]         [11:13:39]      [0:01:39]   [False]\n",
      "[Train 038]    [10:48:00]            [10:49:22]         [11:19:22]      [0:01:22]   [False]\n",
      "[Train 039]    [10:54:00]            [10:56:00]         [11:26:00]      [0:02:00]   [False]\n",
      "[Train 040]    [11:00:00]            [11:00:31]         [11:30:44]      [0:00:31]   [False]\n",
      "[Train 041]    [11:06:00]            [11:06:36]         [11:36:36]      [0:00:36]   [False]\n",
      "[Train 042]    [11:12:00]            [11:13:22]         [11:43:22]      [0:01:22]   [False]\n",
      "[Train 043]    [11:18:00]            [11:19:45]         [11:49:45]      [0:01:45]   [False]\n",
      "[Train 044]    [11:24:00]            [11:25:56]         [11:55:56]      [0:01:56]   [False]\n",
      "[Train 045]    [11:30:00]            [11:31:52]         [12:01:52]      [0:01:52]   [False]\n",
      "[Train 046]    [11:36:00]            [11:37:20]         [12:07:21]      [0:01:20]   [False]\n",
      "[Train 047]    [11:42:00]            [11:43:58]         [12:13:58]      [0:01:58]   [False]\n",
      "[Train 048]    [11:48:00]            [11:50:02]         [12:20:02]      [0:02:02]   [False]\n",
      "[Train 049]    [11:54:00]            [11:56:02]         [12:26:02]      [0:02:02]   [False]\n",
      "[Train 050]    [12:00:00]            [12:02:38]         [12:32:38]      [0:02:38]   [False]\n",
      "[Train 051]    [12:06:00]            [12:07:36]         [12:37:41]      [0:01:36]   [False]\n",
      "[Train 052]    [12:12:00]            [12:12:53]         [12:43:05]      [0:00:53]   [False]\n",
      "[Train 053]    [12:18:00]            [12:18:00]         [12:48:06]      [0:00:00]   [False]\n",
      "[Train 054]    [12:24:00]            [12:25:41]         [12:55:41]      [0:01:41]   [False]\n",
      "[Train 055]    [12:30:00]            [12:32:03]         [13:02:03]      [0:02:03]   [False]\n",
      "[Train 056]    [12:36:00]            [12:38:13]         [13:08:13]      [0:02:13]   [False]\n",
      "[Train 057]    [12:42:00]            [12:42:31]         [13:12:48]      [0:00:31]   [False]\n",
      "[Train 058]    [12:48:00]            [12:49:57]         [13:19:57]      [0:01:57]   [False]\n",
      "[Train 059]    [12:54:00]            [12:56:54]         [13:26:54]      [0:02:54]   [False]\n",
      "[Train 060]    [13:00:00]            [13:01:45]         [13:31:52]      [0:01:45]   [False]\n",
      "[Train 061]    [13:06:00]            [13:07:41]         [13:37:41]      [0:01:41]   [False]\n",
      "[Train 062]    [13:12:00]            [13:13:53]         [13:43:53]      [0:01:53]   [False]\n",
      "[Train 063]    [13:18:00]            [13:19:17]         [13:49:18]      [0:01:17]   [False]\n",
      "[Train 064]    [13:24:00]            [13:25:00]         [13:55:00]      [0:01:00]   [False]\n",
      "[Train 065]    [13:30:00]            [13:30:53]         [14:00:53]      [0:00:53]   [False]\n",
      "[Train 066]    [13:36:00]            [13:38:35]         [14:08:35]      [0:02:35]   [False]\n",
      "[Train 067]    [13:42:00]            [13:44:05]         [14:14:15]      [0:02:05]   [False]\n",
      "[Train 068]    [13:48:00]            [13:49:13]         [14:19:18]      [0:01:13]   [False]\n",
      "[Train 069]    [13:54:00]            [13:54:41]         [14:24:52]      [0:00:41]   [False]\n",
      "[Train 070]    [14:00:00]            [14:02:05]         [14:32:05]      [0:02:05]   [False]\n",
      "[Train 071]    [14:06:00]            [14:06:03]         [14:36:29]      [0:00:03]   [False]\n",
      "[Train 072]    [14:12:00]            [14:13:53]         [14:43:53]      [0:01:53]   [False]\n",
      "[Train 073]    [14:18:00]            [14:18:33]         [14:48:49]      [0:00:33]   [False]\n",
      "[Train 074]    [14:24:00]            [14:25:46]         [14:55:46]      [0:01:46]   [False]\n",
      "[Train 075]    [14:30:00]            [14:31:14]         [15:01:15]      [0:01:14]   [False]\n",
      "[Train 076]    [14:36:00]            [14:37:24]         [15:07:24]      [0:01:24]   [False]\n",
      "[Train 077]    [14:42:00]            [14:43:02]         [15:13:12]      [0:01:02]   [False]\n",
      "[Train 078]    [14:48:00]            [14:49:35]         [15:19:35]      [0:01:35]   [False]\n"
     ]
    },
    {
     "name": "stdout",
     "output_type": "stream",
     "text": [
      "[Train 079]    [14:54:00]            [14:55:51]         [15:25:51]      [0:01:51]   [False]\n",
      "[Train 080]    [15:00:00]            [15:00:30]         [15:30:40]      [0:00:30]   [False]\n",
      "[Train 081]    [15:06:00]            [15:06:53]         [15:36:53]      [0:00:53]   [False]\n",
      "[Train 082]    [15:12:00]            [15:13:07]         [15:43:07]      [0:01:07]   [False]\n",
      "[Train 083]    [15:18:00]            [15:19:39]         [15:49:39]      [0:01:39]   [False]\n",
      "[Train 084]    [15:24:00]            [15:25:12]         [15:55:13]      [0:01:12]   [False]\n",
      "[Train 085]    [15:30:00]            [15:32:56]         [16:02:56]      [0:02:56]   [False]\n",
      "[Train 086]    [15:36:00]            [15:38:24]         [16:08:25]      [0:02:24]   [False]\n",
      "[Train 087]    [15:42:00]            [15:44:39]         [16:14:39]      [0:02:39]   [False]\n",
      "[Train 088]    [15:48:00]            [15:48:39]         [16:19:04]      [0:00:39]   [False]\n",
      "[Train 089]    [15:54:00]            [15:56:23]         [16:26:23]      [0:02:23]   [False]\n",
      "[Train 090]    [16:00:00]            [16:01:47]         [16:31:48]      [0:01:47]   [False]\n",
      "[Train 091]    [16:06:00]            [16:06:45]         [16:37:23]      [0:00:45]   [False]\n",
      "[Train 092]    [16:12:00]            [16:12:32]         [16:42:35]      [0:00:32]   [False]\n",
      "[Train 093]    [16:18:00]            [16:21:21]         [16:51:21]      [0:03:21]   [False]\n",
      "[Train 094]    [16:24:00]            [16:25:27]         [16:55:49]      [0:01:27]   [False]\n",
      "[Train 095]    [16:30:00]            [16:31:51]         [17:01:51]      [0:01:51]   [False]\n",
      "[Train 096]    [16:36:00]            [16:37:31]         [17:07:31]      [0:01:31]   [False]\n",
      "[Train 097]    [16:42:00]            [16:43:36]         [17:13:36]      [0:01:36]   [False]\n",
      "[Train 098]    [16:48:00]            [16:49:44]         [17:19:44]      [0:01:44]   [False]\n",
      "[Train 099]    [16:54:00]            [16:55:18]         [17:25:51]      [0:01:18]   [False]\n",
      "[Train 100]    [17:00:00]            [17:00:57]         [17:31:01]      [0:00:57]   [False]\n",
      "[Train 101]    [17:06:00]            [17:06:32]         [17:36:33]      [0:00:32]   [False]\n",
      "[Train 102]    [17:12:00]            [17:13:05]         [17:43:05]      [0:01:05]   [False]\n",
      "[Train 103]    [17:18:00]            [17:20:35]         [17:50:35]      [0:02:35]   [False]\n",
      "[Train 104]    [17:24:00]            [17:25:13]         [17:55:39]      [0:01:13]   [False]\n",
      "[Train 105]    [17:30:00]            [17:31:01]         [18:01:26]      [0:01:01]   [False]\n",
      "[Train 106]    [17:36:00]            [17:37:39]         [18:07:39]      [0:01:39]   [False]\n",
      "[Train 107]    [17:42:00]            [17:44:12]         [18:14:12]      [0:02:12]   [False]\n",
      "[Train 108]    [17:48:00]            [17:48:46]         [18:18:58]      [0:00:46]   [False]\n",
      "[Train 109]    [17:54:00]            [17:56:59]         [18:26:59]      [0:02:59]   [False]\n",
      "[Train 110]    [18:00:00]            [18:01:30]         [18:31:43]      [0:01:30]   [False]\n",
      "[Train 111]    [18:06:00]            [18:08:17]         [18:38:17]      [0:02:17]   [False]\n",
      "[Train 112]    [18:12:00]            [18:12:50]         [18:43:02]      [0:00:50]   [False]\n",
      "[Train 113]    [18:18:00]            [18:19:02]         [18:49:02]      [0:01:02]   [False]\n",
      "[Train 114]    [18:24:00]            [18:25:50]         [18:55:50]      [0:01:50]   [False]\n",
      "[Train 115]    [18:30:00]            [18:32:02]         [19:02:02]      [0:02:02]   [False]\n",
      "[Train 116]    [18:36:00]            [18:37:40]         [19:07:50]      [0:01:40]   [False]\n",
      "[Train 117]    [18:42:00]            [18:43:29]         [19:13:29]      [0:01:29]   [False]\n",
      "[Train 118]    [18:48:00]            [18:49:44]         [19:19:44]      [0:01:44]   [False]\n",
      "[Train 119]    [18:54:00]            [18:56:22]         [19:26:22]      [0:02:22]   [False]\n",
      "[Train 120]    [19:00:00]            [19:01:19]         [19:31:57]      [0:01:19]   [False]\n",
      "[Train 121]    [19:06:00]            [19:06:34]         [19:36:45]      [0:00:34]   [False]\n",
      "[Train 122]    [19:12:00]            [19:12:35]         [19:42:35]      [0:00:35]   [False]\n",
      "[Train 123]    [19:18:00]            [19:18:55]         [19:48:55]      [0:00:55]   [False]\n",
      "[Train 124]    [19:24:00]            [19:25:30]         [19:55:30]      [0:01:30]   [False]\n",
      "[Train 125]    [19:30:00]            [19:31:23]         [20:01:23]      [0:01:23]   [False]\n",
      "[Train 126]    [19:36:00]            [19:37:39]         [20:07:39]      [0:01:39]   [False]\n",
      "[Train 127]    [19:42:00]            [19:43:17]         [20:13:27]      [0:01:17]   [False]\n",
      "[Train 128]    [19:48:00]            [19:49:30]         [20:19:30]      [0:01:30]   [False]\n",
      "[Train 129]    [19:54:00]            [19:55:42]         [20:25:42]      [0:01:42]   [False]\n",
      "[Train 130]    [20:00:00]            [20:01:15]         [20:31:16]      [0:01:15]   [False]\n",
      "[Train 131]    [20:06:00]            [20:07:17]         [20:37:17]      [0:01:17]   [False]\n",
      "[Train 132]    [20:12:00]            [20:13:44]         [20:43:44]      [0:01:44]   [False]\n",
      "[Train 133]    [20:18:00]            [20:18:37]         [20:48:59]      [0:00:37]   [False]\n",
      "[Train 134]    [20:24:00]            [20:25:35]         [20:55:35]      [0:01:35]   [False]\n",
      "[Train 135]    [20:30:00]            [20:31:42]         [21:01:42]      [0:01:42]   [False]\n",
      "[Train 136]    [20:36:00]            [20:37:19]         [21:07:50]      [0:01:19]   [False]\n",
      "[Train 137]    [20:42:00]            [20:42:41]         [21:12:48]      [0:00:41]   [False]\n",
      "[Train 138]    [20:48:00]            [20:51:24]         [21:21:24]      [0:03:24]   [False]\n",
      "[Train 139]    [20:54:00]            [20:55:19]         [21:26:02]      [0:01:19]   [False]\n",
      "[Train 140]    [21:00:00]            [21:02:10]         [21:32:10]      [0:02:10]   [False]\n",
      "[Train 141]    [21:06:00]            [21:07:42]         [21:37:43]      [0:01:42]   [False]\n",
      "[Train 142]    [21:12:00]            [21:14:52]         [21:44:52]      [0:02:52]   [False]\n",
      "[Train 143]    [21:18:00]            [21:19:39]         [21:49:47]      [0:01:39]   [False]\n",
      "[Train 144]    [21:24:00]            [21:24:37]         [21:54:44]      [0:00:37]   [False]\n",
      "[Train 145]    [21:30:00]            [21:32:34]         [22:02:34]      [0:02:34]   [False]\n",
      "[Train 146]    [21:36:00]            [21:37:16]         [22:07:25]      [0:01:16]   [False]\n",
      "[Train 147]    [21:42:00]            [21:43:14]         [22:13:14]      [0:01:14]   [False]\n",
      "[Train 148]    [21:48:00]            [21:49:33]         [22:19:33]      [0:01:33]   [False]\n",
      "[Train 149]    [21:54:00]            [21:55:04]         [22:25:05]      [0:01:04]   [False]\n",
      "[Train 150]    [22:00:00]            [22:00:50]         [22:30:50]      [0:00:50]   [False]\n"
     ]
    },
    {
     "data": {
      "text/plain": [
       "(5, 10, 15, 9337.248325286926)"
      ]
     },
     "execution_count": 82,
     "metadata": {},
     "output_type": "execute_result"
    }
   ],
   "source": [
    "hill_climbing(1,10,1,15, introduce_delays = False)\n"
   ]
  },
  {
   "cell_type": "markdown",
   "metadata": {},
   "source": [
    "## 11.2 Optimization with Random Delays\n",
    "\n",
    "\n",
    "\n",
    "<font color=red size=3> **Note: Running the hill climbing algorithm takes a significant amount of time.**</font>"
   ]
  },
  {
   "cell_type": "code",
   "execution_count": 85,
   "metadata": {
    "scrolled": false
   },
   "outputs": [
    {
     "name": "stdout",
     "output_type": "stream",
     "text": [
      "+------------------+\n",
      "|    Optimising    |\n",
      "+------------------+\n",
      " n  k   f(n, k)\n",
      " 8  4    71.749\n",
      "10  6  8300.787\n",
      "10  8  9071.464\n",
      "10 10  9260.506\n",
      "10 12  9297.952\n",
      "10 14  9322.979\n",
      "10 15  9334.325\n",
      "/\n",
      "\n",
      "\n",
      "Plotting Hill Climbing:\n"
     ]
    },
    {
     "data": {
      "application/vnd.jupyter.widget-view+json": {
       "model_id": "030098bd9a5c4e99831f8a31667d30ac",
       "version_major": 2,
       "version_minor": 0
      },
      "text/plain": [
       "HBox(children=(IntProgress(value=0, max=150), HTML(value='')))"
      ]
     },
     "metadata": {},
     "output_type": "display_data"
    },
    {
     "name": "stdout",
     "output_type": "stream",
     "text": [
      "\n"
     ]
    },
    {
     "data": {
      "application/javascript": [
       "/* Put everything inside the global mpl namespace */\n",
       "window.mpl = {};\n",
       "\n",
       "\n",
       "mpl.get_websocket_type = function() {\n",
       "    if (typeof(WebSocket) !== 'undefined') {\n",
       "        return WebSocket;\n",
       "    } else if (typeof(MozWebSocket) !== 'undefined') {\n",
       "        return MozWebSocket;\n",
       "    } else {\n",
       "        alert('Your browser does not have WebSocket support. ' +\n",
       "              'Please try Chrome, Safari or Firefox ≥ 6. ' +\n",
       "              'Firefox 4 and 5 are also supported but you ' +\n",
       "              'have to enable WebSockets in about:config.');\n",
       "    };\n",
       "}\n",
       "\n",
       "mpl.figure = function(figure_id, websocket, ondownload, parent_element) {\n",
       "    this.id = figure_id;\n",
       "\n",
       "    this.ws = websocket;\n",
       "\n",
       "    this.supports_binary = (this.ws.binaryType != undefined);\n",
       "\n",
       "    if (!this.supports_binary) {\n",
       "        var warnings = document.getElementById(\"mpl-warnings\");\n",
       "        if (warnings) {\n",
       "            warnings.style.display = 'block';\n",
       "            warnings.textContent = (\n",
       "                \"This browser does not support binary websocket messages. \" +\n",
       "                    \"Performance may be slow.\");\n",
       "        }\n",
       "    }\n",
       "\n",
       "    this.imageObj = new Image();\n",
       "\n",
       "    this.context = undefined;\n",
       "    this.message = undefined;\n",
       "    this.canvas = undefined;\n",
       "    this.rubberband_canvas = undefined;\n",
       "    this.rubberband_context = undefined;\n",
       "    this.format_dropdown = undefined;\n",
       "\n",
       "    this.image_mode = 'full';\n",
       "\n",
       "    this.root = $('<div/>');\n",
       "    this._root_extra_style(this.root)\n",
       "    this.root.attr('style', 'display: inline-block');\n",
       "\n",
       "    $(parent_element).append(this.root);\n",
       "\n",
       "    this._init_header(this);\n",
       "    this._init_canvas(this);\n",
       "    this._init_toolbar(this);\n",
       "\n",
       "    var fig = this;\n",
       "\n",
       "    this.waiting = false;\n",
       "\n",
       "    this.ws.onopen =  function () {\n",
       "            fig.send_message(\"supports_binary\", {value: fig.supports_binary});\n",
       "            fig.send_message(\"send_image_mode\", {});\n",
       "            if (mpl.ratio != 1) {\n",
       "                fig.send_message(\"set_dpi_ratio\", {'dpi_ratio': mpl.ratio});\n",
       "            }\n",
       "            fig.send_message(\"refresh\", {});\n",
       "        }\n",
       "\n",
       "    this.imageObj.onload = function() {\n",
       "            if (fig.image_mode == 'full') {\n",
       "                // Full images could contain transparency (where diff images\n",
       "                // almost always do), so we need to clear the canvas so that\n",
       "                // there is no ghosting.\n",
       "                fig.context.clearRect(0, 0, fig.canvas.width, fig.canvas.height);\n",
       "            }\n",
       "            fig.context.drawImage(fig.imageObj, 0, 0);\n",
       "        };\n",
       "\n",
       "    this.imageObj.onunload = function() {\n",
       "        fig.ws.close();\n",
       "    }\n",
       "\n",
       "    this.ws.onmessage = this._make_on_message_function(this);\n",
       "\n",
       "    this.ondownload = ondownload;\n",
       "}\n",
       "\n",
       "mpl.figure.prototype._init_header = function() {\n",
       "    var titlebar = $(\n",
       "        '<div class=\"ui-dialog-titlebar ui-widget-header ui-corner-all ' +\n",
       "        'ui-helper-clearfix\"/>');\n",
       "    var titletext = $(\n",
       "        '<div class=\"ui-dialog-title\" style=\"width: 100%; ' +\n",
       "        'text-align: center; padding: 3px;\"/>');\n",
       "    titlebar.append(titletext)\n",
       "    this.root.append(titlebar);\n",
       "    this.header = titletext[0];\n",
       "}\n",
       "\n",
       "\n",
       "\n",
       "mpl.figure.prototype._canvas_extra_style = function(canvas_div) {\n",
       "\n",
       "}\n",
       "\n",
       "\n",
       "mpl.figure.prototype._root_extra_style = function(canvas_div) {\n",
       "\n",
       "}\n",
       "\n",
       "mpl.figure.prototype._init_canvas = function() {\n",
       "    var fig = this;\n",
       "\n",
       "    var canvas_div = $('<div/>');\n",
       "\n",
       "    canvas_div.attr('style', 'position: relative; clear: both; outline: 0');\n",
       "\n",
       "    function canvas_keyboard_event(event) {\n",
       "        return fig.key_event(event, event['data']);\n",
       "    }\n",
       "\n",
       "    canvas_div.keydown('key_press', canvas_keyboard_event);\n",
       "    canvas_div.keyup('key_release', canvas_keyboard_event);\n",
       "    this.canvas_div = canvas_div\n",
       "    this._canvas_extra_style(canvas_div)\n",
       "    this.root.append(canvas_div);\n",
       "\n",
       "    var canvas = $('<canvas/>');\n",
       "    canvas.addClass('mpl-canvas');\n",
       "    canvas.attr('style', \"left: 0; top: 0; z-index: 0; outline: 0\")\n",
       "\n",
       "    this.canvas = canvas[0];\n",
       "    this.context = canvas[0].getContext(\"2d\");\n",
       "\n",
       "    var backingStore = this.context.backingStorePixelRatio ||\n",
       "\tthis.context.webkitBackingStorePixelRatio ||\n",
       "\tthis.context.mozBackingStorePixelRatio ||\n",
       "\tthis.context.msBackingStorePixelRatio ||\n",
       "\tthis.context.oBackingStorePixelRatio ||\n",
       "\tthis.context.backingStorePixelRatio || 1;\n",
       "\n",
       "    mpl.ratio = (window.devicePixelRatio || 1) / backingStore;\n",
       "\n",
       "    var rubberband = $('<canvas/>');\n",
       "    rubberband.attr('style', \"position: absolute; left: 0; top: 0; z-index: 1;\")\n",
       "\n",
       "    var pass_mouse_events = true;\n",
       "\n",
       "    canvas_div.resizable({\n",
       "        start: function(event, ui) {\n",
       "            pass_mouse_events = false;\n",
       "        },\n",
       "        resize: function(event, ui) {\n",
       "            fig.request_resize(ui.size.width, ui.size.height);\n",
       "        },\n",
       "        stop: function(event, ui) {\n",
       "            pass_mouse_events = true;\n",
       "            fig.request_resize(ui.size.width, ui.size.height);\n",
       "        },\n",
       "    });\n",
       "\n",
       "    function mouse_event_fn(event) {\n",
       "        if (pass_mouse_events)\n",
       "            return fig.mouse_event(event, event['data']);\n",
       "    }\n",
       "\n",
       "    rubberband.mousedown('button_press', mouse_event_fn);\n",
       "    rubberband.mouseup('button_release', mouse_event_fn);\n",
       "    // Throttle sequential mouse events to 1 every 20ms.\n",
       "    rubberband.mousemove('motion_notify', mouse_event_fn);\n",
       "\n",
       "    rubberband.mouseenter('figure_enter', mouse_event_fn);\n",
       "    rubberband.mouseleave('figure_leave', mouse_event_fn);\n",
       "\n",
       "    canvas_div.on(\"wheel\", function (event) {\n",
       "        event = event.originalEvent;\n",
       "        event['data'] = 'scroll'\n",
       "        if (event.deltaY < 0) {\n",
       "            event.step = 1;\n",
       "        } else {\n",
       "            event.step = -1;\n",
       "        }\n",
       "        mouse_event_fn(event);\n",
       "    });\n",
       "\n",
       "    canvas_div.append(canvas);\n",
       "    canvas_div.append(rubberband);\n",
       "\n",
       "    this.rubberband = rubberband;\n",
       "    this.rubberband_canvas = rubberband[0];\n",
       "    this.rubberband_context = rubberband[0].getContext(\"2d\");\n",
       "    this.rubberband_context.strokeStyle = \"#000000\";\n",
       "\n",
       "    this._resize_canvas = function(width, height) {\n",
       "        // Keep the size of the canvas, canvas container, and rubber band\n",
       "        // canvas in synch.\n",
       "        canvas_div.css('width', width)\n",
       "        canvas_div.css('height', height)\n",
       "\n",
       "        canvas.attr('width', width * mpl.ratio);\n",
       "        canvas.attr('height', height * mpl.ratio);\n",
       "        canvas.attr('style', 'width: ' + width + 'px; height: ' + height + 'px;');\n",
       "\n",
       "        rubberband.attr('width', width);\n",
       "        rubberband.attr('height', height);\n",
       "    }\n",
       "\n",
       "    // Set the figure to an initial 600x600px, this will subsequently be updated\n",
       "    // upon first draw.\n",
       "    this._resize_canvas(600, 600);\n",
       "\n",
       "    // Disable right mouse context menu.\n",
       "    $(this.rubberband_canvas).bind(\"contextmenu\",function(e){\n",
       "        return false;\n",
       "    });\n",
       "\n",
       "    function set_focus () {\n",
       "        canvas.focus();\n",
       "        canvas_div.focus();\n",
       "    }\n",
       "\n",
       "    window.setTimeout(set_focus, 100);\n",
       "}\n",
       "\n",
       "mpl.figure.prototype._init_toolbar = function() {\n",
       "    var fig = this;\n",
       "\n",
       "    var nav_element = $('<div/>');\n",
       "    nav_element.attr('style', 'width: 100%');\n",
       "    this.root.append(nav_element);\n",
       "\n",
       "    // Define a callback function for later on.\n",
       "    function toolbar_event(event) {\n",
       "        return fig.toolbar_button_onclick(event['data']);\n",
       "    }\n",
       "    function toolbar_mouse_event(event) {\n",
       "        return fig.toolbar_button_onmouseover(event['data']);\n",
       "    }\n",
       "\n",
       "    for(var toolbar_ind in mpl.toolbar_items) {\n",
       "        var name = mpl.toolbar_items[toolbar_ind][0];\n",
       "        var tooltip = mpl.toolbar_items[toolbar_ind][1];\n",
       "        var image = mpl.toolbar_items[toolbar_ind][2];\n",
       "        var method_name = mpl.toolbar_items[toolbar_ind][3];\n",
       "\n",
       "        if (!name) {\n",
       "            // put a spacer in here.\n",
       "            continue;\n",
       "        }\n",
       "        var button = $('<button/>');\n",
       "        button.addClass('ui-button ui-widget ui-state-default ui-corner-all ' +\n",
       "                        'ui-button-icon-only');\n",
       "        button.attr('role', 'button');\n",
       "        button.attr('aria-disabled', 'false');\n",
       "        button.click(method_name, toolbar_event);\n",
       "        button.mouseover(tooltip, toolbar_mouse_event);\n",
       "\n",
       "        var icon_img = $('<span/>');\n",
       "        icon_img.addClass('ui-button-icon-primary ui-icon');\n",
       "        icon_img.addClass(image);\n",
       "        icon_img.addClass('ui-corner-all');\n",
       "\n",
       "        var tooltip_span = $('<span/>');\n",
       "        tooltip_span.addClass('ui-button-text');\n",
       "        tooltip_span.html(tooltip);\n",
       "\n",
       "        button.append(icon_img);\n",
       "        button.append(tooltip_span);\n",
       "\n",
       "        nav_element.append(button);\n",
       "    }\n",
       "\n",
       "    var fmt_picker_span = $('<span/>');\n",
       "\n",
       "    var fmt_picker = $('<select/>');\n",
       "    fmt_picker.addClass('mpl-toolbar-option ui-widget ui-widget-content');\n",
       "    fmt_picker_span.append(fmt_picker);\n",
       "    nav_element.append(fmt_picker_span);\n",
       "    this.format_dropdown = fmt_picker[0];\n",
       "\n",
       "    for (var ind in mpl.extensions) {\n",
       "        var fmt = mpl.extensions[ind];\n",
       "        var option = $(\n",
       "            '<option/>', {selected: fmt === mpl.default_extension}).html(fmt);\n",
       "        fmt_picker.append(option);\n",
       "    }\n",
       "\n",
       "    // Add hover states to the ui-buttons\n",
       "    $( \".ui-button\" ).hover(\n",
       "        function() { $(this).addClass(\"ui-state-hover\");},\n",
       "        function() { $(this).removeClass(\"ui-state-hover\");}\n",
       "    );\n",
       "\n",
       "    var status_bar = $('<span class=\"mpl-message\"/>');\n",
       "    nav_element.append(status_bar);\n",
       "    this.message = status_bar[0];\n",
       "}\n",
       "\n",
       "mpl.figure.prototype.request_resize = function(x_pixels, y_pixels) {\n",
       "    // Request matplotlib to resize the figure. Matplotlib will then trigger a resize in the client,\n",
       "    // which will in turn request a refresh of the image.\n",
       "    this.send_message('resize', {'width': x_pixels, 'height': y_pixels});\n",
       "}\n",
       "\n",
       "mpl.figure.prototype.send_message = function(type, properties) {\n",
       "    properties['type'] = type;\n",
       "    properties['figure_id'] = this.id;\n",
       "    this.ws.send(JSON.stringify(properties));\n",
       "}\n",
       "\n",
       "mpl.figure.prototype.send_draw_message = function() {\n",
       "    if (!this.waiting) {\n",
       "        this.waiting = true;\n",
       "        this.ws.send(JSON.stringify({type: \"draw\", figure_id: this.id}));\n",
       "    }\n",
       "}\n",
       "\n",
       "\n",
       "mpl.figure.prototype.handle_save = function(fig, msg) {\n",
       "    var format_dropdown = fig.format_dropdown;\n",
       "    var format = format_dropdown.options[format_dropdown.selectedIndex].value;\n",
       "    fig.ondownload(fig, format);\n",
       "}\n",
       "\n",
       "\n",
       "mpl.figure.prototype.handle_resize = function(fig, msg) {\n",
       "    var size = msg['size'];\n",
       "    if (size[0] != fig.canvas.width || size[1] != fig.canvas.height) {\n",
       "        fig._resize_canvas(size[0], size[1]);\n",
       "        fig.send_message(\"refresh\", {});\n",
       "    };\n",
       "}\n",
       "\n",
       "mpl.figure.prototype.handle_rubberband = function(fig, msg) {\n",
       "    var x0 = msg['x0'] / mpl.ratio;\n",
       "    var y0 = (fig.canvas.height - msg['y0']) / mpl.ratio;\n",
       "    var x1 = msg['x1'] / mpl.ratio;\n",
       "    var y1 = (fig.canvas.height - msg['y1']) / mpl.ratio;\n",
       "    x0 = Math.floor(x0) + 0.5;\n",
       "    y0 = Math.floor(y0) + 0.5;\n",
       "    x1 = Math.floor(x1) + 0.5;\n",
       "    y1 = Math.floor(y1) + 0.5;\n",
       "    var min_x = Math.min(x0, x1);\n",
       "    var min_y = Math.min(y0, y1);\n",
       "    var width = Math.abs(x1 - x0);\n",
       "    var height = Math.abs(y1 - y0);\n",
       "\n",
       "    fig.rubberband_context.clearRect(\n",
       "        0, 0, fig.canvas.width / mpl.ratio, fig.canvas.height / mpl.ratio);\n",
       "\n",
       "    fig.rubberband_context.strokeRect(min_x, min_y, width, height);\n",
       "}\n",
       "\n",
       "mpl.figure.prototype.handle_figure_label = function(fig, msg) {\n",
       "    // Updates the figure title.\n",
       "    fig.header.textContent = msg['label'];\n",
       "}\n",
       "\n",
       "mpl.figure.prototype.handle_cursor = function(fig, msg) {\n",
       "    var cursor = msg['cursor'];\n",
       "    switch(cursor)\n",
       "    {\n",
       "    case 0:\n",
       "        cursor = 'pointer';\n",
       "        break;\n",
       "    case 1:\n",
       "        cursor = 'default';\n",
       "        break;\n",
       "    case 2:\n",
       "        cursor = 'crosshair';\n",
       "        break;\n",
       "    case 3:\n",
       "        cursor = 'move';\n",
       "        break;\n",
       "    }\n",
       "    fig.rubberband_canvas.style.cursor = cursor;\n",
       "}\n",
       "\n",
       "mpl.figure.prototype.handle_message = function(fig, msg) {\n",
       "    fig.message.textContent = msg['message'];\n",
       "}\n",
       "\n",
       "mpl.figure.prototype.handle_draw = function(fig, msg) {\n",
       "    // Request the server to send over a new figure.\n",
       "    fig.send_draw_message();\n",
       "}\n",
       "\n",
       "mpl.figure.prototype.handle_image_mode = function(fig, msg) {\n",
       "    fig.image_mode = msg['mode'];\n",
       "}\n",
       "\n",
       "mpl.figure.prototype.updated_canvas_event = function() {\n",
       "    // Called whenever the canvas gets updated.\n",
       "    this.send_message(\"ack\", {});\n",
       "}\n",
       "\n",
       "// A function to construct a web socket function for onmessage handling.\n",
       "// Called in the figure constructor.\n",
       "mpl.figure.prototype._make_on_message_function = function(fig) {\n",
       "    return function socket_on_message(evt) {\n",
       "        if (evt.data instanceof Blob) {\n",
       "            /* FIXME: We get \"Resource interpreted as Image but\n",
       "             * transferred with MIME type text/plain:\" errors on\n",
       "             * Chrome.  But how to set the MIME type?  It doesn't seem\n",
       "             * to be part of the websocket stream */\n",
       "            evt.data.type = \"image/png\";\n",
       "\n",
       "            /* Free the memory for the previous frames */\n",
       "            if (fig.imageObj.src) {\n",
       "                (window.URL || window.webkitURL).revokeObjectURL(\n",
       "                    fig.imageObj.src);\n",
       "            }\n",
       "\n",
       "            fig.imageObj.src = (window.URL || window.webkitURL).createObjectURL(\n",
       "                evt.data);\n",
       "            fig.updated_canvas_event();\n",
       "            fig.waiting = false;\n",
       "            return;\n",
       "        }\n",
       "        else if (typeof evt.data === 'string' && evt.data.slice(0, 21) == \"data:image/png;base64\") {\n",
       "            fig.imageObj.src = evt.data;\n",
       "            fig.updated_canvas_event();\n",
       "            fig.waiting = false;\n",
       "            return;\n",
       "        }\n",
       "\n",
       "        var msg = JSON.parse(evt.data);\n",
       "        var msg_type = msg['type'];\n",
       "\n",
       "        // Call the  \"handle_{type}\" callback, which takes\n",
       "        // the figure and JSON message as its only arguments.\n",
       "        try {\n",
       "            var callback = fig[\"handle_\" + msg_type];\n",
       "        } catch (e) {\n",
       "            console.log(\"No handler for the '\" + msg_type + \"' message type: \", msg);\n",
       "            return;\n",
       "        }\n",
       "\n",
       "        if (callback) {\n",
       "            try {\n",
       "                // console.log(\"Handling '\" + msg_type + \"' message: \", msg);\n",
       "                callback(fig, msg);\n",
       "            } catch (e) {\n",
       "                console.log(\"Exception inside the 'handler_\" + msg_type + \"' callback:\", e, e.stack, msg);\n",
       "            }\n",
       "        }\n",
       "    };\n",
       "}\n",
       "\n",
       "// from http://stackoverflow.com/questions/1114465/getting-mouse-location-in-canvas\n",
       "mpl.findpos = function(e) {\n",
       "    //this section is from http://www.quirksmode.org/js/events_properties.html\n",
       "    var targ;\n",
       "    if (!e)\n",
       "        e = window.event;\n",
       "    if (e.target)\n",
       "        targ = e.target;\n",
       "    else if (e.srcElement)\n",
       "        targ = e.srcElement;\n",
       "    if (targ.nodeType == 3) // defeat Safari bug\n",
       "        targ = targ.parentNode;\n",
       "\n",
       "    // jQuery normalizes the pageX and pageY\n",
       "    // pageX,Y are the mouse positions relative to the document\n",
       "    // offset() returns the position of the element relative to the document\n",
       "    var x = e.pageX - $(targ).offset().left;\n",
       "    var y = e.pageY - $(targ).offset().top;\n",
       "\n",
       "    return {\"x\": x, \"y\": y};\n",
       "};\n",
       "\n",
       "/*\n",
       " * return a copy of an object with only non-object keys\n",
       " * we need this to avoid circular references\n",
       " * http://stackoverflow.com/a/24161582/3208463\n",
       " */\n",
       "function simpleKeys (original) {\n",
       "  return Object.keys(original).reduce(function (obj, key) {\n",
       "    if (typeof original[key] !== 'object')\n",
       "        obj[key] = original[key]\n",
       "    return obj;\n",
       "  }, {});\n",
       "}\n",
       "\n",
       "mpl.figure.prototype.mouse_event = function(event, name) {\n",
       "    var canvas_pos = mpl.findpos(event)\n",
       "\n",
       "    if (name === 'button_press')\n",
       "    {\n",
       "        this.canvas.focus();\n",
       "        this.canvas_div.focus();\n",
       "    }\n",
       "\n",
       "    var x = canvas_pos.x * mpl.ratio;\n",
       "    var y = canvas_pos.y * mpl.ratio;\n",
       "\n",
       "    this.send_message(name, {x: x, y: y, button: event.button,\n",
       "                             step: event.step,\n",
       "                             guiEvent: simpleKeys(event)});\n",
       "\n",
       "    /* This prevents the web browser from automatically changing to\n",
       "     * the text insertion cursor when the button is pressed.  We want\n",
       "     * to control all of the cursor setting manually through the\n",
       "     * 'cursor' event from matplotlib */\n",
       "    event.preventDefault();\n",
       "    return false;\n",
       "}\n",
       "\n",
       "mpl.figure.prototype._key_event_extra = function(event, name) {\n",
       "    // Handle any extra behaviour associated with a key event\n",
       "}\n",
       "\n",
       "mpl.figure.prototype.key_event = function(event, name) {\n",
       "\n",
       "    // Prevent repeat events\n",
       "    if (name == 'key_press')\n",
       "    {\n",
       "        if (event.which === this._key)\n",
       "            return;\n",
       "        else\n",
       "            this._key = event.which;\n",
       "    }\n",
       "    if (name == 'key_release')\n",
       "        this._key = null;\n",
       "\n",
       "    var value = '';\n",
       "    if (event.ctrlKey && event.which != 17)\n",
       "        value += \"ctrl+\";\n",
       "    if (event.altKey && event.which != 18)\n",
       "        value += \"alt+\";\n",
       "    if (event.shiftKey && event.which != 16)\n",
       "        value += \"shift+\";\n",
       "\n",
       "    value += 'k';\n",
       "    value += event.which.toString();\n",
       "\n",
       "    this._key_event_extra(event, name);\n",
       "\n",
       "    this.send_message(name, {key: value,\n",
       "                             guiEvent: simpleKeys(event)});\n",
       "    return false;\n",
       "}\n",
       "\n",
       "mpl.figure.prototype.toolbar_button_onclick = function(name) {\n",
       "    if (name == 'download') {\n",
       "        this.handle_save(this, null);\n",
       "    } else {\n",
       "        this.send_message(\"toolbar_button\", {name: name});\n",
       "    }\n",
       "};\n",
       "\n",
       "mpl.figure.prototype.toolbar_button_onmouseover = function(tooltip) {\n",
       "    this.message.textContent = tooltip;\n",
       "};\n",
       "mpl.toolbar_items = [[\"Home\", \"Reset original view\", \"fa fa-home icon-home\", \"home\"], [\"Back\", \"Back to previous view\", \"fa fa-arrow-left icon-arrow-left\", \"back\"], [\"Forward\", \"Forward to next view\", \"fa fa-arrow-right icon-arrow-right\", \"forward\"], [\"\", \"\", \"\", \"\"], [\"Pan\", \"Pan axes with left mouse, zoom with right\", \"fa fa-arrows icon-move\", \"pan\"], [\"Zoom\", \"Zoom to rectangle\", \"fa fa-square-o icon-check-empty\", \"zoom\"], [\"\", \"\", \"\", \"\"], [\"Download\", \"Download plot\", \"fa fa-floppy-o icon-save\", \"download\"]];\n",
       "\n",
       "mpl.extensions = [\"eps\", \"jpeg\", \"pdf\", \"png\", \"ps\", \"raw\", \"svg\", \"tif\"];\n",
       "\n",
       "mpl.default_extension = \"png\";var comm_websocket_adapter = function(comm) {\n",
       "    // Create a \"websocket\"-like object which calls the given IPython comm\n",
       "    // object with the appropriate methods. Currently this is a non binary\n",
       "    // socket, so there is still some room for performance tuning.\n",
       "    var ws = {};\n",
       "\n",
       "    ws.close = function() {\n",
       "        comm.close()\n",
       "    };\n",
       "    ws.send = function(m) {\n",
       "        //console.log('sending', m);\n",
       "        comm.send(m);\n",
       "    };\n",
       "    // Register the callback with on_msg.\n",
       "    comm.on_msg(function(msg) {\n",
       "        //console.log('receiving', msg['content']['data'], msg);\n",
       "        // Pass the mpl event to the overridden (by mpl) onmessage function.\n",
       "        ws.onmessage(msg['content']['data'])\n",
       "    });\n",
       "    return ws;\n",
       "}\n",
       "\n",
       "mpl.mpl_figure_comm = function(comm, msg) {\n",
       "    // This is the function which gets called when the mpl process\n",
       "    // starts-up an IPython Comm through the \"matplotlib\" channel.\n",
       "\n",
       "    var id = msg.content.data.id;\n",
       "    // Get hold of the div created by the display call when the Comm\n",
       "    // socket was opened in Python.\n",
       "    var element = $(\"#\" + id);\n",
       "    var ws_proxy = comm_websocket_adapter(comm)\n",
       "\n",
       "    function ondownload(figure, format) {\n",
       "        window.open(figure.imageObj.src);\n",
       "    }\n",
       "\n",
       "    var fig = new mpl.figure(id, ws_proxy,\n",
       "                           ondownload,\n",
       "                           element.get(0));\n",
       "\n",
       "    // Call onopen now - mpl needs it, as it is assuming we've passed it a real\n",
       "    // web socket which is closed, not our websocket->open comm proxy.\n",
       "    ws_proxy.onopen();\n",
       "\n",
       "    fig.parent_element = element.get(0);\n",
       "    fig.cell_info = mpl.find_output_cell(\"<div id='\" + id + \"'></div>\");\n",
       "    if (!fig.cell_info) {\n",
       "        console.error(\"Failed to find cell for figure\", id, fig);\n",
       "        return;\n",
       "    }\n",
       "\n",
       "    var output_index = fig.cell_info[2]\n",
       "    var cell = fig.cell_info[0];\n",
       "\n",
       "};\n",
       "\n",
       "mpl.figure.prototype.handle_close = function(fig, msg) {\n",
       "    var width = fig.canvas.width/mpl.ratio\n",
       "    fig.root.unbind('remove')\n",
       "\n",
       "    // Update the output cell to use the data from the current canvas.\n",
       "    fig.push_to_output();\n",
       "    var dataURL = fig.canvas.toDataURL();\n",
       "    // Re-enable the keyboard manager in IPython - without this line, in FF,\n",
       "    // the notebook keyboard shortcuts fail.\n",
       "    IPython.keyboard_manager.enable()\n",
       "    $(fig.parent_element).html('<img src=\"' + dataURL + '\" width=\"' + width + '\">');\n",
       "    fig.close_ws(fig, msg);\n",
       "}\n",
       "\n",
       "mpl.figure.prototype.close_ws = function(fig, msg){\n",
       "    fig.send_message('closing', msg);\n",
       "    // fig.ws.close()\n",
       "}\n",
       "\n",
       "mpl.figure.prototype.push_to_output = function(remove_interactive) {\n",
       "    // Turn the data on the canvas into data in the output cell.\n",
       "    var width = this.canvas.width/mpl.ratio\n",
       "    var dataURL = this.canvas.toDataURL();\n",
       "    this.cell_info[1]['text/html'] = '<img src=\"' + dataURL + '\" width=\"' + width + '\">';\n",
       "}\n",
       "\n",
       "mpl.figure.prototype.updated_canvas_event = function() {\n",
       "    // Tell IPython that the notebook contents must change.\n",
       "    IPython.notebook.set_dirty(true);\n",
       "    this.send_message(\"ack\", {});\n",
       "    var fig = this;\n",
       "    // Wait a second, then push the new image to the DOM so\n",
       "    // that it is saved nicely (might be nice to debounce this).\n",
       "    setTimeout(function () { fig.push_to_output() }, 1000);\n",
       "}\n",
       "\n",
       "mpl.figure.prototype._init_toolbar = function() {\n",
       "    var fig = this;\n",
       "\n",
       "    var nav_element = $('<div/>');\n",
       "    nav_element.attr('style', 'width: 100%');\n",
       "    this.root.append(nav_element);\n",
       "\n",
       "    // Define a callback function for later on.\n",
       "    function toolbar_event(event) {\n",
       "        return fig.toolbar_button_onclick(event['data']);\n",
       "    }\n",
       "    function toolbar_mouse_event(event) {\n",
       "        return fig.toolbar_button_onmouseover(event['data']);\n",
       "    }\n",
       "\n",
       "    for(var toolbar_ind in mpl.toolbar_items){\n",
       "        var name = mpl.toolbar_items[toolbar_ind][0];\n",
       "        var tooltip = mpl.toolbar_items[toolbar_ind][1];\n",
       "        var image = mpl.toolbar_items[toolbar_ind][2];\n",
       "        var method_name = mpl.toolbar_items[toolbar_ind][3];\n",
       "\n",
       "        if (!name) { continue; };\n",
       "\n",
       "        var button = $('<button class=\"btn btn-default\" href=\"#\" title=\"' + name + '\"><i class=\"fa ' + image + ' fa-lg\"></i></button>');\n",
       "        button.click(method_name, toolbar_event);\n",
       "        button.mouseover(tooltip, toolbar_mouse_event);\n",
       "        nav_element.append(button);\n",
       "    }\n",
       "\n",
       "    // Add the status bar.\n",
       "    var status_bar = $('<span class=\"mpl-message\" style=\"text-align:right; float: right;\"/>');\n",
       "    nav_element.append(status_bar);\n",
       "    this.message = status_bar[0];\n",
       "\n",
       "    // Add the close button to the window.\n",
       "    var buttongrp = $('<div class=\"btn-group inline pull-right\"></div>');\n",
       "    var button = $('<button class=\"btn btn-mini btn-primary\" href=\"#\" title=\"Stop Interaction\"><i class=\"fa fa-power-off icon-remove icon-large\"></i></button>');\n",
       "    button.click(function (evt) { fig.handle_close(fig, {}); } );\n",
       "    button.mouseover('Stop Interaction', toolbar_mouse_event);\n",
       "    buttongrp.append(button);\n",
       "    var titlebar = this.root.find($('.ui-dialog-titlebar'));\n",
       "    titlebar.prepend(buttongrp);\n",
       "}\n",
       "\n",
       "mpl.figure.prototype._root_extra_style = function(el){\n",
       "    var fig = this\n",
       "    el.on(\"remove\", function(){\n",
       "\tfig.close_ws(fig, {});\n",
       "    });\n",
       "}\n",
       "\n",
       "mpl.figure.prototype._canvas_extra_style = function(el){\n",
       "    // this is important to make the div 'focusable\n",
       "    el.attr('tabindex', 0)\n",
       "    // reach out to IPython and tell the keyboard manager to turn it's self\n",
       "    // off when our div gets focus\n",
       "\n",
       "    // location in version 3\n",
       "    if (IPython.notebook.keyboard_manager) {\n",
       "        IPython.notebook.keyboard_manager.register_events(el);\n",
       "    }\n",
       "    else {\n",
       "        // location in version 2\n",
       "        IPython.keyboard_manager.register_events(el);\n",
       "    }\n",
       "\n",
       "}\n",
       "\n",
       "mpl.figure.prototype._key_event_extra = function(event, name) {\n",
       "    var manager = IPython.notebook.keyboard_manager;\n",
       "    if (!manager)\n",
       "        manager = IPython.keyboard_manager;\n",
       "\n",
       "    // Check for shift+enter\n",
       "    if (event.shiftKey && event.which == 13) {\n",
       "        this.canvas_div.blur();\n",
       "        // select the cell after this one\n",
       "        var index = IPython.notebook.find_cell_index(this.cell_info[0]);\n",
       "        IPython.notebook.select(index + 1);\n",
       "    }\n",
       "}\n",
       "\n",
       "mpl.figure.prototype.handle_save = function(fig, msg) {\n",
       "    fig.ondownload(fig, null);\n",
       "}\n",
       "\n",
       "\n",
       "mpl.find_output_cell = function(html_output) {\n",
       "    // Return the cell and output element which can be found *uniquely* in the notebook.\n",
       "    // Note - this is a bit hacky, but it is done because the \"notebook_saving.Notebook\"\n",
       "    // IPython event is triggered only after the cells have been serialised, which for\n",
       "    // our purposes (turning an active figure into a static one), is too late.\n",
       "    var cells = IPython.notebook.get_cells();\n",
       "    var ncells = cells.length;\n",
       "    for (var i=0; i<ncells; i++) {\n",
       "        var cell = cells[i];\n",
       "        if (cell.cell_type === 'code'){\n",
       "            for (var j=0; j<cell.output_area.outputs.length; j++) {\n",
       "                var data = cell.output_area.outputs[j];\n",
       "                if (data.data) {\n",
       "                    // IPython >= 3 moved mimebundle to data attribute of output\n",
       "                    data = data.data;\n",
       "                }\n",
       "                if (data['text/html'] == html_output) {\n",
       "                    return [cell, data, j];\n",
       "                }\n",
       "            }\n",
       "        }\n",
       "    }\n",
       "}\n",
       "\n",
       "// Register the function which deals with the matplotlib target/channel.\n",
       "// The kernel may be null if the page has been refreshed.\n",
       "if (IPython.notebook.kernel != null) {\n",
       "    IPython.notebook.kernel.comm_manager.register_target('matplotlib', mpl.mpl_figure_comm);\n",
       "}\n"
      ],
      "text/plain": [
       "<IPython.core.display.Javascript object>"
      ]
     },
     "metadata": {},
     "output_type": "display_data"
    },
    {
     "data": {
      "text/html": [
       "<img src=\"data:image/png;base64,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\" width=\"800\">"
      ],
      "text/plain": [
       "<IPython.core.display.HTML object>"
      ]
     },
     "metadata": {},
     "output_type": "display_data"
    },
    {
     "name": "stdout",
     "output_type": "stream",
     "text": [
      "\n",
      "+------------------------+\n",
      "|    OPTIMAL SOLUTION    |\n",
      "+------------------------+\n",
      "\n",
      "Trains per hour: 10\n",
      "Signalling blocks: 15\n",
      "\n",
      "+--------------------------------------+\n",
      "|               DISRUPTIONS            |\n",
      "+--------------------------------------+\n",
      "    \n",
      "[#]  Vehicle Fault caused a 5040 seconds delay at 08:00:10 in block(s) [9] with a speed limit of 0 m/s.\n",
      "[#]  Dispatching and Control System Fault caused a 6840 seconds delay at 17:05:40 in block(s) [8] with a speed limit of 30 m/s.\n",
      "\n",
      "+------------------------+\n",
      "|   SIMULATION RESULTS   |\n",
      "+------------------------+\n",
      "        \n",
      "Average Delay:  89.43\n",
      "Average Speed:  75.04\n",
      "Percentage Trains Delayed:  0.00\n",
      "Average Travel Time:  2095.37  (0:34:55)\n",
      "Total Operational Delay:  39429.63\n",
      "Maximum Travel Time:  6804.00\n",
      "\n",
      "\n",
      "\n",
      "\n",
      "+------------------------+\n",
      "|    TRAIN TIME TABLE    |\n",
      "+------------------------+\n",
      "        \n",
      "----------------------------------------------------------------------------------------------\n",
      "[Train Number] [Scheduled Departure] [Actual Departure] [Arrival Time] [Total Delay] [Delayed]\n",
      "                     [London]                            [Birmingham]                           \n",
      "----------------------------------------------------------------------------------------------\n",
      "[Train 000]    [07:00:00]            [07:01:59]         [07:31:59]      [0:01:59]   [False]\n",
      "[Train 001]    [07:06:00]            [07:06:47]         [07:36:55]      [0:00:47]   [False]\n",
      "[Train 002]    [07:12:00]            [07:13:53]         [07:43:53]      [0:01:53]   [False]\n",
      "[Train 003]    [07:18:00]            [07:19:59]         [07:49:59]      [0:01:59]   [False]\n",
      "[Train 004]    [07:24:00]            [07:26:09]         [07:56:09]      [0:02:09]   [False]\n",
      "[Train 005]    [07:30:00]            [07:32:09]         [08:02:09]      [0:02:09]   [False]\n",
      "[Train 006]    [07:36:00]            [07:37:19]         [08:07:22]      [0:01:19]   [False]\n",
      "[Train 007]    [07:42:00]            [07:43:39]         [09:37:03]      [1:25:19]   [True]\n",
      "[Train 008]    [07:48:00]            [07:49:50]         [09:41:10]      [1:17:18]   [True]\n",
      "[Train 009]    [07:54:00]            [07:54:57]         [09:41:10]      [1:11:20]   [True]\n",
      "[Train 010]    [08:00:00]            [08:02:55]         [09:41:01]      [1:05:18]   [True]\n",
      "[Train 011]    [08:06:00]            [08:07:36]         [09:41:17]      [0:59:14]   [True]\n",
      "[Train 012]    [08:12:00]            [08:13:13]         [09:37:03]      [0:53:17]   [True]\n",
      "[Train 013]    [08:18:00]            [08:19:32]         [09:41:01]      [0:47:18]   [True]\n",
      "[Train 014]    [08:24:00]            [08:25:44]         [09:41:01]      [0:41:18]   [True]\n",
      "[Train 015]    [08:30:00]            [08:33:01]         [09:41:01]      [0:35:18]   [True]\n",
      "[Train 016]    [08:36:00]            [08:37:40]         [09:41:01]      [0:29:08]   [True]\n",
      "[Train 017]    [08:42:00]            [08:42:50]         [09:37:09]      [0:23:03]   [True]\n",
      "[Train 018]    [08:48:00]            [08:49:48]         [09:41:01]      [0:17:18]   [True]\n",
      "[Train 019]    [08:54:00]            [08:55:24]         [09:37:09]      [0:11:11]   [True]\n",
      "[Train 020]    [09:00:00]            [09:01:33]         [09:41:01]      [0:05:18]   [True]\n",
      "[Train 021]    [09:06:00]            [09:06:55]         [09:45:42]      [0:00:55]   [False]\n",
      "[Train 022]    [09:12:00]            [09:13:06]         [09:45:20]      [0:01:06]   [False]\n",
      "[Train 023]    [09:18:00]            [09:19:53]         [09:49:53]      [0:01:53]   [False]\n",
      "[Train 024]    [09:24:00]            [09:26:13]         [09:56:13]      [0:02:13]   [False]\n",
      "[Train 025]    [09:30:00]            [09:31:15]         [10:01:55]      [0:01:15]   [False]\n",
      "[Train 026]    [09:36:00]            [09:37:51]         [10:07:51]      [0:01:51]   [False]\n",
      "[Train 027]    [09:42:00]            [09:43:04]         [10:13:07]      [0:01:04]   [False]\n",
      "[Train 028]    [09:48:00]            [09:49:46]         [10:19:46]      [0:01:46]   [False]\n",
      "[Train 029]    [09:54:00]            [09:54:56]         [10:24:59]      [0:00:56]   [False]\n",
      "[Train 030]    [10:00:00]            [10:00:18]         [10:30:26]      [0:00:18]   [False]\n",
      "[Train 031]    [10:06:00]            [10:06:41]         [10:36:41]      [0:00:41]   [False]\n",
      "[Train 032]    [10:12:00]            [10:14:09]         [10:44:09]      [0:02:09]   [False]\n",
      "[Train 033]    [10:18:00]            [10:19:57]         [10:49:57]      [0:01:57]   [False]\n",
      "[Train 034]    [10:24:00]            [10:25:42]         [10:55:42]      [0:01:42]   [False]\n",
      "[Train 035]    [10:30:00]            [10:31:33]         [11:01:33]      [0:01:33]   [False]\n",
      "[Train 036]    [10:36:00]            [10:37:27]         [11:07:27]      [0:01:27]   [False]\n",
      "[Train 037]    [10:42:00]            [10:42:18]         [11:12:25]      [0:00:18]   [False]\n",
      "[Train 038]    [10:48:00]            [10:49:02]         [11:19:02]      [0:01:02]   [False]\n",
      "[Train 039]    [10:54:00]            [10:55:25]         [11:25:25]      [0:01:25]   [False]\n",
      "[Train 040]    [11:00:00]            [11:00:53]         [11:30:54]      [0:00:53]   [False]\n",
      "[Train 041]    [11:06:00]            [11:08:18]         [11:38:18]      [0:02:18]   [False]\n",
      "[Train 042]    [11:12:00]            [11:13:34]         [11:43:36]      [0:01:34]   [False]\n",
      "[Train 043]    [11:18:00]            [11:19:26]         [11:49:26]      [0:01:26]   [False]\n",
      "[Train 044]    [11:24:00]            [11:24:40]         [11:54:57]      [0:00:40]   [False]\n",
      "[Train 045]    [11:30:00]            [11:31:36]         [12:01:36]      [0:01:36]   [False]\n",
      "[Train 046]    [11:36:00]            [11:37:17]         [12:07:17]      [0:01:17]   [False]\n",
      "[Train 047]    [11:42:00]            [11:43:26]         [12:13:26]      [0:01:26]   [False]\n",
      "[Train 048]    [11:48:00]            [11:49:41]         [12:19:41]      [0:01:41]   [False]\n",
      "[Train 049]    [11:54:00]            [11:55:53]         [12:25:53]      [0:01:53]   [False]\n",
      "[Train 050]    [12:00:00]            [12:02:00]         [12:32:00]      [0:02:00]   [False]\n",
      "[Train 051]    [12:06:00]            [12:07:47]         [12:37:47]      [0:01:47]   [False]\n",
      "[Train 052]    [12:12:00]            [12:12:58]         [12:43:01]      [0:00:58]   [False]\n",
      "[Train 053]    [12:18:00]            [12:18:55]         [12:48:55]      [0:00:55]   [False]\n",
      "[Train 054]    [12:24:00]            [12:25:54]         [12:55:54]      [0:01:54]   [False]\n",
      "[Train 055]    [12:30:00]            [12:31:48]         [13:01:48]      [0:01:48]   [False]\n",
      "[Train 056]    [12:36:00]            [12:38:20]         [13:08:20]      [0:02:20]   [False]\n",
      "[Train 057]    [12:42:00]            [12:42:42]         [13:13:04]      [0:00:42]   [False]\n",
      "[Train 058]    [12:48:00]            [12:48:30]         [13:18:31]      [0:00:30]   [False]\n",
      "[Train 059]    [12:54:00]            [12:56:19]         [13:26:19]      [0:02:19]   [False]\n",
      "[Train 060]    [13:00:00]            [13:01:43]         [13:31:44]      [0:01:43]   [False]\n",
      "[Train 061]    [13:06:00]            [13:07:06]         [13:37:31]      [0:01:06]   [False]\n",
      "[Train 062]    [13:12:00]            [13:13:55]         [13:43:55]      [0:01:55]   [False]\n",
      "[Train 063]    [13:18:00]            [13:19:36]         [13:49:36]      [0:01:36]   [False]\n",
      "[Train 064]    [13:24:00]            [13:25:32]         [13:55:32]      [0:01:32]   [False]\n",
      "[Train 065]    [13:30:00]            [13:32:40]         [14:02:40]      [0:02:40]   [False]\n",
      "[Train 066]    [13:36:00]            [13:36:38]         [14:07:04]      [0:00:38]   [False]\n",
      "[Train 067]    [13:42:00]            [13:42:53]         [14:12:53]      [0:00:53]   [False]\n",
      "[Train 068]    [13:48:00]            [13:49:29]         [14:19:29]      [0:01:29]   [False]\n",
      "[Train 069]    [13:54:00]            [13:55:14]         [14:25:14]      [0:01:14]   [False]\n",
      "[Train 070]    [14:00:00]            [14:01:15]         [14:31:15]      [0:01:15]   [False]\n",
      "[Train 071]    [14:06:00]            [14:08:22]         [14:38:22]      [0:02:22]   [False]\n",
      "[Train 072]    [14:12:00]            [14:13:40]         [14:43:42]      [0:01:40]   [False]\n",
      "[Train 073]    [14:18:00]            [14:19:45]         [14:49:45]      [0:01:45]   [False]\n",
      "[Train 074]    [14:24:00]            [14:25:24]         [14:55:24]      [0:01:24]   [False]\n"
     ]
    },
    {
     "name": "stdout",
     "output_type": "stream",
     "text": [
      "[Train 075]    [14:30:00]            [14:30:43]         [15:00:51]      [0:00:43]   [False]\n",
      "[Train 076]    [14:36:00]            [14:37:22]         [15:07:22]      [0:01:22]   [False]\n",
      "[Train 077]    [14:42:00]            [14:43:13]         [15:13:13]      [0:01:13]   [False]\n",
      "[Train 078]    [14:48:00]            [14:49:44]         [15:19:44]      [0:01:44]   [False]\n",
      "[Train 079]    [14:54:00]            [14:54:45]         [15:24:50]      [0:00:45]   [False]\n",
      "[Train 080]    [15:00:00]            [15:01:10]         [15:31:10]      [0:01:10]   [False]\n",
      "[Train 081]    [15:06:00]            [15:07:27]         [15:37:27]      [0:01:27]   [False]\n",
      "[Train 082]    [15:12:00]            [15:13:57]         [15:43:57]      [0:01:57]   [False]\n",
      "[Train 083]    [15:18:00]            [15:18:25]         [15:48:39]      [0:00:25]   [False]\n",
      "[Train 084]    [15:24:00]            [15:25:32]         [15:55:32]      [0:01:32]   [False]\n",
      "[Train 085]    [15:30:00]            [15:31:42]         [16:01:42]      [0:01:42]   [False]\n",
      "[Train 086]    [15:36:00]            [15:37:36]         [16:07:36]      [0:01:36]   [False]\n",
      "[Train 087]    [15:42:00]            [15:43:38]         [16:13:38]      [0:01:38]   [False]\n",
      "[Train 088]    [15:48:00]            [15:49:09]         [16:19:10]      [0:01:09]   [False]\n",
      "[Train 089]    [15:54:00]            [15:54:20]         [16:24:23]      [0:00:20]   [False]\n",
      "[Train 090]    [16:00:00]            [16:01:10]         [16:31:10]      [0:01:10]   [False]\n",
      "[Train 091]    [16:06:00]            [16:07:16]         [16:37:16]      [0:01:16]   [False]\n",
      "[Train 092]    [16:12:00]            [16:13:38]         [16:43:38]      [0:01:38]   [False]\n",
      "[Train 093]    [16:18:00]            [16:19:49]         [16:49:49]      [0:01:49]   [False]\n",
      "[Train 094]    [16:24:00]            [16:25:18]         [16:55:25]      [0:01:18]   [False]\n",
      "[Train 095]    [16:30:00]            [16:31:10]         [17:01:10]      [0:01:10]   [False]\n",
      "[Train 096]    [16:36:00]            [16:37:50]         [17:07:50]      [0:01:50]   [False]\n",
      "[Train 097]    [16:42:00]            [16:42:51]         [17:12:56]      [0:00:51]   [False]\n",
      "[Train 098]    [16:48:00]            [16:49:01]         [17:19:06]      [0:01:12]   [True]\n",
      "[Train 099]    [16:54:00]            [16:55:02]         [17:28:20]      [0:04:17]   [True]\n",
      "[Train 100]    [17:00:00]            [17:01:32]         [17:34:53]      [0:04:48]   [True]\n",
      "[Train 101]    [17:06:00]            [17:07:26]         [17:40:46]      [0:04:41]   [True]\n",
      "[Train 102]    [17:12:00]            [17:13:12]         [17:46:37]      [0:04:26]   [True]\n",
      "[Train 103]    [17:18:00]            [17:19:35]         [17:52:59]      [0:04:49]   [True]\n",
      "[Train 104]    [17:24:00]            [17:25:23]         [17:58:45]      [0:04:37]   [True]\n",
      "[Train 105]    [17:30:00]            [17:31:09]         [18:04:34]      [0:04:22]   [True]\n",
      "[Train 106]    [17:36:00]            [17:37:13]         [18:10:33]      [0:04:27]   [True]\n",
      "[Train 107]    [17:42:00]            [17:43:51]         [18:17:02]      [0:05:05]   [True]\n",
      "[Train 108]    [17:48:00]            [17:49:02]         [18:23:14]      [0:04:15]   [True]\n",
      "[Train 109]    [17:54:00]            [17:56:05]         [18:29:15]      [0:05:21]   [True]\n",
      "[Train 110]    [18:00:00]            [18:02:11]         [18:35:27]      [0:05:26]   [True]\n",
      "[Train 111]    [18:06:00]            [18:07:55]         [18:41:20]      [0:05:10]   [True]\n",
      "[Train 112]    [18:12:00]            [18:13:16]         [18:47:17]      [0:04:28]   [True]\n",
      "[Train 113]    [18:18:00]            [18:19:36]         [18:52:55]      [0:04:50]   [True]\n",
      "[Train 114]    [18:24:00]            [18:26:28]         [18:59:38]      [0:05:44]   [True]\n",
      "[Train 115]    [18:30:00]            [18:30:33]         [19:04:53]      [0:03:44]   [True]\n",
      "[Train 116]    [18:36:00]            [18:36:45]         [19:10:24]      [0:03:57]   [True]\n",
      "[Train 117]    [18:42:00]            [18:43:11]         [19:15:24]      [0:02:03]   [True]\n",
      "[Train 118]    [18:48:00]            [18:49:51]         [19:20:05]      [0:01:51]   [False]\n",
      "[Train 119]    [18:54:00]            [18:56:00]         [19:26:00]      [0:02:00]   [False]\n",
      "[Train 120]    [19:00:00]            [19:02:17]         [19:32:17]      [0:02:17]   [False]\n",
      "[Train 121]    [19:06:00]            [19:06:37]         [19:37:17]      [0:00:37]   [False]\n",
      "[Train 122]    [19:12:00]            [19:14:05]         [19:44:05]      [0:02:05]   [False]\n",
      "[Train 123]    [19:18:00]            [19:20:31]         [19:50:31]      [0:02:31]   [False]\n",
      "[Train 124]    [19:24:00]            [19:26:18]         [19:56:18]      [0:02:18]   [False]\n",
      "[Train 125]    [19:30:00]            [19:30:55]         [20:01:06]      [0:00:55]   [False]\n",
      "[Train 126]    [19:36:00]            [19:37:44]         [20:07:44]      [0:01:44]   [False]\n",
      "[Train 127]    [19:42:00]            [19:43:50]         [20:13:50]      [0:01:50]   [False]\n",
      "[Train 128]    [19:48:00]            [19:48:17]         [20:18:31]      [0:00:17]   [False]\n",
      "[Train 129]    [19:54:00]            [19:54:18]         [20:24:18]      [0:00:18]   [False]\n",
      "[Train 130]    [20:00:00]            [20:01:48]         [20:31:48]      [0:01:48]   [False]\n",
      "[Train 131]    [20:06:00]            [20:06:07]         [20:36:24]      [0:00:07]   [False]\n",
      "[Train 132]    [20:12:00]            [20:14:28]         [20:44:28]      [0:02:28]   [False]\n",
      "[Train 133]    [20:18:00]            [20:19:21]         [20:49:43]      [0:01:21]   [False]\n",
      "[Train 134]    [20:24:00]            [20:25:02]         [20:55:10]      [0:01:02]   [False]\n",
      "[Train 135]    [20:30:00]            [20:31:06]         [21:01:06]      [0:01:06]   [False]\n",
      "[Train 136]    [20:36:00]            [20:36:50]         [21:06:50]      [0:00:50]   [False]\n",
      "[Train 137]    [20:42:00]            [20:43:45]         [21:13:45]      [0:01:45]   [False]\n",
      "[Train 138]    [20:48:00]            [20:49:56]         [21:19:56]      [0:01:56]   [False]\n",
      "[Train 139]    [20:54:00]            [20:55:19]         [21:25:30]      [0:01:19]   [False]\n",
      "[Train 140]    [21:00:00]            [21:02:23]         [21:32:23]      [0:02:23]   [False]\n",
      "[Train 141]    [21:06:00]            [21:07:48]         [21:37:49]      [0:01:48]   [False]\n",
      "[Train 142]    [21:12:00]            [21:13:45]         [21:43:45]      [0:01:45]   [False]\n",
      "[Train 143]    [21:18:00]            [21:19:05]         [21:49:07]      [0:01:05]   [False]\n",
      "[Train 144]    [21:24:00]            [21:25:46]         [21:55:46]      [0:01:46]   [False]\n",
      "[Train 145]    [21:30:00]            [21:31:52]         [22:01:52]      [0:01:52]   [False]\n",
      "[Train 146]    [21:36:00]            [21:37:33]         [22:07:33]      [0:01:33]   [False]\n",
      "[Train 147]    [21:42:00]            [21:43:42]         [22:13:42]      [0:01:42]   [False]\n",
      "[Train 148]    [21:48:00]            [21:49:58]         [22:19:58]      [0:01:58]   [False]\n",
      "[Train 149]    [21:54:00]            [21:55:42]         [22:25:42]      [0:01:42]   [False]\n",
      "[Train 150]    [22:00:00]            [22:00:55]         [22:30:58]      [0:00:55]   [False]\n"
     ]
    },
    {
     "data": {
      "text/plain": [
       "(7, 10, 15, 9334.325291416068)"
      ]
     },
     "execution_count": 85,
     "metadata": {},
     "output_type": "execute_result"
    }
   ],
   "source": [
    "hill_climbing(1,10,1,15, introduce_delays = True)"
   ]
  },
  {
   "cell_type": "markdown",
   "metadata": {},
   "source": [
    "# References\n",
    "\n",
    "[1] Yuxiang Yang, Ping Huang, Qiyuan Peng, Jie Li, Chao Wen: Statistical delay distribution analysis on high-speed railway trains. J. Mod. Transport. (2019) 27(3):188–197\n",
    "https://link.springer.com/content/pdf/10.1007/s40534-019-0188-z.pdf"
   ]
  }
 ],
 "metadata": {
  "celltoolbar": "Raw Cell Format",
  "kernelspec": {
   "display_name": "Python 3",
   "language": "python",
   "name": "python3"
  },
  "language_info": {
   "codemirror_mode": {
    "name": "ipython",
    "version": 3
   },
   "file_extension": ".py",
   "mimetype": "text/x-python",
   "name": "python",
   "nbconvert_exporter": "python",
   "pygments_lexer": "ipython3",
   "version": "3.7.4"
  }
 },
 "nbformat": 4,
 "nbformat_minor": 2
}
